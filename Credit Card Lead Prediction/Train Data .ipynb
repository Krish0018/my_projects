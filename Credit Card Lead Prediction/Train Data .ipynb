{
 "cells": [
  {
   "cell_type": "code",
   "execution_count": 1,
   "metadata": {},
   "outputs": [],
   "source": [
    "#importing important libraries\n",
    "import pandas as pd\n",
    "import numpy as np\n",
    "import matplotlib.pyplot as plt\n",
    "import seaborn as sns\n",
    "sns.set()"
   ]
  },
  {
   "cell_type": "code",
   "execution_count": 2,
   "metadata": {},
   "outputs": [],
   "source": [
    "#Loading the train dataset\n",
    "df = pd.read_csv('train_s3TEQDk.csv')"
   ]
  },
  {
   "cell_type": "code",
   "execution_count": 3,
   "metadata": {},
   "outputs": [
    {
     "data": {
      "text/html": [
       "<div>\n",
       "<style scoped>\n",
       "    .dataframe tbody tr th:only-of-type {\n",
       "        vertical-align: middle;\n",
       "    }\n",
       "\n",
       "    .dataframe tbody tr th {\n",
       "        vertical-align: top;\n",
       "    }\n",
       "\n",
       "    .dataframe thead th {\n",
       "        text-align: right;\n",
       "    }\n",
       "</style>\n",
       "<table border=\"1\" class=\"dataframe\">\n",
       "  <thead>\n",
       "    <tr style=\"text-align: right;\">\n",
       "      <th></th>\n",
       "      <th>ID</th>\n",
       "      <th>Gender</th>\n",
       "      <th>Age</th>\n",
       "      <th>Region_Code</th>\n",
       "      <th>Occupation</th>\n",
       "      <th>Channel_Code</th>\n",
       "      <th>Vintage</th>\n",
       "      <th>Credit_Product</th>\n",
       "      <th>Avg_Account_Balance</th>\n",
       "      <th>Is_Active</th>\n",
       "      <th>Is_Lead</th>\n",
       "    </tr>\n",
       "  </thead>\n",
       "  <tbody>\n",
       "    <tr>\n",
       "      <th>0</th>\n",
       "      <td>NNVBBKZB</td>\n",
       "      <td>Female</td>\n",
       "      <td>73</td>\n",
       "      <td>RG268</td>\n",
       "      <td>Other</td>\n",
       "      <td>X3</td>\n",
       "      <td>43</td>\n",
       "      <td>No</td>\n",
       "      <td>1045696</td>\n",
       "      <td>No</td>\n",
       "      <td>0</td>\n",
       "    </tr>\n",
       "    <tr>\n",
       "      <th>1</th>\n",
       "      <td>IDD62UNG</td>\n",
       "      <td>Female</td>\n",
       "      <td>30</td>\n",
       "      <td>RG277</td>\n",
       "      <td>Salaried</td>\n",
       "      <td>X1</td>\n",
       "      <td>32</td>\n",
       "      <td>No</td>\n",
       "      <td>581988</td>\n",
       "      <td>No</td>\n",
       "      <td>0</td>\n",
       "    </tr>\n",
       "    <tr>\n",
       "      <th>2</th>\n",
       "      <td>HD3DSEMC</td>\n",
       "      <td>Female</td>\n",
       "      <td>56</td>\n",
       "      <td>RG268</td>\n",
       "      <td>Self_Employed</td>\n",
       "      <td>X3</td>\n",
       "      <td>26</td>\n",
       "      <td>No</td>\n",
       "      <td>1484315</td>\n",
       "      <td>Yes</td>\n",
       "      <td>0</td>\n",
       "    </tr>\n",
       "    <tr>\n",
       "      <th>3</th>\n",
       "      <td>BF3NC7KV</td>\n",
       "      <td>Male</td>\n",
       "      <td>34</td>\n",
       "      <td>RG270</td>\n",
       "      <td>Salaried</td>\n",
       "      <td>X1</td>\n",
       "      <td>19</td>\n",
       "      <td>No</td>\n",
       "      <td>470454</td>\n",
       "      <td>No</td>\n",
       "      <td>0</td>\n",
       "    </tr>\n",
       "    <tr>\n",
       "      <th>4</th>\n",
       "      <td>TEASRWXV</td>\n",
       "      <td>Female</td>\n",
       "      <td>30</td>\n",
       "      <td>RG282</td>\n",
       "      <td>Salaried</td>\n",
       "      <td>X1</td>\n",
       "      <td>33</td>\n",
       "      <td>No</td>\n",
       "      <td>886787</td>\n",
       "      <td>No</td>\n",
       "      <td>0</td>\n",
       "    </tr>\n",
       "  </tbody>\n",
       "</table>\n",
       "</div>"
      ],
      "text/plain": [
       "         ID  Gender  Age Region_Code     Occupation Channel_Code  Vintage  \\\n",
       "0  NNVBBKZB  Female   73       RG268          Other           X3       43   \n",
       "1  IDD62UNG  Female   30       RG277       Salaried           X1       32   \n",
       "2  HD3DSEMC  Female   56       RG268  Self_Employed           X3       26   \n",
       "3  BF3NC7KV    Male   34       RG270       Salaried           X1       19   \n",
       "4  TEASRWXV  Female   30       RG282       Salaried           X1       33   \n",
       "\n",
       "  Credit_Product  Avg_Account_Balance Is_Active  Is_Lead  \n",
       "0             No              1045696        No        0  \n",
       "1             No               581988        No        0  \n",
       "2             No              1484315       Yes        0  \n",
       "3             No               470454        No        0  \n",
       "4             No               886787        No        0  "
      ]
     },
     "execution_count": 3,
     "metadata": {},
     "output_type": "execute_result"
    }
   ],
   "source": [
    "df.head()"
   ]
  },
  {
   "cell_type": "code",
   "execution_count": 4,
   "metadata": {},
   "outputs": [
    {
     "data": {
      "text/plain": [
       "(245725, 11)"
      ]
     },
     "execution_count": 4,
     "metadata": {},
     "output_type": "execute_result"
    }
   ],
   "source": [
    "df.shape"
   ]
  },
  {
   "cell_type": "code",
   "execution_count": 5,
   "metadata": {},
   "outputs": [
    {
     "name": "stdout",
     "output_type": "stream",
     "text": [
      "<class 'pandas.core.frame.DataFrame'>\n",
      "RangeIndex: 245725 entries, 0 to 245724\n",
      "Data columns (total 11 columns):\n",
      " #   Column               Non-Null Count   Dtype \n",
      "---  ------               --------------   ----- \n",
      " 0   ID                   245725 non-null  object\n",
      " 1   Gender               245725 non-null  object\n",
      " 2   Age                  245725 non-null  int64 \n",
      " 3   Region_Code          245725 non-null  object\n",
      " 4   Occupation           245725 non-null  object\n",
      " 5   Channel_Code         245725 non-null  object\n",
      " 6   Vintage              245725 non-null  int64 \n",
      " 7   Credit_Product       216400 non-null  object\n",
      " 8   Avg_Account_Balance  245725 non-null  int64 \n",
      " 9   Is_Active            245725 non-null  object\n",
      " 10  Is_Lead              245725 non-null  int64 \n",
      "dtypes: int64(4), object(7)\n",
      "memory usage: 20.6+ MB\n"
     ]
    }
   ],
   "source": [
    "#Let's check the info of dataset\n",
    "df.info()"
   ]
  },
  {
   "cell_type": "code",
   "execution_count": 6,
   "metadata": {},
   "outputs": [
    {
     "data": {
      "text/html": [
       "<div>\n",
       "<style scoped>\n",
       "    .dataframe tbody tr th:only-of-type {\n",
       "        vertical-align: middle;\n",
       "    }\n",
       "\n",
       "    .dataframe tbody tr th {\n",
       "        vertical-align: top;\n",
       "    }\n",
       "\n",
       "    .dataframe thead th {\n",
       "        text-align: right;\n",
       "    }\n",
       "</style>\n",
       "<table border=\"1\" class=\"dataframe\">\n",
       "  <thead>\n",
       "    <tr style=\"text-align: right;\">\n",
       "      <th></th>\n",
       "      <th>Age</th>\n",
       "      <th>Vintage</th>\n",
       "      <th>Avg_Account_Balance</th>\n",
       "      <th>Is_Lead</th>\n",
       "    </tr>\n",
       "  </thead>\n",
       "  <tbody>\n",
       "    <tr>\n",
       "      <th>count</th>\n",
       "      <td>245725.000000</td>\n",
       "      <td>245725.000000</td>\n",
       "      <td>2.457250e+05</td>\n",
       "      <td>245725.000000</td>\n",
       "    </tr>\n",
       "    <tr>\n",
       "      <th>mean</th>\n",
       "      <td>43.856307</td>\n",
       "      <td>46.959141</td>\n",
       "      <td>1.128403e+06</td>\n",
       "      <td>0.237208</td>\n",
       "    </tr>\n",
       "    <tr>\n",
       "      <th>std</th>\n",
       "      <td>14.828672</td>\n",
       "      <td>32.353136</td>\n",
       "      <td>8.529364e+05</td>\n",
       "      <td>0.425372</td>\n",
       "    </tr>\n",
       "    <tr>\n",
       "      <th>min</th>\n",
       "      <td>23.000000</td>\n",
       "      <td>7.000000</td>\n",
       "      <td>2.079000e+04</td>\n",
       "      <td>0.000000</td>\n",
       "    </tr>\n",
       "    <tr>\n",
       "      <th>25%</th>\n",
       "      <td>30.000000</td>\n",
       "      <td>20.000000</td>\n",
       "      <td>6.043100e+05</td>\n",
       "      <td>0.000000</td>\n",
       "    </tr>\n",
       "    <tr>\n",
       "      <th>50%</th>\n",
       "      <td>43.000000</td>\n",
       "      <td>32.000000</td>\n",
       "      <td>8.946010e+05</td>\n",
       "      <td>0.000000</td>\n",
       "    </tr>\n",
       "    <tr>\n",
       "      <th>75%</th>\n",
       "      <td>54.000000</td>\n",
       "      <td>73.000000</td>\n",
       "      <td>1.366666e+06</td>\n",
       "      <td>0.000000</td>\n",
       "    </tr>\n",
       "    <tr>\n",
       "      <th>max</th>\n",
       "      <td>85.000000</td>\n",
       "      <td>135.000000</td>\n",
       "      <td>1.035201e+07</td>\n",
       "      <td>1.000000</td>\n",
       "    </tr>\n",
       "  </tbody>\n",
       "</table>\n",
       "</div>"
      ],
      "text/plain": [
       "                 Age        Vintage  Avg_Account_Balance        Is_Lead\n",
       "count  245725.000000  245725.000000         2.457250e+05  245725.000000\n",
       "mean       43.856307      46.959141         1.128403e+06       0.237208\n",
       "std        14.828672      32.353136         8.529364e+05       0.425372\n",
       "min        23.000000       7.000000         2.079000e+04       0.000000\n",
       "25%        30.000000      20.000000         6.043100e+05       0.000000\n",
       "50%        43.000000      32.000000         8.946010e+05       0.000000\n",
       "75%        54.000000      73.000000         1.366666e+06       0.000000\n",
       "max        85.000000     135.000000         1.035201e+07       1.000000"
      ]
     },
     "execution_count": 6,
     "metadata": {},
     "output_type": "execute_result"
    }
   ],
   "source": [
    "# Let's find out the some important stastical parameters of continuos data\n",
    "df.describe()"
   ]
  },
  {
   "cell_type": "code",
   "execution_count": 7,
   "metadata": {},
   "outputs": [
    {
     "data": {
      "text/plain": [
       "ID                         0\n",
       "Gender                     0\n",
       "Age                        0\n",
       "Region_Code                0\n",
       "Occupation                 0\n",
       "Channel_Code               0\n",
       "Vintage                    0\n",
       "Credit_Product         29325\n",
       "Avg_Account_Balance        0\n",
       "Is_Active                  0\n",
       "Is_Lead                    0\n",
       "dtype: int64"
      ]
     },
     "execution_count": 7,
     "metadata": {},
     "output_type": "execute_result"
    }
   ],
   "source": [
    "#let's just check is there any null value. We can check from info, but i'm trying to show seperately.\n",
    "df.isna().sum()"
   ]
  },
  {
   "cell_type": "code",
   "execution_count": 8,
   "metadata": {},
   "outputs": [
    {
     "data": {
      "text/plain": [
       "0.11934072642181301"
      ]
     },
     "execution_count": 8,
     "metadata": {},
     "output_type": "execute_result"
    }
   ],
   "source": [
    "#Let's see how much this Na values in percentage\n",
    "df['Credit_Product'].isna().sum()/len(df)"
   ]
  },
  {
   "cell_type": "code",
   "execution_count": 9,
   "metadata": {},
   "outputs": [
    {
     "name": "stderr",
     "output_type": "stream",
     "text": [
      "c:\\python38\\lib\\site-packages\\seaborn\\_decorators.py:36: FutureWarning: Pass the following variable as a keyword arg: x. From version 0.12, the only valid positional argument will be `data`, and passing other arguments without an explicit keyword will result in an error or misinterpretation.\n",
      "  warnings.warn(\n"
     ]
    },
    {
     "data": {
      "text/plain": [
       "<AxesSubplot:xlabel='Credit_Product', ylabel='count'>"
      ]
     },
     "execution_count": 9,
     "metadata": {},
     "output_type": "execute_result"
    },
    {
     "data": {
      "image/png": "[encoded data removed]",
      "text/plain": [
       "<Figure size 432x288 with 1 Axes>"
      ]
     },
     "metadata": {},
     "output_type": "display_data"
    }
   ],
   "source": [
    "#Now we have 2 options, either we can drop thses Na values or fill it. We will fill these values by mode.\n",
    "sns.countplot(df['Credit_Product'])"
   ]
  },
  {
   "cell_type": "code",
   "execution_count": 10,
   "metadata": {},
   "outputs": [],
   "source": [
    "# from above plot, we can see 'No' is the mode. So we are going to use it.\n",
    "df['Credit_Product'].fillna(df['Credit_Product'].mode()[0], inplace=True)"
   ]
  },
  {
   "cell_type": "code",
   "execution_count": 11,
   "metadata": {},
   "outputs": [
    {
     "data": {
      "text/plain": [
       "0.0"
      ]
     },
     "execution_count": 11,
     "metadata": {},
     "output_type": "execute_result"
    }
   ],
   "source": [
    "df['Credit_Product'].isna().sum()/len(df)"
   ]
  },
  {
   "cell_type": "code",
   "execution_count": 12,
   "metadata": {},
   "outputs": [],
   "source": [
    "# As the first column is ID, which will not help us in the further process, So we'll going to drop it.\n",
    "df = df.drop('ID', axis=1)"
   ]
  },
  {
   "cell_type": "code",
   "execution_count": 13,
   "metadata": {},
   "outputs": [
    {
     "data": {
      "text/html": [
       "<div>\n",
       "<style scoped>\n",
       "    .dataframe tbody tr th:only-of-type {\n",
       "        vertical-align: middle;\n",
       "    }\n",
       "\n",
       "    .dataframe tbody tr th {\n",
       "        vertical-align: top;\n",
       "    }\n",
       "\n",
       "    .dataframe thead th {\n",
       "        text-align: right;\n",
       "    }\n",
       "</style>\n",
       "<table border=\"1\" class=\"dataframe\">\n",
       "  <thead>\n",
       "    <tr style=\"text-align: right;\">\n",
       "      <th></th>\n",
       "      <th>Gender</th>\n",
       "      <th>Age</th>\n",
       "      <th>Region_Code</th>\n",
       "      <th>Occupation</th>\n",
       "      <th>Channel_Code</th>\n",
       "      <th>Vintage</th>\n",
       "      <th>Credit_Product</th>\n",
       "      <th>Avg_Account_Balance</th>\n",
       "      <th>Is_Active</th>\n",
       "      <th>Is_Lead</th>\n",
       "    </tr>\n",
       "  </thead>\n",
       "  <tbody>\n",
       "    <tr>\n",
       "      <th>0</th>\n",
       "      <td>Female</td>\n",
       "      <td>73</td>\n",
       "      <td>RG268</td>\n",
       "      <td>Other</td>\n",
       "      <td>X3</td>\n",
       "      <td>43</td>\n",
       "      <td>No</td>\n",
       "      <td>1045696</td>\n",
       "      <td>No</td>\n",
       "      <td>0</td>\n",
       "    </tr>\n",
       "    <tr>\n",
       "      <th>1</th>\n",
       "      <td>Female</td>\n",
       "      <td>30</td>\n",
       "      <td>RG277</td>\n",
       "      <td>Salaried</td>\n",
       "      <td>X1</td>\n",
       "      <td>32</td>\n",
       "      <td>No</td>\n",
       "      <td>581988</td>\n",
       "      <td>No</td>\n",
       "      <td>0</td>\n",
       "    </tr>\n",
       "    <tr>\n",
       "      <th>2</th>\n",
       "      <td>Female</td>\n",
       "      <td>56</td>\n",
       "      <td>RG268</td>\n",
       "      <td>Self_Employed</td>\n",
       "      <td>X3</td>\n",
       "      <td>26</td>\n",
       "      <td>No</td>\n",
       "      <td>1484315</td>\n",
       "      <td>Yes</td>\n",
       "      <td>0</td>\n",
       "    </tr>\n",
       "    <tr>\n",
       "      <th>3</th>\n",
       "      <td>Male</td>\n",
       "      <td>34</td>\n",
       "      <td>RG270</td>\n",
       "      <td>Salaried</td>\n",
       "      <td>X1</td>\n",
       "      <td>19</td>\n",
       "      <td>No</td>\n",
       "      <td>470454</td>\n",
       "      <td>No</td>\n",
       "      <td>0</td>\n",
       "    </tr>\n",
       "    <tr>\n",
       "      <th>4</th>\n",
       "      <td>Female</td>\n",
       "      <td>30</td>\n",
       "      <td>RG282</td>\n",
       "      <td>Salaried</td>\n",
       "      <td>X1</td>\n",
       "      <td>33</td>\n",
       "      <td>No</td>\n",
       "      <td>886787</td>\n",
       "      <td>No</td>\n",
       "      <td>0</td>\n",
       "    </tr>\n",
       "  </tbody>\n",
       "</table>\n",
       "</div>"
      ],
      "text/plain": [
       "   Gender  Age Region_Code     Occupation Channel_Code  Vintage  \\\n",
       "0  Female   73       RG268          Other           X3       43   \n",
       "1  Female   30       RG277       Salaried           X1       32   \n",
       "2  Female   56       RG268  Self_Employed           X3       26   \n",
       "3    Male   34       RG270       Salaried           X1       19   \n",
       "4  Female   30       RG282       Salaried           X1       33   \n",
       "\n",
       "  Credit_Product  Avg_Account_Balance Is_Active  Is_Lead  \n",
       "0             No              1045696        No        0  \n",
       "1             No               581988        No        0  \n",
       "2             No              1484315       Yes        0  \n",
       "3             No               470454        No        0  \n",
       "4             No               886787        No        0  "
      ]
     },
     "execution_count": 13,
     "metadata": {},
     "output_type": "execute_result"
    }
   ],
   "source": [
    "# Let's check our dataset again\n",
    "df.head()"
   ]
  },
  {
   "cell_type": "markdown",
   "metadata": {},
   "source": [
    "## EDA"
   ]
  },
  {
   "cell_type": "code",
   "execution_count": 14,
   "metadata": {},
   "outputs": [],
   "source": [
    "# Plot the pairplot to get important insights\n",
    "#sns.pairplot(df, hue='Gender')"
   ]
  },
  {
   "cell_type": "code",
   "execution_count": 15,
   "metadata": {},
   "outputs": [
    {
     "name": "stderr",
     "output_type": "stream",
     "text": [
      "c:\\python38\\lib\\site-packages\\seaborn\\distributions.py:2551: FutureWarning: `distplot` is a deprecated function and will be removed in a future version. Please adapt your code to use either `displot` (a figure-level function with similar flexibility) or `histplot` (an axes-level function for histograms).\n",
      "  warnings.warn(msg, FutureWarning)\n"
     ]
    },
    {
     "data": {
      "text/plain": [
       "<AxesSubplot:xlabel='Avg_Account_Balance', ylabel='Density'>"
      ]
     },
     "execution_count": 15,
     "metadata": {},
     "output_type": "execute_result"
    },
    {
     "data": {
      "image/png": "[encoded data removed]",
      "text/plain": [
       "<Figure size 432x288 with 1 Axes>"
      ]
     },
     "metadata": {},
     "output_type": "display_data"
    }
   ],
   "source": [
    "sns.set_style('whitegrid')\n",
    "sns.distplot(df['Avg_Account_Balance'], bins=30)"
   ]
  },
  {
   "cell_type": "markdown",
   "metadata": {},
   "source": [
    "From the above distribution, we can easily find out that the mean maximum people have account balance between 100000 to 200000."
   ]
  },
  {
   "cell_type": "code",
   "execution_count": 16,
   "metadata": {},
   "outputs": [
    {
     "data": {
      "text/plain": [
       "<AxesSubplot:xlabel='Gender', ylabel='Avg_Account_Balance'>"
      ]
     },
     "execution_count": 16,
     "metadata": {},
     "output_type": "execute_result"
    },
    {
     "data": {
      "image/png": "[encoded data removed]",
      "text/plain": [
       "<Figure size 432x288 with 1 Axes>"
      ]
     },
     "metadata": {},
     "output_type": "display_data"
    }
   ],
   "source": [
    "#let's see what bxplot show us\n",
    "sns.boxplot(x='Gender', y='Avg_Account_Balance', data=df)"
   ]
  },
  {
   "cell_type": "code",
   "execution_count": 17,
   "metadata": {},
   "outputs": [
    {
     "data": {
      "text/plain": [
       "array(['RG268', 'RG277', 'RG270', 'RG282', 'RG261', 'RG265', 'RG283',\n",
       "       'RG254', 'RG269', 'RG257', 'RG279', 'RG280', 'RG252', 'RG284',\n",
       "       'RG259', 'RG281', 'RG258', 'RG266', 'RG260', 'RG274', 'RG256',\n",
       "       'RG275', 'RG273', 'RG267', 'RG272', 'RG251', 'RG262', 'RG264',\n",
       "       'RG278', 'RG276', 'RG263', 'RG250', 'RG255', 'RG253', 'RG271'],\n",
       "      dtype=object)"
      ]
     },
     "execution_count": 17,
     "metadata": {},
     "output_type": "execute_result"
    }
   ],
   "source": [
    "#Let's check uniqe values in Region Code\n",
    "df['Region_Code'].unique()"
   ]
  },
  {
   "cell_type": "code",
   "execution_count": 18,
   "metadata": {},
   "outputs": [
    {
     "data": {
      "text/plain": [
       "array([73, 30, 56, 34, 62, 48, 40, 55, 53, 27, 31, 79, 33, 46, 59, 65, 37,\n",
       "       44, 32, 50, 70, 25, 52, 26, 67, 29, 41, 49, 63, 61, 64, 60, 76, 57,\n",
       "       36, 28, 58, 43, 35, 71, 82, 45, 42, 54, 47, 78, 51, 68, 83, 39, 84,\n",
       "       24, 38, 74, 81, 69, 75, 85, 66, 80, 72, 77, 23], dtype=int64)"
      ]
     },
     "execution_count": 18,
     "metadata": {},
     "output_type": "execute_result"
    }
   ],
   "source": [
    "#Let's check same with Age\n",
    "df['Age'].unique()"
   ]
  },
  {
   "cell_type": "code",
   "execution_count": 19,
   "metadata": {},
   "outputs": [
    {
     "name": "stdout",
     "output_type": "stream",
     "text": [
      "The unique values of Channel Code are:  ['X3' 'X1' 'X2' 'X4']\n",
      "The unique values of Vintage are:  [ 43  32  26  19  33  20  13  38  49 123  14  31  57  69  97  15  63  21\n",
      "  99  56  87  62  55 103 104  93  61  91  27  39  50  45  25 117  80  81\n",
      "  73  67 109  92 122  75  79 121 111 116  85 115  86  37  74 110  44   9\n",
      "  68  51  98 105 127 129 133   8   7 128 135 134]\n",
      "The unique values of Is_Active are:  ['No' 'Yes']\n"
     ]
    }
   ],
   "source": [
    "print('The unique values of Channel Code are: ',df['Channel_Code'].unique())\n",
    "print('The unique values of Vintage are: ',df['Vintage'].unique())\n",
    "print('The unique values of Is_Active are: ',df['Is_Active'].unique())"
   ]
  },
  {
   "cell_type": "code",
   "execution_count": 20,
   "metadata": {},
   "outputs": [
    {
     "name": "stderr",
     "output_type": "stream",
     "text": [
      "c:\\python38\\lib\\site-packages\\seaborn\\_decorators.py:36: FutureWarning: Pass the following variable as a keyword arg: x. From version 0.12, the only valid positional argument will be `data`, and passing other arguments without an explicit keyword will result in an error or misinterpretation.\n",
      "  warnings.warn(\n"
     ]
    },
    {
     "data": {
      "text/plain": [
       "<AxesSubplot:xlabel='Channel_Code', ylabel='count'>"
      ]
     },
     "execution_count": 20,
     "metadata": {},
     "output_type": "execute_result"
    },
    {
     "data": {
      "image/png": "[encoded data removed]",
      "text/plain": [
       "<Figure size 432x288 with 1 Axes>"
      ]
     },
     "metadata": {},
     "output_type": "display_data"
    }
   ],
   "source": [
    "#countplot to see the value count of Categorical feature\n",
    "sns.countplot(df['Channel_Code'])"
   ]
  },
  {
   "cell_type": "code",
   "execution_count": 21,
   "metadata": {},
   "outputs": [
    {
     "name": "stderr",
     "output_type": "stream",
     "text": [
      "c:\\python38\\lib\\site-packages\\seaborn\\_decorators.py:36: FutureWarning: Pass the following variable as a keyword arg: x. From version 0.12, the only valid positional argument will be `data`, and passing other arguments without an explicit keyword will result in an error or misinterpretation.\n",
      "  warnings.warn(\n"
     ]
    },
    {
     "data": {
      "text/plain": [
       "<AxesSubplot:xlabel='Occupation', ylabel='count'>"
      ]
     },
     "execution_count": 21,
     "metadata": {},
     "output_type": "execute_result"
    },
    {
     "data": {
      "image/png": "[encoded data removed]",
      "text/plain": [
       "<Figure size 432x288 with 1 Axes>"
      ]
     },
     "metadata": {},
     "output_type": "display_data"
    }
   ],
   "source": [
    "sns.countplot(df['Occupation'])"
   ]
  },
  {
   "cell_type": "code",
   "execution_count": 22,
   "metadata": {},
   "outputs": [
    {
     "name": "stderr",
     "output_type": "stream",
     "text": [
      "c:\\python38\\lib\\site-packages\\seaborn\\_decorators.py:36: FutureWarning: Pass the following variable as a keyword arg: x. From version 0.12, the only valid positional argument will be `data`, and passing other arguments without an explicit keyword will result in an error or misinterpretation.\n",
      "  warnings.warn(\n"
     ]
    },
    {
     "data": {
      "text/plain": [
       "<AxesSubplot:xlabel='Credit_Product', ylabel='count'>"
      ]
     },
     "execution_count": 22,
     "metadata": {},
     "output_type": "execute_result"
    },
    {
     "data": {
      "image/png": "[encoded data removed]",
      "text/plain": [
       "<Figure size 432x288 with 1 Axes>"
      ]
     },
     "metadata": {},
     "output_type": "display_data"
    }
   ],
   "source": [
    "sns.countplot(df['Credit_Product'])"
   ]
  },
  {
   "cell_type": "code",
   "execution_count": 23,
   "metadata": {},
   "outputs": [
    {
     "name": "stderr",
     "output_type": "stream",
     "text": [
      "c:\\python38\\lib\\site-packages\\seaborn\\_decorators.py:36: FutureWarning: Pass the following variable as a keyword arg: x. From version 0.12, the only valid positional argument will be `data`, and passing other arguments without an explicit keyword will result in an error or misinterpretation.\n",
      "  warnings.warn(\n"
     ]
    },
    {
     "data": {
      "text/plain": [
       "<AxesSubplot:xlabel='Is_Active', ylabel='count'>"
      ]
     },
     "execution_count": 23,
     "metadata": {},
     "output_type": "execute_result"
    },
    {
     "data": {
      "image/png": "[encoded data removed]",
      "text/plain": [
       "<Figure size 432x288 with 1 Axes>"
      ]
     },
     "metadata": {},
     "output_type": "display_data"
    }
   ],
   "source": [
    "sns.countplot(df['Is_Active'])"
   ]
  },
  {
   "cell_type": "markdown",
   "metadata": {},
   "source": [
    "## Feature Engineering"
   ]
  },
  {
   "cell_type": "code",
   "execution_count": 24,
   "metadata": {},
   "outputs": [],
   "source": [
    "#Let's create dummy for categorical values\n",
    "dummy1 = pd.get_dummies(df['Gender'], drop_first=True)\n",
    "dummy2 = pd.get_dummies(df['Occupation'], drop_first=False)\n",
    "dummy3 = pd.get_dummies(df['Channel_Code'], drop_first=False)\n",
    "dummy4 = pd.get_dummies(df['Credit_Product'], drop_first=False)"
   ]
  },
  {
   "cell_type": "code",
   "execution_count": 25,
   "metadata": {},
   "outputs": [],
   "source": [
    "#Renaming the column to prevent creating duplcate\n",
    "dummy4 = dummy4.rename(columns={'Yes':'Cr_yes', 'No':'Cr_No'})"
   ]
  },
  {
   "cell_type": "code",
   "execution_count": 26,
   "metadata": {},
   "outputs": [],
   "source": [
    "dummy5 = pd.get_dummies(df['Is_Active'], drop_first=False)"
   ]
  },
  {
   "cell_type": "code",
   "execution_count": 27,
   "metadata": {},
   "outputs": [],
   "source": [
    "#Now drop the original coulmns and also the irrelevant column\n",
    "df = df.drop(['Gender','Region_Code','Occupation','Channel_Code','Credit_Product','Is_Active'], axis=1)"
   ]
  },
  {
   "cell_type": "code",
   "execution_count": 28,
   "metadata": {},
   "outputs": [],
   "source": [
    "#Now Concate all these dummies with dataframe\n",
    "New_df = pd.concat([df,dummy1,dummy2,dummy3,dummy4,dummy5], axis=1)"
   ]
  },
  {
   "cell_type": "code",
   "execution_count": 29,
   "metadata": {},
   "outputs": [
    {
     "data": {
      "text/plain": [
       "Index(['Age', 'Vintage', 'Avg_Account_Balance', 'Is_Lead', 'Male',\n",
       "       'Entrepreneur', 'Other', 'Salaried', 'Self_Employed', 'X1', 'X2', 'X3',\n",
       "       'X4', 'Cr_No', 'Cr_yes', 'No', 'Yes'],\n",
       "      dtype='object')"
      ]
     },
     "execution_count": 29,
     "metadata": {},
     "output_type": "execute_result"
    }
   ],
   "source": [
    "New_df.columns"
   ]
  },
  {
   "cell_type": "code",
   "execution_count": 30,
   "metadata": {},
   "outputs": [],
   "source": [
    "#Set the column in order\n",
    "New_df = New_df[['Age', 'Vintage', 'Avg_Account_Balance', 'Male',\n",
    "       'Entrepreneur', 'Other', 'Salaried', 'Self_Employed', 'X1', 'X2', 'X3',\n",
    "       'X4', 'Cr_No', 'Cr_yes', 'No', 'Yes', 'Is_Lead',]]"
   ]
  },
  {
   "cell_type": "code",
   "execution_count": 31,
   "metadata": {},
   "outputs": [
    {
     "data": {
      "text/html": [
       "<div>\n",
       "<style scoped>\n",
       "    .dataframe tbody tr th:only-of-type {\n",
       "        vertical-align: middle;\n",
       "    }\n",
       "\n",
       "    .dataframe tbody tr th {\n",
       "        vertical-align: top;\n",
       "    }\n",
       "\n",
       "    .dataframe thead th {\n",
       "        text-align: right;\n",
       "    }\n",
       "</style>\n",
       "<table border=\"1\" class=\"dataframe\">\n",
       "  <thead>\n",
       "    <tr style=\"text-align: right;\">\n",
       "      <th></th>\n",
       "      <th>Age</th>\n",
       "      <th>Vintage</th>\n",
       "      <th>Avg_Account_Balance</th>\n",
       "      <th>Male</th>\n",
       "      <th>Entrepreneur</th>\n",
       "      <th>Other</th>\n",
       "      <th>Salaried</th>\n",
       "      <th>Self_Employed</th>\n",
       "      <th>X1</th>\n",
       "      <th>X2</th>\n",
       "      <th>X3</th>\n",
       "      <th>X4</th>\n",
       "      <th>Cr_No</th>\n",
       "      <th>Cr_yes</th>\n",
       "      <th>No</th>\n",
       "      <th>Yes</th>\n",
       "      <th>Is_Lead</th>\n",
       "    </tr>\n",
       "  </thead>\n",
       "  <tbody>\n",
       "    <tr>\n",
       "      <th>0</th>\n",
       "      <td>73</td>\n",
       "      <td>43</td>\n",
       "      <td>1045696</td>\n",
       "      <td>0</td>\n",
       "      <td>0</td>\n",
       "      <td>1</td>\n",
       "      <td>0</td>\n",
       "      <td>0</td>\n",
       "      <td>0</td>\n",
       "      <td>0</td>\n",
       "      <td>1</td>\n",
       "      <td>0</td>\n",
       "      <td>1</td>\n",
       "      <td>0</td>\n",
       "      <td>1</td>\n",
       "      <td>0</td>\n",
       "      <td>0</td>\n",
       "    </tr>\n",
       "    <tr>\n",
       "      <th>1</th>\n",
       "      <td>30</td>\n",
       "      <td>32</td>\n",
       "      <td>581988</td>\n",
       "      <td>0</td>\n",
       "      <td>0</td>\n",
       "      <td>0</td>\n",
       "      <td>1</td>\n",
       "      <td>0</td>\n",
       "      <td>1</td>\n",
       "      <td>0</td>\n",
       "      <td>0</td>\n",
       "      <td>0</td>\n",
       "      <td>1</td>\n",
       "      <td>0</td>\n",
       "      <td>1</td>\n",
       "      <td>0</td>\n",
       "      <td>0</td>\n",
       "    </tr>\n",
       "    <tr>\n",
       "      <th>2</th>\n",
       "      <td>56</td>\n",
       "      <td>26</td>\n",
       "      <td>1484315</td>\n",
       "      <td>0</td>\n",
       "      <td>0</td>\n",
       "      <td>0</td>\n",
       "      <td>0</td>\n",
       "      <td>1</td>\n",
       "      <td>0</td>\n",
       "      <td>0</td>\n",
       "      <td>1</td>\n",
       "      <td>0</td>\n",
       "      <td>1</td>\n",
       "      <td>0</td>\n",
       "      <td>0</td>\n",
       "      <td>1</td>\n",
       "      <td>0</td>\n",
       "    </tr>\n",
       "    <tr>\n",
       "      <th>3</th>\n",
       "      <td>34</td>\n",
       "      <td>19</td>\n",
       "      <td>470454</td>\n",
       "      <td>1</td>\n",
       "      <td>0</td>\n",
       "      <td>0</td>\n",
       "      <td>1</td>\n",
       "      <td>0</td>\n",
       "      <td>1</td>\n",
       "      <td>0</td>\n",
       "      <td>0</td>\n",
       "      <td>0</td>\n",
       "      <td>1</td>\n",
       "      <td>0</td>\n",
       "      <td>1</td>\n",
       "      <td>0</td>\n",
       "      <td>0</td>\n",
       "    </tr>\n",
       "    <tr>\n",
       "      <th>4</th>\n",
       "      <td>30</td>\n",
       "      <td>33</td>\n",
       "      <td>886787</td>\n",
       "      <td>0</td>\n",
       "      <td>0</td>\n",
       "      <td>0</td>\n",
       "      <td>1</td>\n",
       "      <td>0</td>\n",
       "      <td>1</td>\n",
       "      <td>0</td>\n",
       "      <td>0</td>\n",
       "      <td>0</td>\n",
       "      <td>1</td>\n",
       "      <td>0</td>\n",
       "      <td>1</td>\n",
       "      <td>0</td>\n",
       "      <td>0</td>\n",
       "    </tr>\n",
       "  </tbody>\n",
       "</table>\n",
       "</div>"
      ],
      "text/plain": [
       "   Age  Vintage  Avg_Account_Balance  Male  Entrepreneur  Other  Salaried  \\\n",
       "0   73       43              1045696     0             0      1         0   \n",
       "1   30       32               581988     0             0      0         1   \n",
       "2   56       26              1484315     0             0      0         0   \n",
       "3   34       19               470454     1             0      0         1   \n",
       "4   30       33               886787     0             0      0         1   \n",
       "\n",
       "   Self_Employed  X1  X2  X3  X4  Cr_No  Cr_yes  No  Yes  Is_Lead  \n",
       "0              0   0   0   1   0      1       0   1    0        0  \n",
       "1              0   1   0   0   0      1       0   1    0        0  \n",
       "2              1   0   0   1   0      1       0   0    1        0  \n",
       "3              0   1   0   0   0      1       0   1    0        0  \n",
       "4              0   1   0   0   0      1       0   1    0        0  "
      ]
     },
     "execution_count": 31,
     "metadata": {},
     "output_type": "execute_result"
    }
   ],
   "source": [
    "New_df.head()"
   ]
  },
  {
   "cell_type": "markdown",
   "metadata": {},
   "source": [
    "## Train Test Split"
   ]
  },
  {
   "cell_type": "code",
   "execution_count": 32,
   "metadata": {},
   "outputs": [],
   "source": [
    "from sklearn.model_selection import train_test_split"
   ]
  },
  {
   "cell_type": "code",
   "execution_count": 33,
   "metadata": {},
   "outputs": [],
   "source": [
    "#Let's devide the data into X(independent varible) and y(dependent variable)\n",
    "X = New_df.drop('Is_Lead', axis=1)\n",
    "y = New_df['Is_Lead']"
   ]
  },
  {
   "cell_type": "code",
   "execution_count": 34,
   "metadata": {},
   "outputs": [],
   "source": [
    "X_train, X_test, y_train, y_test = train_test_split(X, y, test_size=0.25, random_state=101)"
   ]
  },
  {
   "cell_type": "markdown",
   "metadata": {},
   "source": [
    "## Model Creation, Training and Prediction"
   ]
  },
  {
   "cell_type": "code",
   "execution_count": 35,
   "metadata": {},
   "outputs": [],
   "source": [
    "#from sklearn.ensemble import RandomForestClassifier"
   ]
  },
  {
   "cell_type": "code",
   "execution_count": 36,
   "metadata": {},
   "outputs": [],
   "source": [
    "#model = RandomForestClassifier(n_estimators=500, max_depth=20, min_samples_split=5, min_samples_leaf=2)"
   ]
  },
  {
   "cell_type": "code",
   "execution_count": 37,
   "metadata": {},
   "outputs": [],
   "source": [
    "#model.fit(X_train,y_train)"
   ]
  },
  {
   "cell_type": "code",
   "execution_count": 38,
   "metadata": {},
   "outputs": [],
   "source": [
    "#prediction = model.predict(X_test)"
   ]
  },
  {
   "cell_type": "markdown",
   "metadata": {},
   "source": [
    "## Accuracy, Precision and Recall of model"
   ]
  },
  {
   "cell_type": "code",
   "execution_count": 39,
   "metadata": {},
   "outputs": [],
   "source": [
    "from sklearn.metrics import confusion_matrix, classification_report"
   ]
  },
  {
   "cell_type": "code",
   "execution_count": 40,
   "metadata": {},
   "outputs": [],
   "source": [
    "# #print(confusion_matrix(y_test,prediction))\n",
    "# print('\\n')\n",
    "# print(classification_report(y_test,prediction))"
   ]
  },
  {
   "cell_type": "markdown",
   "metadata": {},
   "source": [
    "## XGBoost Classifier"
   ]
  },
  {
   "cell_type": "code",
   "execution_count": 41,
   "metadata": {},
   "outputs": [],
   "source": [
    "from xgboost import XGBClassifier"
   ]
  },
  {
   "cell_type": "code",
   "execution_count": 42,
   "metadata": {},
   "outputs": [],
   "source": [
    "xgb_model = XGBClassifier()"
   ]
  },
  {
   "cell_type": "code",
   "execution_count": 43,
   "metadata": {},
   "outputs": [
    {
     "name": "stderr",
     "output_type": "stream",
     "text": [
      "c:\\python38\\lib\\site-packages\\xgboost\\sklearn.py:1146: UserWarning: The use of label encoder in XGBClassifier is deprecated and will be removed in a future release. To remove this warning, do the following: 1) Pass option use_label_encoder=False when constructing XGBClassifier object; and 2) Encode your labels (y) as integers starting with 0, i.e. 0, 1, 2, ..., [num_class - 1].\n",
      "  warnings.warn(label_encoder_deprecation_msg, UserWarning)\n"
     ]
    },
    {
     "name": "stdout",
     "output_type": "stream",
     "text": [
      "[13:53:16] WARNING: C:/Users/Administrator/workspace/xgboost-win64_release_1.4.0/src/learner.cc:1095: Starting in XGBoost 1.3.0, the default evaluation metric used with the objective 'binary:logistic' was changed from 'error' to 'logloss'. Explicitly set eval_metric if you'd like to restore the old behavior.\n"
     ]
    },
    {
     "data": {
      "text/plain": [
       "XGBClassifier(base_score=0.5, booster='gbtree', colsample_bylevel=1,\n",
       "              colsample_bynode=1, colsample_bytree=1, gamma=0, gpu_id=-1,\n",
       "              importance_type='gain', interaction_constraints='',\n",
       "              learning_rate=0.300000012, max_delta_step=0, max_depth=6,\n",
       "              min_child_weight=1, missing=nan, monotone_constraints='()',\n",
       "              n_estimators=100, n_jobs=8, num_parallel_tree=1, random_state=0,\n",
       "              reg_alpha=0, reg_lambda=1, scale_pos_weight=1, subsample=1,\n",
       "              tree_method='exact', validate_parameters=1, verbosity=None)"
      ]
     },
     "execution_count": 43,
     "metadata": {},
     "output_type": "execute_result"
    }
   ],
   "source": [
    "xgb_model.fit(X_train, y_train)"
   ]
  },
  {
   "cell_type": "code",
   "execution_count": 44,
   "metadata": {},
   "outputs": [],
   "source": [
    "pred = xgb_model.predict(X_test)"
   ]
  },
  {
   "cell_type": "code",
   "execution_count": 45,
   "metadata": {},
   "outputs": [
    {
     "name": "stdout",
     "output_type": "stream",
     "text": [
      "[[44504  2242]\n",
      " [10572  4114]]\n",
      "\n",
      "\n",
      "              precision    recall  f1-score   support\n",
      "\n",
      "           0       0.81      0.95      0.87     46746\n",
      "           1       0.65      0.28      0.39     14686\n",
      "\n",
      "    accuracy                           0.79     61432\n",
      "   macro avg       0.73      0.62      0.63     61432\n",
      "weighted avg       0.77      0.79      0.76     61432\n",
      "\n"
     ]
    }
   ],
   "source": [
    "print(confusion_matrix(y_test,pred))\n",
    "print('\\n')\n",
    "print(classification_report(y_test,pred))"
   ]
  },
  {
   "cell_type": "markdown",
   "metadata": {},
   "source": [
    "## CatBoost Classifier"
   ]
  },
  {
   "cell_type": "code",
   "execution_count": 46,
   "metadata": {},
   "outputs": [],
   "source": [
    "from catboost import CatBoostClassifier"
   ]
  },
  {
   "cell_type": "code",
   "execution_count": 47,
   "metadata": {},
   "outputs": [],
   "source": [
    "cat = CatBoostClassifier(iterations=1000, learning_rate=0.3)"
   ]
  },
  {
   "cell_type": "code",
   "execution_count": 48,
   "metadata": {},
   "outputs": [
    {
     "name": "stdout",
     "output_type": "stream",
     "text": [
      "0:\tlearn: 0.5560065\ttotal: 265ms\tremaining: 4m 24s\n",
      "1:\tlearn: 0.4988835\ttotal: 317ms\tremaining: 2m 38s\n",
      "2:\tlearn: 0.4743209\ttotal: 359ms\tremaining: 1m 59s\n",
      "3:\tlearn: 0.4610070\ttotal: 398ms\tremaining: 1m 39s\n",
      "4:\tlearn: 0.4546144\ttotal: 435ms\tremaining: 1m 26s\n",
      "5:\tlearn: 0.4509704\ttotal: 479ms\tremaining: 1m 19s\n",
      "6:\tlearn: 0.4473579\ttotal: 536ms\tremaining: 1m 15s\n",
      "7:\tlearn: 0.4457710\ttotal: 574ms\tremaining: 1m 11s\n",
      "8:\tlearn: 0.4442204\ttotal: 622ms\tremaining: 1m 8s\n",
      "9:\tlearn: 0.4429537\ttotal: 668ms\tremaining: 1m 6s\n",
      "10:\tlearn: 0.4420557\ttotal: 720ms\tremaining: 1m 4s\n",
      "11:\tlearn: 0.4416317\ttotal: 759ms\tremaining: 1m 2s\n",
      "12:\tlearn: 0.4412908\ttotal: 795ms\tremaining: 1m\n",
      "13:\tlearn: 0.4408149\ttotal: 841ms\tremaining: 59.2s\n",
      "14:\tlearn: 0.4405869\ttotal: 884ms\tremaining: 58s\n",
      "15:\tlearn: 0.4400712\ttotal: 937ms\tremaining: 57.6s\n",
      "16:\tlearn: 0.4398172\ttotal: 976ms\tremaining: 56.4s\n",
      "17:\tlearn: 0.4394715\ttotal: 1.02s\tremaining: 55.7s\n",
      "18:\tlearn: 0.4392649\ttotal: 1.07s\tremaining: 55.1s\n",
      "19:\tlearn: 0.4390545\ttotal: 1.12s\tremaining: 54.7s\n",
      "20:\tlearn: 0.4389082\ttotal: 1.17s\tremaining: 54.7s\n",
      "21:\tlearn: 0.4387999\ttotal: 1.22s\tremaining: 54.3s\n",
      "22:\tlearn: 0.4386129\ttotal: 1.27s\tremaining: 53.9s\n",
      "23:\tlearn: 0.4385230\ttotal: 1.31s\tremaining: 53.3s\n",
      "24:\tlearn: 0.4383685\ttotal: 1.37s\tremaining: 53.4s\n",
      "25:\tlearn: 0.4382551\ttotal: 1.42s\tremaining: 53.2s\n",
      "26:\tlearn: 0.4381192\ttotal: 1.46s\tremaining: 52.7s\n",
      "27:\tlearn: 0.4377418\ttotal: 1.51s\tremaining: 52.3s\n",
      "28:\tlearn: 0.4376205\ttotal: 1.56s\tremaining: 52.1s\n",
      "29:\tlearn: 0.4375347\ttotal: 1.61s\tremaining: 52s\n",
      "30:\tlearn: 0.4372783\ttotal: 1.66s\tremaining: 51.7s\n",
      "31:\tlearn: 0.4371606\ttotal: 1.7s\tremaining: 51.4s\n",
      "32:\tlearn: 0.4371086\ttotal: 1.75s\tremaining: 51.4s\n",
      "33:\tlearn: 0.4370073\ttotal: 1.79s\tremaining: 50.9s\n",
      "34:\tlearn: 0.4369349\ttotal: 1.85s\tremaining: 50.9s\n",
      "35:\tlearn: 0.4368326\ttotal: 1.89s\tremaining: 50.7s\n",
      "36:\tlearn: 0.4367442\ttotal: 1.94s\tremaining: 50.6s\n",
      "37:\tlearn: 0.4366047\ttotal: 1.99s\tremaining: 50.4s\n",
      "38:\tlearn: 0.4364173\ttotal: 2.04s\tremaining: 50.3s\n",
      "39:\tlearn: 0.4363126\ttotal: 2.11s\tremaining: 50.6s\n",
      "40:\tlearn: 0.4362459\ttotal: 2.16s\tremaining: 50.6s\n",
      "41:\tlearn: 0.4361785\ttotal: 2.21s\tremaining: 50.4s\n",
      "42:\tlearn: 0.4361065\ttotal: 2.26s\tremaining: 50.3s\n",
      "43:\tlearn: 0.4360323\ttotal: 2.31s\tremaining: 50.3s\n",
      "44:\tlearn: 0.4359472\ttotal: 2.38s\tremaining: 50.4s\n",
      "45:\tlearn: 0.4358731\ttotal: 2.44s\tremaining: 50.5s\n",
      "46:\tlearn: 0.4357690\ttotal: 2.49s\tremaining: 50.6s\n",
      "47:\tlearn: 0.4356977\ttotal: 2.56s\tremaining: 50.7s\n",
      "48:\tlearn: 0.4354359\ttotal: 2.61s\tremaining: 50.6s\n",
      "49:\tlearn: 0.4353264\ttotal: 2.65s\tremaining: 50.4s\n",
      "50:\tlearn: 0.4352042\ttotal: 2.71s\tremaining: 50.4s\n",
      "51:\tlearn: 0.4351096\ttotal: 2.76s\tremaining: 50.4s\n",
      "52:\tlearn: 0.4350217\ttotal: 2.81s\tremaining: 50.1s\n",
      "53:\tlearn: 0.4349279\ttotal: 2.85s\tremaining: 49.9s\n",
      "54:\tlearn: 0.4348534\ttotal: 2.89s\tremaining: 49.6s\n",
      "55:\tlearn: 0.4347718\ttotal: 2.94s\tremaining: 49.5s\n",
      "56:\tlearn: 0.4347019\ttotal: 2.99s\tremaining: 49.5s\n",
      "57:\tlearn: 0.4346185\ttotal: 3.05s\tremaining: 49.5s\n",
      "58:\tlearn: 0.4345355\ttotal: 3.1s\tremaining: 49.4s\n",
      "59:\tlearn: 0.4344657\ttotal: 3.14s\tremaining: 49.3s\n",
      "60:\tlearn: 0.4343908\ttotal: 3.2s\tremaining: 49.3s\n",
      "61:\tlearn: 0.4342843\ttotal: 3.25s\tremaining: 49.2s\n",
      "62:\tlearn: 0.4342160\ttotal: 3.3s\tremaining: 49.1s\n",
      "63:\tlearn: 0.4341426\ttotal: 3.34s\tremaining: 48.9s\n",
      "64:\tlearn: 0.4340742\ttotal: 3.39s\tremaining: 48.8s\n",
      "65:\tlearn: 0.4340346\ttotal: 3.45s\tremaining: 48.8s\n",
      "66:\tlearn: 0.4339499\ttotal: 3.5s\tremaining: 48.7s\n",
      "67:\tlearn: 0.4338994\ttotal: 3.55s\tremaining: 48.6s\n",
      "68:\tlearn: 0.4338385\ttotal: 3.6s\tremaining: 48.6s\n",
      "69:\tlearn: 0.4337731\ttotal: 3.65s\tremaining: 48.5s\n",
      "70:\tlearn: 0.4336778\ttotal: 3.7s\tremaining: 48.4s\n",
      "71:\tlearn: 0.4336196\ttotal: 3.74s\tremaining: 48.3s\n",
      "72:\tlearn: 0.4335226\ttotal: 3.8s\tremaining: 48.3s\n",
      "73:\tlearn: 0.4334491\ttotal: 3.85s\tremaining: 48.1s\n",
      "74:\tlearn: 0.4333809\ttotal: 3.89s\tremaining: 48s\n",
      "75:\tlearn: 0.4333176\ttotal: 3.94s\tremaining: 47.9s\n",
      "76:\tlearn: 0.4331986\ttotal: 3.99s\tremaining: 47.8s\n",
      "77:\tlearn: 0.4331204\ttotal: 4.04s\tremaining: 47.8s\n",
      "78:\tlearn: 0.4330317\ttotal: 4.09s\tremaining: 47.8s\n",
      "79:\tlearn: 0.4329601\ttotal: 4.15s\tremaining: 47.7s\n",
      "80:\tlearn: 0.4329100\ttotal: 4.21s\tremaining: 47.7s\n",
      "81:\tlearn: 0.4328297\ttotal: 4.26s\tremaining: 47.7s\n",
      "82:\tlearn: 0.4327521\ttotal: 4.3s\tremaining: 47.6s\n",
      "83:\tlearn: 0.4326709\ttotal: 4.35s\tremaining: 47.5s\n",
      "84:\tlearn: 0.4326080\ttotal: 4.41s\tremaining: 47.4s\n",
      "85:\tlearn: 0.4325048\ttotal: 4.45s\tremaining: 47.3s\n",
      "86:\tlearn: 0.4323889\ttotal: 4.5s\tremaining: 47.2s\n",
      "87:\tlearn: 0.4323457\ttotal: 4.55s\tremaining: 47.1s\n",
      "88:\tlearn: 0.4322970\ttotal: 4.61s\tremaining: 47.2s\n",
      "89:\tlearn: 0.4321938\ttotal: 4.66s\tremaining: 47.1s\n",
      "90:\tlearn: 0.4321320\ttotal: 4.7s\tremaining: 47s\n",
      "91:\tlearn: 0.4320662\ttotal: 4.75s\tremaining: 46.9s\n",
      "92:\tlearn: 0.4320167\ttotal: 4.8s\tremaining: 46.9s\n",
      "93:\tlearn: 0.4319383\ttotal: 4.85s\tremaining: 46.8s\n",
      "94:\tlearn: 0.4318725\ttotal: 4.89s\tremaining: 46.6s\n",
      "95:\tlearn: 0.4318227\ttotal: 4.94s\tremaining: 46.5s\n",
      "96:\tlearn: 0.4317631\ttotal: 4.99s\tremaining: 46.5s\n",
      "97:\tlearn: 0.4317181\ttotal: 5.04s\tremaining: 46.4s\n",
      "98:\tlearn: 0.4316399\ttotal: 5.09s\tremaining: 46.4s\n",
      "99:\tlearn: 0.4315923\ttotal: 5.14s\tremaining: 46.3s\n",
      "100:\tlearn: 0.4315371\ttotal: 5.19s\tremaining: 46.2s\n",
      "101:\tlearn: 0.4314791\ttotal: 5.24s\tremaining: 46.1s\n",
      "102:\tlearn: 0.4314356\ttotal: 5.28s\tremaining: 46s\n",
      "103:\tlearn: 0.4313717\ttotal: 5.33s\tremaining: 45.9s\n",
      "104:\tlearn: 0.4313089\ttotal: 5.38s\tremaining: 45.9s\n",
      "105:\tlearn: 0.4312549\ttotal: 5.43s\tremaining: 45.8s\n",
      "106:\tlearn: 0.4311915\ttotal: 5.48s\tremaining: 45.7s\n",
      "107:\tlearn: 0.4311242\ttotal: 5.52s\tremaining: 45.6s\n",
      "108:\tlearn: 0.4310513\ttotal: 5.58s\tremaining: 45.6s\n",
      "109:\tlearn: 0.4309733\ttotal: 5.63s\tremaining: 45.5s\n",
      "110:\tlearn: 0.4309052\ttotal: 5.68s\tremaining: 45.5s\n",
      "111:\tlearn: 0.4308315\ttotal: 5.73s\tremaining: 45.4s\n",
      "112:\tlearn: 0.4307745\ttotal: 5.78s\tremaining: 45.4s\n",
      "113:\tlearn: 0.4307069\ttotal: 5.82s\tremaining: 45.2s\n",
      "114:\tlearn: 0.4306404\ttotal: 5.87s\tremaining: 45.1s\n",
      "115:\tlearn: 0.4305776\ttotal: 5.91s\tremaining: 45s\n",
      "116:\tlearn: 0.4305110\ttotal: 5.97s\tremaining: 45s\n",
      "117:\tlearn: 0.4304548\ttotal: 6.01s\tremaining: 44.9s\n",
      "118:\tlearn: 0.4304135\ttotal: 6.06s\tremaining: 44.9s\n",
      "119:\tlearn: 0.4303643\ttotal: 6.11s\tremaining: 44.8s\n",
      "120:\tlearn: 0.4302751\ttotal: 6.16s\tremaining: 44.7s\n",
      "121:\tlearn: 0.4301965\ttotal: 6.2s\tremaining: 44.6s\n",
      "122:\tlearn: 0.4301306\ttotal: 6.25s\tremaining: 44.6s\n",
      "123:\tlearn: 0.4300725\ttotal: 6.29s\tremaining: 44.4s\n",
      "124:\tlearn: 0.4300278\ttotal: 6.34s\tremaining: 44.4s\n",
      "125:\tlearn: 0.4299551\ttotal: 6.38s\tremaining: 44.2s\n",
      "126:\tlearn: 0.4298915\ttotal: 6.42s\tremaining: 44.2s\n",
      "127:\tlearn: 0.4298403\ttotal: 6.47s\tremaining: 44.1s\n",
      "128:\tlearn: 0.4297826\ttotal: 6.53s\tremaining: 44.1s\n",
      "129:\tlearn: 0.4297421\ttotal: 6.57s\tremaining: 44s\n",
      "130:\tlearn: 0.4296728\ttotal: 6.62s\tremaining: 43.9s\n",
      "131:\tlearn: 0.4296262\ttotal: 6.66s\tremaining: 43.8s\n",
      "132:\tlearn: 0.4295684\ttotal: 6.72s\tremaining: 43.8s\n",
      "133:\tlearn: 0.4295029\ttotal: 6.77s\tremaining: 43.8s\n",
      "134:\tlearn: 0.4294360\ttotal: 6.82s\tremaining: 43.7s\n",
      "135:\tlearn: 0.4293685\ttotal: 6.87s\tremaining: 43.6s\n",
      "136:\tlearn: 0.4293010\ttotal: 6.92s\tremaining: 43.6s\n",
      "137:\tlearn: 0.4292497\ttotal: 6.97s\tremaining: 43.5s\n",
      "138:\tlearn: 0.4291900\ttotal: 7.01s\tremaining: 43.4s\n",
      "139:\tlearn: 0.4291194\ttotal: 7.06s\tremaining: 43.4s\n",
      "140:\tlearn: 0.4290684\ttotal: 7.12s\tremaining: 43.4s\n",
      "141:\tlearn: 0.4290274\ttotal: 7.17s\tremaining: 43.3s\n",
      "142:\tlearn: 0.4289573\ttotal: 7.22s\tremaining: 43.2s\n",
      "143:\tlearn: 0.4288845\ttotal: 7.26s\tremaining: 43.2s\n",
      "144:\tlearn: 0.4288295\ttotal: 7.32s\tremaining: 43.1s\n",
      "145:\tlearn: 0.4287756\ttotal: 7.37s\tremaining: 43.1s\n",
      "146:\tlearn: 0.4287160\ttotal: 7.41s\tremaining: 43s\n",
      "147:\tlearn: 0.4286365\ttotal: 7.46s\tremaining: 42.9s\n",
      "148:\tlearn: 0.4285930\ttotal: 7.51s\tremaining: 42.9s\n",
      "149:\tlearn: 0.4285204\ttotal: 7.56s\tremaining: 42.8s\n",
      "150:\tlearn: 0.4284824\ttotal: 7.6s\tremaining: 42.8s\n",
      "151:\tlearn: 0.4284440\ttotal: 7.66s\tremaining: 42.7s\n",
      "152:\tlearn: 0.4284067\ttotal: 7.71s\tremaining: 42.7s\n",
      "153:\tlearn: 0.4283361\ttotal: 7.75s\tremaining: 42.6s\n",
      "154:\tlearn: 0.4282930\ttotal: 7.8s\tremaining: 42.5s\n",
      "155:\tlearn: 0.4282477\ttotal: 7.85s\tremaining: 42.5s\n",
      "156:\tlearn: 0.4281971\ttotal: 7.91s\tremaining: 42.5s\n",
      "157:\tlearn: 0.4281112\ttotal: 7.96s\tremaining: 42.4s\n",
      "158:\tlearn: 0.4280566\ttotal: 8s\tremaining: 42.3s\n",
      "159:\tlearn: 0.4280299\ttotal: 8.05s\tremaining: 42.3s\n",
      "160:\tlearn: 0.4279727\ttotal: 8.11s\tremaining: 42.3s\n",
      "161:\tlearn: 0.4278947\ttotal: 8.15s\tremaining: 42.2s\n",
      "162:\tlearn: 0.4278358\ttotal: 8.2s\tremaining: 42.1s\n"
     ]
    },
    {
     "name": "stdout",
     "output_type": "stream",
     "text": [
      "163:\tlearn: 0.4277922\ttotal: 8.24s\tremaining: 42s\n",
      "164:\tlearn: 0.4277531\ttotal: 8.3s\tremaining: 42s\n",
      "165:\tlearn: 0.4276878\ttotal: 8.34s\tremaining: 41.9s\n",
      "166:\tlearn: 0.4276311\ttotal: 8.4s\tremaining: 41.9s\n",
      "167:\tlearn: 0.4275777\ttotal: 8.44s\tremaining: 41.8s\n",
      "168:\tlearn: 0.4275108\ttotal: 8.49s\tremaining: 41.8s\n",
      "169:\tlearn: 0.4274334\ttotal: 8.54s\tremaining: 41.7s\n",
      "170:\tlearn: 0.4273858\ttotal: 8.59s\tremaining: 41.7s\n",
      "171:\tlearn: 0.4273395\ttotal: 8.64s\tremaining: 41.6s\n",
      "172:\tlearn: 0.4272857\ttotal: 8.69s\tremaining: 41.5s\n",
      "173:\tlearn: 0.4271950\ttotal: 8.74s\tremaining: 41.5s\n",
      "174:\tlearn: 0.4271652\ttotal: 8.79s\tremaining: 41.4s\n",
      "175:\tlearn: 0.4271200\ttotal: 8.83s\tremaining: 41.3s\n",
      "176:\tlearn: 0.4270584\ttotal: 8.89s\tremaining: 41.3s\n",
      "177:\tlearn: 0.4270056\ttotal: 8.94s\tremaining: 41.3s\n",
      "178:\tlearn: 0.4269487\ttotal: 8.98s\tremaining: 41.2s\n",
      "179:\tlearn: 0.4268598\ttotal: 9.04s\tremaining: 41.2s\n",
      "180:\tlearn: 0.4268181\ttotal: 9.09s\tremaining: 41.1s\n",
      "181:\tlearn: 0.4267503\ttotal: 9.14s\tremaining: 41.1s\n",
      "182:\tlearn: 0.4266880\ttotal: 9.19s\tremaining: 41s\n",
      "183:\tlearn: 0.4266546\ttotal: 9.23s\tremaining: 40.9s\n",
      "184:\tlearn: 0.4266241\ttotal: 9.28s\tremaining: 40.9s\n",
      "185:\tlearn: 0.4266083\ttotal: 9.33s\tremaining: 40.8s\n",
      "186:\tlearn: 0.4265574\ttotal: 9.38s\tremaining: 40.8s\n",
      "187:\tlearn: 0.4264920\ttotal: 9.43s\tremaining: 40.7s\n",
      "188:\tlearn: 0.4264576\ttotal: 9.48s\tremaining: 40.7s\n",
      "189:\tlearn: 0.4264212\ttotal: 9.52s\tremaining: 40.6s\n",
      "190:\tlearn: 0.4263668\ttotal: 9.57s\tremaining: 40.6s\n",
      "191:\tlearn: 0.4263356\ttotal: 9.62s\tremaining: 40.5s\n",
      "192:\tlearn: 0.4262843\ttotal: 9.68s\tremaining: 40.5s\n",
      "193:\tlearn: 0.4262550\ttotal: 9.73s\tremaining: 40.4s\n",
      "194:\tlearn: 0.4261759\ttotal: 9.78s\tremaining: 40.4s\n",
      "195:\tlearn: 0.4261638\ttotal: 9.83s\tremaining: 40.3s\n",
      "196:\tlearn: 0.4261208\ttotal: 9.88s\tremaining: 40.3s\n",
      "197:\tlearn: 0.4260555\ttotal: 9.94s\tremaining: 40.3s\n",
      "198:\tlearn: 0.4260112\ttotal: 9.99s\tremaining: 40.2s\n",
      "199:\tlearn: 0.4259689\ttotal: 10s\tremaining: 40.2s\n",
      "200:\tlearn: 0.4259307\ttotal: 10.1s\tremaining: 40.2s\n",
      "201:\tlearn: 0.4258881\ttotal: 10.2s\tremaining: 40.2s\n",
      "202:\tlearn: 0.4258441\ttotal: 10.2s\tremaining: 40.1s\n",
      "203:\tlearn: 0.4258048\ttotal: 10.3s\tremaining: 40.1s\n",
      "204:\tlearn: 0.4257579\ttotal: 10.3s\tremaining: 40.1s\n",
      "205:\tlearn: 0.4257048\ttotal: 10.4s\tremaining: 40s\n",
      "206:\tlearn: 0.4256714\ttotal: 10.4s\tremaining: 40s\n",
      "207:\tlearn: 0.4256365\ttotal: 10.5s\tremaining: 40s\n",
      "208:\tlearn: 0.4255821\ttotal: 10.6s\tremaining: 39.9s\n",
      "209:\tlearn: 0.4255332\ttotal: 10.6s\tremaining: 39.9s\n",
      "210:\tlearn: 0.4255011\ttotal: 10.7s\tremaining: 39.9s\n",
      "211:\tlearn: 0.4253629\ttotal: 10.7s\tremaining: 39.8s\n",
      "212:\tlearn: 0.4253240\ttotal: 10.8s\tremaining: 39.8s\n",
      "213:\tlearn: 0.4252771\ttotal: 10.8s\tremaining: 39.7s\n",
      "214:\tlearn: 0.4252213\ttotal: 10.9s\tremaining: 39.7s\n",
      "215:\tlearn: 0.4251554\ttotal: 10.9s\tremaining: 39.6s\n",
      "216:\tlearn: 0.4250903\ttotal: 11s\tremaining: 39.6s\n",
      "217:\tlearn: 0.4250385\ttotal: 11s\tremaining: 39.5s\n",
      "218:\tlearn: 0.4249861\ttotal: 11.1s\tremaining: 39.5s\n",
      "219:\tlearn: 0.4249412\ttotal: 11.1s\tremaining: 39.4s\n",
      "220:\tlearn: 0.4248639\ttotal: 11.2s\tremaining: 39.4s\n",
      "221:\tlearn: 0.4248307\ttotal: 11.2s\tremaining: 39.3s\n",
      "222:\tlearn: 0.4247700\ttotal: 11.3s\tremaining: 39.3s\n",
      "223:\tlearn: 0.4247200\ttotal: 11.3s\tremaining: 39.3s\n",
      "224:\tlearn: 0.4246630\ttotal: 11.4s\tremaining: 39.2s\n",
      "225:\tlearn: 0.4246172\ttotal: 11.4s\tremaining: 39.2s\n",
      "226:\tlearn: 0.4245535\ttotal: 11.5s\tremaining: 39.2s\n",
      "227:\tlearn: 0.4245072\ttotal: 11.6s\tremaining: 39.1s\n",
      "228:\tlearn: 0.4244407\ttotal: 11.6s\tremaining: 39.1s\n",
      "229:\tlearn: 0.4243597\ttotal: 11.7s\tremaining: 39s\n",
      "230:\tlearn: 0.4243190\ttotal: 11.7s\tremaining: 39s\n",
      "231:\tlearn: 0.4242854\ttotal: 11.8s\tremaining: 39s\n",
      "232:\tlearn: 0.4242483\ttotal: 11.8s\tremaining: 38.9s\n",
      "233:\tlearn: 0.4242067\ttotal: 11.9s\tremaining: 38.9s\n",
      "234:\tlearn: 0.4241594\ttotal: 11.9s\tremaining: 38.9s\n",
      "235:\tlearn: 0.4240990\ttotal: 12s\tremaining: 38.9s\n",
      "236:\tlearn: 0.4240441\ttotal: 12.1s\tremaining: 38.9s\n",
      "237:\tlearn: 0.4239965\ttotal: 12.1s\tremaining: 38.8s\n",
      "238:\tlearn: 0.4239625\ttotal: 12.2s\tremaining: 38.8s\n",
      "239:\tlearn: 0.4238987\ttotal: 12.2s\tremaining: 38.7s\n",
      "240:\tlearn: 0.4238458\ttotal: 12.3s\tremaining: 38.7s\n",
      "241:\tlearn: 0.4237986\ttotal: 12.3s\tremaining: 38.7s\n",
      "242:\tlearn: 0.4237167\ttotal: 12.4s\tremaining: 38.6s\n",
      "243:\tlearn: 0.4236495\ttotal: 12.5s\tremaining: 38.6s\n",
      "244:\tlearn: 0.4235972\ttotal: 12.5s\tremaining: 38.6s\n",
      "245:\tlearn: 0.4235351\ttotal: 12.6s\tremaining: 38.5s\n",
      "246:\tlearn: 0.4234776\ttotal: 12.6s\tremaining: 38.5s\n",
      "247:\tlearn: 0.4234360\ttotal: 12.7s\tremaining: 38.5s\n",
      "248:\tlearn: 0.4233940\ttotal: 12.7s\tremaining: 38.4s\n",
      "249:\tlearn: 0.4233567\ttotal: 12.8s\tremaining: 38.4s\n",
      "250:\tlearn: 0.4233333\ttotal: 12.9s\tremaining: 38.4s\n",
      "251:\tlearn: 0.4232889\ttotal: 12.9s\tremaining: 38.3s\n",
      "252:\tlearn: 0.4232563\ttotal: 13s\tremaining: 38.3s\n",
      "253:\tlearn: 0.4232092\ttotal: 13s\tremaining: 38.2s\n",
      "254:\tlearn: 0.4231634\ttotal: 13.1s\tremaining: 38.2s\n",
      "255:\tlearn: 0.4231323\ttotal: 13.1s\tremaining: 38.1s\n",
      "256:\tlearn: 0.4230925\ttotal: 13.2s\tremaining: 38.1s\n",
      "257:\tlearn: 0.4230564\ttotal: 13.2s\tremaining: 38s\n",
      "258:\tlearn: 0.4230012\ttotal: 13.3s\tremaining: 38s\n",
      "259:\tlearn: 0.4229461\ttotal: 13.3s\tremaining: 37.9s\n",
      "260:\tlearn: 0.4228897\ttotal: 13.4s\tremaining: 37.9s\n",
      "261:\tlearn: 0.4228454\ttotal: 13.4s\tremaining: 37.8s\n",
      "262:\tlearn: 0.4228010\ttotal: 13.5s\tremaining: 37.8s\n",
      "263:\tlearn: 0.4227518\ttotal: 13.5s\tremaining: 37.7s\n",
      "264:\tlearn: 0.4227164\ttotal: 13.6s\tremaining: 37.7s\n",
      "265:\tlearn: 0.4226832\ttotal: 13.6s\tremaining: 37.6s\n",
      "266:\tlearn: 0.4226505\ttotal: 13.7s\tremaining: 37.6s\n",
      "267:\tlearn: 0.4226071\ttotal: 13.7s\tremaining: 37.5s\n",
      "268:\tlearn: 0.4225529\ttotal: 13.8s\tremaining: 37.5s\n",
      "269:\tlearn: 0.4225193\ttotal: 13.9s\tremaining: 37.5s\n",
      "270:\tlearn: 0.4224840\ttotal: 13.9s\tremaining: 37.4s\n",
      "271:\tlearn: 0.4224416\ttotal: 14s\tremaining: 37.4s\n",
      "272:\tlearn: 0.4223856\ttotal: 14s\tremaining: 37.3s\n",
      "273:\tlearn: 0.4223341\ttotal: 14.1s\tremaining: 37.3s\n",
      "274:\tlearn: 0.4222929\ttotal: 14.1s\tremaining: 37.2s\n",
      "275:\tlearn: 0.4222560\ttotal: 14.2s\tremaining: 37.2s\n",
      "276:\tlearn: 0.4222048\ttotal: 14.2s\tremaining: 37.2s\n",
      "277:\tlearn: 0.4221713\ttotal: 14.3s\tremaining: 37.1s\n",
      "278:\tlearn: 0.4221401\ttotal: 14.3s\tremaining: 37.1s\n",
      "279:\tlearn: 0.4221080\ttotal: 14.4s\tremaining: 37s\n",
      "280:\tlearn: 0.4220708\ttotal: 14.4s\tremaining: 37s\n",
      "281:\tlearn: 0.4220537\ttotal: 14.5s\tremaining: 36.9s\n",
      "282:\tlearn: 0.4220150\ttotal: 14.5s\tremaining: 36.9s\n",
      "283:\tlearn: 0.4219790\ttotal: 14.6s\tremaining: 36.8s\n",
      "284:\tlearn: 0.4219291\ttotal: 14.7s\tremaining: 36.8s\n",
      "285:\tlearn: 0.4218888\ttotal: 14.7s\tremaining: 36.8s\n",
      "286:\tlearn: 0.4218420\ttotal: 14.8s\tremaining: 36.7s\n",
      "287:\tlearn: 0.4218098\ttotal: 14.8s\tremaining: 36.7s\n",
      "288:\tlearn: 0.4217627\ttotal: 14.9s\tremaining: 36.6s\n",
      "289:\tlearn: 0.4217151\ttotal: 14.9s\tremaining: 36.6s\n",
      "290:\tlearn: 0.4216673\ttotal: 15s\tremaining: 36.5s\n",
      "291:\tlearn: 0.4216267\ttotal: 15.1s\tremaining: 36.5s\n",
      "292:\tlearn: 0.4215991\ttotal: 15.1s\tremaining: 36.5s\n",
      "293:\tlearn: 0.4215530\ttotal: 15.2s\tremaining: 36.4s\n",
      "294:\tlearn: 0.4215112\ttotal: 15.2s\tremaining: 36.4s\n",
      "295:\tlearn: 0.4214809\ttotal: 15.3s\tremaining: 36.3s\n",
      "296:\tlearn: 0.4214489\ttotal: 15.3s\tremaining: 36.3s\n",
      "297:\tlearn: 0.4214046\ttotal: 15.4s\tremaining: 36.2s\n",
      "298:\tlearn: 0.4213331\ttotal: 15.4s\tremaining: 36.2s\n",
      "299:\tlearn: 0.4213006\ttotal: 15.5s\tremaining: 36.1s\n",
      "300:\tlearn: 0.4212548\ttotal: 15.5s\tremaining: 36.1s\n",
      "301:\tlearn: 0.4211934\ttotal: 15.6s\tremaining: 36.1s\n",
      "302:\tlearn: 0.4211381\ttotal: 15.7s\tremaining: 36s\n",
      "303:\tlearn: 0.4210665\ttotal: 15.7s\tremaining: 36s\n",
      "304:\tlearn: 0.4210053\ttotal: 15.8s\tremaining: 35.9s\n",
      "305:\tlearn: 0.4209595\ttotal: 15.8s\tremaining: 35.9s\n",
      "306:\tlearn: 0.4209461\ttotal: 15.9s\tremaining: 35.8s\n",
      "307:\tlearn: 0.4209128\ttotal: 15.9s\tremaining: 35.8s\n",
      "308:\tlearn: 0.4208624\ttotal: 16s\tremaining: 35.8s\n",
      "309:\tlearn: 0.4208152\ttotal: 16.1s\tremaining: 35.8s\n",
      "310:\tlearn: 0.4207708\ttotal: 16.1s\tremaining: 35.7s\n",
      "311:\tlearn: 0.4207219\ttotal: 16.2s\tremaining: 35.7s\n",
      "312:\tlearn: 0.4206975\ttotal: 16.2s\tremaining: 35.6s\n",
      "313:\tlearn: 0.4206000\ttotal: 16.3s\tremaining: 35.6s\n",
      "314:\tlearn: 0.4205724\ttotal: 16.4s\tremaining: 35.6s\n",
      "315:\tlearn: 0.4205221\ttotal: 16.4s\tremaining: 35.5s\n",
      "316:\tlearn: 0.4204849\ttotal: 16.5s\tremaining: 35.5s\n",
      "317:\tlearn: 0.4204266\ttotal: 16.5s\tremaining: 35.4s\n",
      "318:\tlearn: 0.4203833\ttotal: 16.6s\tremaining: 35.4s\n",
      "319:\tlearn: 0.4203370\ttotal: 16.6s\tremaining: 35.3s\n",
      "320:\tlearn: 0.4202896\ttotal: 16.7s\tremaining: 35.3s\n",
      "321:\tlearn: 0.4202359\ttotal: 16.7s\tremaining: 35.3s\n",
      "322:\tlearn: 0.4202176\ttotal: 16.8s\tremaining: 35.2s\n",
      "323:\tlearn: 0.4201809\ttotal: 16.8s\tremaining: 35.1s\n"
     ]
    },
    {
     "name": "stdout",
     "output_type": "stream",
     "text": [
      "324:\tlearn: 0.4201349\ttotal: 16.9s\tremaining: 35.1s\n",
      "325:\tlearn: 0.4200895\ttotal: 17s\tremaining: 35.1s\n",
      "326:\tlearn: 0.4200478\ttotal: 17s\tremaining: 35s\n",
      "327:\tlearn: 0.4200256\ttotal: 17.1s\tremaining: 35s\n",
      "328:\tlearn: 0.4199878\ttotal: 17.1s\tremaining: 34.9s\n",
      "329:\tlearn: 0.4199397\ttotal: 17.2s\tremaining: 34.9s\n",
      "330:\tlearn: 0.4198853\ttotal: 17.2s\tremaining: 34.8s\n",
      "331:\tlearn: 0.4198268\ttotal: 17.3s\tremaining: 34.8s\n",
      "332:\tlearn: 0.4197905\ttotal: 17.3s\tremaining: 34.7s\n",
      "333:\tlearn: 0.4197411\ttotal: 17.4s\tremaining: 34.7s\n",
      "334:\tlearn: 0.4197022\ttotal: 17.4s\tremaining: 34.6s\n",
      "335:\tlearn: 0.4196556\ttotal: 17.5s\tremaining: 34.6s\n",
      "336:\tlearn: 0.4196281\ttotal: 17.6s\tremaining: 34.5s\n",
      "337:\tlearn: 0.4195912\ttotal: 17.6s\tremaining: 34.5s\n",
      "338:\tlearn: 0.4195354\ttotal: 17.7s\tremaining: 34.5s\n",
      "339:\tlearn: 0.4194818\ttotal: 17.8s\tremaining: 34.5s\n",
      "340:\tlearn: 0.4194293\ttotal: 17.8s\tremaining: 34.4s\n",
      "341:\tlearn: 0.4193838\ttotal: 17.9s\tremaining: 34.4s\n",
      "342:\tlearn: 0.4193338\ttotal: 18s\tremaining: 34.4s\n",
      "343:\tlearn: 0.4192734\ttotal: 18s\tremaining: 34.4s\n",
      "344:\tlearn: 0.4192264\ttotal: 18.1s\tremaining: 34.3s\n",
      "345:\tlearn: 0.4191945\ttotal: 18.2s\tremaining: 34.3s\n",
      "346:\tlearn: 0.4191558\ttotal: 18.2s\tremaining: 34.3s\n",
      "347:\tlearn: 0.4191129\ttotal: 18.3s\tremaining: 34.3s\n",
      "348:\tlearn: 0.4190760\ttotal: 18.4s\tremaining: 34.3s\n",
      "349:\tlearn: 0.4190326\ttotal: 18.4s\tremaining: 34.2s\n",
      "350:\tlearn: 0.4190164\ttotal: 18.5s\tremaining: 34.2s\n",
      "351:\tlearn: 0.4189815\ttotal: 18.5s\tremaining: 34.1s\n",
      "352:\tlearn: 0.4189380\ttotal: 18.6s\tremaining: 34.1s\n",
      "353:\tlearn: 0.4189038\ttotal: 18.6s\tremaining: 34s\n",
      "354:\tlearn: 0.4188670\ttotal: 18.7s\tremaining: 33.9s\n",
      "355:\tlearn: 0.4188562\ttotal: 18.7s\tremaining: 33.9s\n",
      "356:\tlearn: 0.4188003\ttotal: 18.8s\tremaining: 33.9s\n",
      "357:\tlearn: 0.4187633\ttotal: 18.9s\tremaining: 33.8s\n",
      "358:\tlearn: 0.4187186\ttotal: 18.9s\tremaining: 33.8s\n",
      "359:\tlearn: 0.4186806\ttotal: 19s\tremaining: 33.8s\n",
      "360:\tlearn: 0.4186249\ttotal: 19.1s\tremaining: 33.8s\n",
      "361:\tlearn: 0.4185786\ttotal: 19.1s\tremaining: 33.7s\n",
      "362:\tlearn: 0.4185147\ttotal: 19.2s\tremaining: 33.6s\n",
      "363:\tlearn: 0.4184732\ttotal: 19.2s\tremaining: 33.6s\n",
      "364:\tlearn: 0.4184351\ttotal: 19.3s\tremaining: 33.5s\n",
      "365:\tlearn: 0.4183888\ttotal: 19.3s\tremaining: 33.5s\n",
      "366:\tlearn: 0.4183493\ttotal: 19.4s\tremaining: 33.5s\n",
      "367:\tlearn: 0.4183000\ttotal: 19.4s\tremaining: 33.4s\n",
      "368:\tlearn: 0.4182611\ttotal: 19.5s\tremaining: 33.4s\n",
      "369:\tlearn: 0.4182054\ttotal: 19.6s\tremaining: 33.3s\n",
      "370:\tlearn: 0.4181603\ttotal: 19.6s\tremaining: 33.3s\n",
      "371:\tlearn: 0.4181205\ttotal: 19.7s\tremaining: 33.2s\n",
      "372:\tlearn: 0.4180831\ttotal: 19.7s\tremaining: 33.2s\n",
      "373:\tlearn: 0.4180470\ttotal: 19.8s\tremaining: 33.1s\n",
      "374:\tlearn: 0.4180058\ttotal: 19.8s\tremaining: 33.1s\n",
      "375:\tlearn: 0.4179692\ttotal: 19.9s\tremaining: 33s\n",
      "376:\tlearn: 0.4179068\ttotal: 20s\tremaining: 33s\n",
      "377:\tlearn: 0.4178579\ttotal: 20s\tremaining: 32.9s\n",
      "378:\tlearn: 0.4178190\ttotal: 20.1s\tremaining: 32.9s\n",
      "379:\tlearn: 0.4177814\ttotal: 20.1s\tremaining: 32.8s\n",
      "380:\tlearn: 0.4177435\ttotal: 20.2s\tremaining: 32.8s\n",
      "381:\tlearn: 0.4177236\ttotal: 20.3s\tremaining: 32.8s\n",
      "382:\tlearn: 0.4176637\ttotal: 20.3s\tremaining: 32.8s\n",
      "383:\tlearn: 0.4176239\ttotal: 20.4s\tremaining: 32.7s\n",
      "384:\tlearn: 0.4175840\ttotal: 20.4s\tremaining: 32.6s\n",
      "385:\tlearn: 0.4175444\ttotal: 20.5s\tremaining: 32.6s\n",
      "386:\tlearn: 0.4175144\ttotal: 20.5s\tremaining: 32.5s\n",
      "387:\tlearn: 0.4174946\ttotal: 20.6s\tremaining: 32.5s\n",
      "388:\tlearn: 0.4174467\ttotal: 20.7s\tremaining: 32.5s\n",
      "389:\tlearn: 0.4173965\ttotal: 20.7s\tremaining: 32.4s\n",
      "390:\tlearn: 0.4173496\ttotal: 20.8s\tremaining: 32.4s\n",
      "391:\tlearn: 0.4173007\ttotal: 20.9s\tremaining: 32.4s\n",
      "392:\tlearn: 0.4172751\ttotal: 21s\tremaining: 32.4s\n",
      "393:\tlearn: 0.4172518\ttotal: 21s\tremaining: 32.3s\n",
      "394:\tlearn: 0.4171935\ttotal: 21.1s\tremaining: 32.3s\n",
      "395:\tlearn: 0.4171558\ttotal: 21.2s\tremaining: 32.3s\n",
      "396:\tlearn: 0.4171287\ttotal: 21.2s\tremaining: 32.2s\n",
      "397:\tlearn: 0.4171032\ttotal: 21.3s\tremaining: 32.2s\n",
      "398:\tlearn: 0.4170732\ttotal: 21.4s\tremaining: 32.2s\n",
      "399:\tlearn: 0.4170087\ttotal: 21.5s\tremaining: 32.2s\n",
      "400:\tlearn: 0.4169753\ttotal: 21.5s\tremaining: 32.1s\n",
      "401:\tlearn: 0.4169170\ttotal: 21.6s\tremaining: 32.1s\n",
      "402:\tlearn: 0.4168817\ttotal: 21.6s\tremaining: 32s\n",
      "403:\tlearn: 0.4168463\ttotal: 21.7s\tremaining: 32s\n",
      "404:\tlearn: 0.4168230\ttotal: 21.7s\tremaining: 31.9s\n",
      "405:\tlearn: 0.4167829\ttotal: 21.8s\tremaining: 31.9s\n",
      "406:\tlearn: 0.4167489\ttotal: 21.8s\tremaining: 31.8s\n",
      "407:\tlearn: 0.4166885\ttotal: 21.9s\tremaining: 31.7s\n",
      "408:\tlearn: 0.4166615\ttotal: 21.9s\tremaining: 31.7s\n",
      "409:\tlearn: 0.4166245\ttotal: 22s\tremaining: 31.6s\n",
      "410:\tlearn: 0.4165914\ttotal: 22s\tremaining: 31.6s\n",
      "411:\tlearn: 0.4165715\ttotal: 22.1s\tremaining: 31.5s\n",
      "412:\tlearn: 0.4165328\ttotal: 22.2s\tremaining: 31.5s\n",
      "413:\tlearn: 0.4164820\ttotal: 22.2s\tremaining: 31.5s\n",
      "414:\tlearn: 0.4164456\ttotal: 22.3s\tremaining: 31.4s\n",
      "415:\tlearn: 0.4163957\ttotal: 22.4s\tremaining: 31.4s\n",
      "416:\tlearn: 0.4163378\ttotal: 22.4s\tremaining: 31.3s\n",
      "417:\tlearn: 0.4162836\ttotal: 22.5s\tremaining: 31.3s\n",
      "418:\tlearn: 0.4162308\ttotal: 22.5s\tremaining: 31.3s\n",
      "419:\tlearn: 0.4161906\ttotal: 22.6s\tremaining: 31.2s\n",
      "420:\tlearn: 0.4161368\ttotal: 22.7s\tremaining: 31.2s\n",
      "421:\tlearn: 0.4160784\ttotal: 22.7s\tremaining: 31.1s\n",
      "422:\tlearn: 0.4160266\ttotal: 22.8s\tremaining: 31.1s\n",
      "423:\tlearn: 0.4159863\ttotal: 22.8s\tremaining: 31s\n",
      "424:\tlearn: 0.4159525\ttotal: 22.9s\tremaining: 31s\n",
      "425:\tlearn: 0.4159288\ttotal: 22.9s\tremaining: 30.9s\n",
      "426:\tlearn: 0.4158933\ttotal: 23s\tremaining: 30.9s\n",
      "427:\tlearn: 0.4158388\ttotal: 23.1s\tremaining: 30.8s\n",
      "428:\tlearn: 0.4157745\ttotal: 23.1s\tremaining: 30.8s\n",
      "429:\tlearn: 0.4157414\ttotal: 23.2s\tremaining: 30.7s\n",
      "430:\tlearn: 0.4157180\ttotal: 23.2s\tremaining: 30.7s\n",
      "431:\tlearn: 0.4156610\ttotal: 23.3s\tremaining: 30.7s\n",
      "432:\tlearn: 0.4156148\ttotal: 23.4s\tremaining: 30.6s\n",
      "433:\tlearn: 0.4155901\ttotal: 23.4s\tremaining: 30.6s\n",
      "434:\tlearn: 0.4155522\ttotal: 23.5s\tremaining: 30.5s\n",
      "435:\tlearn: 0.4155227\ttotal: 23.6s\tremaining: 30.5s\n",
      "436:\tlearn: 0.4154925\ttotal: 23.6s\tremaining: 30.4s\n",
      "437:\tlearn: 0.4154429\ttotal: 23.7s\tremaining: 30.4s\n",
      "438:\tlearn: 0.4154007\ttotal: 23.7s\tremaining: 30.3s\n",
      "439:\tlearn: 0.4153514\ttotal: 23.8s\tremaining: 30.3s\n",
      "440:\tlearn: 0.4153204\ttotal: 23.9s\tremaining: 30.3s\n",
      "441:\tlearn: 0.4152955\ttotal: 24s\tremaining: 30.3s\n",
      "442:\tlearn: 0.4152629\ttotal: 24s\tremaining: 30.2s\n",
      "443:\tlearn: 0.4152220\ttotal: 24.1s\tremaining: 30.2s\n",
      "444:\tlearn: 0.4151801\ttotal: 24.2s\tremaining: 30.1s\n",
      "445:\tlearn: 0.4151387\ttotal: 24.2s\tremaining: 30.1s\n",
      "446:\tlearn: 0.4150927\ttotal: 24.3s\tremaining: 30.1s\n",
      "447:\tlearn: 0.4150614\ttotal: 24.4s\tremaining: 30.1s\n",
      "448:\tlearn: 0.4150272\ttotal: 24.4s\tremaining: 30s\n",
      "449:\tlearn: 0.4149519\ttotal: 24.5s\tremaining: 30s\n",
      "450:\tlearn: 0.4149273\ttotal: 24.6s\tremaining: 29.9s\n",
      "451:\tlearn: 0.4148976\ttotal: 24.6s\tremaining: 29.8s\n",
      "452:\tlearn: 0.4148636\ttotal: 24.7s\tremaining: 29.8s\n",
      "453:\tlearn: 0.4148547\ttotal: 24.7s\tremaining: 29.7s\n",
      "454:\tlearn: 0.4148181\ttotal: 24.8s\tremaining: 29.7s\n",
      "455:\tlearn: 0.4147894\ttotal: 24.8s\tremaining: 29.6s\n",
      "456:\tlearn: 0.4147667\ttotal: 24.9s\tremaining: 29.6s\n",
      "457:\tlearn: 0.4147275\ttotal: 25s\tremaining: 29.6s\n",
      "458:\tlearn: 0.4147144\ttotal: 25s\tremaining: 29.5s\n",
      "459:\tlearn: 0.4146824\ttotal: 25.1s\tremaining: 29.5s\n",
      "460:\tlearn: 0.4146359\ttotal: 25.2s\tremaining: 29.4s\n",
      "461:\tlearn: 0.4145804\ttotal: 25.2s\tremaining: 29.4s\n",
      "462:\tlearn: 0.4145200\ttotal: 25.3s\tremaining: 29.3s\n",
      "463:\tlearn: 0.4144846\ttotal: 25.3s\tremaining: 29.3s\n",
      "464:\tlearn: 0.4144480\ttotal: 25.4s\tremaining: 29.2s\n",
      "465:\tlearn: 0.4144116\ttotal: 25.5s\tremaining: 29.2s\n",
      "466:\tlearn: 0.4143705\ttotal: 25.5s\tremaining: 29.1s\n",
      "467:\tlearn: 0.4143195\ttotal: 25.6s\tremaining: 29.1s\n",
      "468:\tlearn: 0.4142756\ttotal: 25.6s\tremaining: 29s\n",
      "469:\tlearn: 0.4142375\ttotal: 25.7s\tremaining: 29s\n",
      "470:\tlearn: 0.4141910\ttotal: 25.8s\tremaining: 28.9s\n",
      "471:\tlearn: 0.4141640\ttotal: 25.8s\tremaining: 28.9s\n",
      "472:\tlearn: 0.4141237\ttotal: 25.9s\tremaining: 28.8s\n",
      "473:\tlearn: 0.4140905\ttotal: 26s\tremaining: 28.8s\n",
      "474:\tlearn: 0.4140706\ttotal: 26s\tremaining: 28.8s\n",
      "475:\tlearn: 0.4140337\ttotal: 26.1s\tremaining: 28.7s\n",
      "476:\tlearn: 0.4139972\ttotal: 26.1s\tremaining: 28.7s\n",
      "477:\tlearn: 0.4139663\ttotal: 26.2s\tremaining: 28.6s\n",
      "478:\tlearn: 0.4139316\ttotal: 26.3s\tremaining: 28.6s\n",
      "479:\tlearn: 0.4138925\ttotal: 26.3s\tremaining: 28.5s\n",
      "480:\tlearn: 0.4138505\ttotal: 26.4s\tremaining: 28.5s\n",
      "481:\tlearn: 0.4138253\ttotal: 26.5s\tremaining: 28.4s\n",
      "482:\tlearn: 0.4137604\ttotal: 26.5s\tremaining: 28.4s\n",
      "483:\tlearn: 0.4137266\ttotal: 26.6s\tremaining: 28.3s\n",
      "484:\tlearn: 0.4136838\ttotal: 26.6s\tremaining: 28.3s\n"
     ]
    },
    {
     "name": "stdout",
     "output_type": "stream",
     "text": [
      "485:\tlearn: 0.4136573\ttotal: 26.7s\tremaining: 28.3s\n",
      "486:\tlearn: 0.4136180\ttotal: 26.8s\tremaining: 28.2s\n",
      "487:\tlearn: 0.4135931\ttotal: 26.8s\tremaining: 28.2s\n",
      "488:\tlearn: 0.4135574\ttotal: 26.9s\tremaining: 28.1s\n",
      "489:\tlearn: 0.4135228\ttotal: 27s\tremaining: 28.1s\n",
      "490:\tlearn: 0.4134884\ttotal: 27s\tremaining: 28s\n",
      "491:\tlearn: 0.4134594\ttotal: 27.1s\tremaining: 27.9s\n",
      "492:\tlearn: 0.4134103\ttotal: 27.1s\tremaining: 27.9s\n",
      "493:\tlearn: 0.4133659\ttotal: 27.2s\tremaining: 27.8s\n",
      "494:\tlearn: 0.4133243\ttotal: 27.2s\tremaining: 27.8s\n",
      "495:\tlearn: 0.4132820\ttotal: 27.3s\tremaining: 27.7s\n",
      "496:\tlearn: 0.4132429\ttotal: 27.4s\tremaining: 27.7s\n",
      "497:\tlearn: 0.4132045\ttotal: 27.4s\tremaining: 27.6s\n",
      "498:\tlearn: 0.4131588\ttotal: 27.5s\tremaining: 27.6s\n",
      "499:\tlearn: 0.4131131\ttotal: 27.5s\tremaining: 27.5s\n",
      "500:\tlearn: 0.4130925\ttotal: 27.6s\tremaining: 27.5s\n",
      "501:\tlearn: 0.4130482\ttotal: 27.7s\tremaining: 27.4s\n",
      "502:\tlearn: 0.4130138\ttotal: 27.7s\tremaining: 27.4s\n",
      "503:\tlearn: 0.4129864\ttotal: 27.8s\tremaining: 27.3s\n",
      "504:\tlearn: 0.4129522\ttotal: 27.8s\tremaining: 27.3s\n",
      "505:\tlearn: 0.4129087\ttotal: 27.9s\tremaining: 27.3s\n",
      "506:\tlearn: 0.4128787\ttotal: 28s\tremaining: 27.2s\n",
      "507:\tlearn: 0.4128403\ttotal: 28s\tremaining: 27.1s\n",
      "508:\tlearn: 0.4128266\ttotal: 28.1s\tremaining: 27.1s\n",
      "509:\tlearn: 0.4128053\ttotal: 28.1s\tremaining: 27s\n",
      "510:\tlearn: 0.4127458\ttotal: 28.2s\tremaining: 27s\n",
      "511:\tlearn: 0.4127050\ttotal: 28.3s\tremaining: 26.9s\n",
      "512:\tlearn: 0.4126744\ttotal: 28.3s\tremaining: 26.9s\n",
      "513:\tlearn: 0.4126258\ttotal: 28.4s\tremaining: 26.8s\n",
      "514:\tlearn: 0.4125778\ttotal: 28.4s\tremaining: 26.8s\n",
      "515:\tlearn: 0.4125517\ttotal: 28.5s\tremaining: 26.7s\n",
      "516:\tlearn: 0.4125071\ttotal: 28.5s\tremaining: 26.6s\n",
      "517:\tlearn: 0.4124786\ttotal: 28.6s\tremaining: 26.6s\n",
      "518:\tlearn: 0.4124390\ttotal: 28.6s\tremaining: 26.5s\n",
      "519:\tlearn: 0.4123953\ttotal: 28.7s\tremaining: 26.5s\n",
      "520:\tlearn: 0.4123669\ttotal: 28.8s\tremaining: 26.4s\n",
      "521:\tlearn: 0.4123204\ttotal: 28.8s\tremaining: 26.4s\n",
      "522:\tlearn: 0.4122694\ttotal: 28.9s\tremaining: 26.3s\n",
      "523:\tlearn: 0.4122227\ttotal: 28.9s\tremaining: 26.3s\n",
      "524:\tlearn: 0.4121693\ttotal: 29s\tremaining: 26.2s\n",
      "525:\tlearn: 0.4121358\ttotal: 29s\tremaining: 26.2s\n",
      "526:\tlearn: 0.4121006\ttotal: 29.1s\tremaining: 26.1s\n",
      "527:\tlearn: 0.4120695\ttotal: 29.1s\tremaining: 26.1s\n",
      "528:\tlearn: 0.4120304\ttotal: 29.2s\tremaining: 26s\n",
      "529:\tlearn: 0.4119748\ttotal: 29.3s\tremaining: 25.9s\n",
      "530:\tlearn: 0.4119371\ttotal: 29.3s\tremaining: 25.9s\n",
      "531:\tlearn: 0.4119083\ttotal: 29.4s\tremaining: 25.8s\n",
      "532:\tlearn: 0.4118611\ttotal: 29.4s\tremaining: 25.8s\n",
      "533:\tlearn: 0.4118299\ttotal: 29.5s\tremaining: 25.7s\n",
      "534:\tlearn: 0.4118007\ttotal: 29.5s\tremaining: 25.7s\n",
      "535:\tlearn: 0.4117702\ttotal: 29.6s\tremaining: 25.6s\n",
      "536:\tlearn: 0.4117430\ttotal: 29.7s\tremaining: 25.6s\n",
      "537:\tlearn: 0.4116980\ttotal: 29.7s\tremaining: 25.5s\n",
      "538:\tlearn: 0.4116684\ttotal: 29.8s\tremaining: 25.5s\n",
      "539:\tlearn: 0.4116461\ttotal: 29.8s\tremaining: 25.4s\n",
      "540:\tlearn: 0.4116183\ttotal: 29.9s\tremaining: 25.4s\n",
      "541:\tlearn: 0.4115876\ttotal: 29.9s\tremaining: 25.3s\n",
      "542:\tlearn: 0.4115445\ttotal: 30s\tremaining: 25.2s\n",
      "543:\tlearn: 0.4114952\ttotal: 30.1s\tremaining: 25.2s\n",
      "544:\tlearn: 0.4114561\ttotal: 30.1s\tremaining: 25.1s\n",
      "545:\tlearn: 0.4114331\ttotal: 30.2s\tremaining: 25.1s\n",
      "546:\tlearn: 0.4114052\ttotal: 30.2s\tremaining: 25s\n",
      "547:\tlearn: 0.4113757\ttotal: 30.3s\tremaining: 25s\n",
      "548:\tlearn: 0.4113410\ttotal: 30.3s\tremaining: 24.9s\n",
      "549:\tlearn: 0.4112909\ttotal: 30.4s\tremaining: 24.9s\n",
      "550:\tlearn: 0.4112467\ttotal: 30.4s\tremaining: 24.8s\n",
      "551:\tlearn: 0.4112246\ttotal: 30.5s\tremaining: 24.8s\n",
      "552:\tlearn: 0.4111802\ttotal: 30.6s\tremaining: 24.7s\n",
      "553:\tlearn: 0.4111421\ttotal: 30.6s\tremaining: 24.7s\n",
      "554:\tlearn: 0.4111033\ttotal: 30.7s\tremaining: 24.6s\n",
      "555:\tlearn: 0.4110641\ttotal: 30.7s\tremaining: 24.5s\n",
      "556:\tlearn: 0.4110221\ttotal: 30.8s\tremaining: 24.5s\n",
      "557:\tlearn: 0.4109838\ttotal: 30.8s\tremaining: 24.4s\n",
      "558:\tlearn: 0.4109666\ttotal: 30.9s\tremaining: 24.4s\n",
      "559:\tlearn: 0.4109329\ttotal: 31s\tremaining: 24.3s\n",
      "560:\tlearn: 0.4109026\ttotal: 31s\tremaining: 24.3s\n",
      "561:\tlearn: 0.4108685\ttotal: 31.1s\tremaining: 24.2s\n",
      "562:\tlearn: 0.4108298\ttotal: 31.1s\tremaining: 24.2s\n",
      "563:\tlearn: 0.4107704\ttotal: 31.2s\tremaining: 24.1s\n",
      "564:\tlearn: 0.4107273\ttotal: 31.3s\tremaining: 24.1s\n",
      "565:\tlearn: 0.4107101\ttotal: 31.3s\tremaining: 24s\n",
      "566:\tlearn: 0.4106918\ttotal: 31.4s\tremaining: 23.9s\n",
      "567:\tlearn: 0.4106524\ttotal: 31.4s\tremaining: 23.9s\n",
      "568:\tlearn: 0.4106327\ttotal: 31.5s\tremaining: 23.8s\n",
      "569:\tlearn: 0.4105938\ttotal: 31.5s\tremaining: 23.8s\n",
      "570:\tlearn: 0.4105587\ttotal: 31.6s\tremaining: 23.7s\n",
      "571:\tlearn: 0.4105201\ttotal: 31.7s\tremaining: 23.7s\n",
      "572:\tlearn: 0.4104860\ttotal: 31.7s\tremaining: 23.6s\n",
      "573:\tlearn: 0.4104588\ttotal: 31.8s\tremaining: 23.6s\n",
      "574:\tlearn: 0.4104288\ttotal: 31.8s\tremaining: 23.5s\n",
      "575:\tlearn: 0.4103914\ttotal: 31.9s\tremaining: 23.5s\n",
      "576:\tlearn: 0.4103612\ttotal: 31.9s\tremaining: 23.4s\n",
      "577:\tlearn: 0.4103293\ttotal: 32s\tremaining: 23.4s\n",
      "578:\tlearn: 0.4102956\ttotal: 32.1s\tremaining: 23.3s\n",
      "579:\tlearn: 0.4102562\ttotal: 32.1s\tremaining: 23.3s\n",
      "580:\tlearn: 0.4101987\ttotal: 32.2s\tremaining: 23.2s\n",
      "581:\tlearn: 0.4101541\ttotal: 32.2s\tremaining: 23.1s\n",
      "582:\tlearn: 0.4101276\ttotal: 32.3s\tremaining: 23.1s\n",
      "583:\tlearn: 0.4100991\ttotal: 32.3s\tremaining: 23s\n",
      "584:\tlearn: 0.4100800\ttotal: 32.4s\tremaining: 23s\n",
      "585:\tlearn: 0.4100406\ttotal: 32.5s\tremaining: 22.9s\n",
      "586:\tlearn: 0.4099884\ttotal: 32.5s\tremaining: 22.9s\n",
      "587:\tlearn: 0.4099592\ttotal: 32.6s\tremaining: 22.8s\n",
      "588:\tlearn: 0.4099199\ttotal: 32.6s\tremaining: 22.8s\n",
      "589:\tlearn: 0.4099002\ttotal: 32.7s\tremaining: 22.7s\n",
      "590:\tlearn: 0.4098560\ttotal: 32.8s\tremaining: 22.7s\n",
      "591:\tlearn: 0.4098356\ttotal: 32.8s\tremaining: 22.6s\n",
      "592:\tlearn: 0.4097921\ttotal: 32.9s\tremaining: 22.6s\n",
      "593:\tlearn: 0.4097549\ttotal: 33s\tremaining: 22.5s\n",
      "594:\tlearn: 0.4097257\ttotal: 33s\tremaining: 22.5s\n",
      "595:\tlearn: 0.4096957\ttotal: 33.1s\tremaining: 22.4s\n",
      "596:\tlearn: 0.4096592\ttotal: 33.2s\tremaining: 22.4s\n",
      "597:\tlearn: 0.4096290\ttotal: 33.2s\tremaining: 22.3s\n",
      "598:\tlearn: 0.4095926\ttotal: 33.3s\tremaining: 22.3s\n",
      "599:\tlearn: 0.4095443\ttotal: 33.4s\tremaining: 22.2s\n",
      "600:\tlearn: 0.4095209\ttotal: 33.4s\tremaining: 22.2s\n",
      "601:\tlearn: 0.4094866\ttotal: 33.5s\tremaining: 22.2s\n",
      "602:\tlearn: 0.4094508\ttotal: 33.6s\tremaining: 22.1s\n",
      "603:\tlearn: 0.4094354\ttotal: 33.6s\tremaining: 22.1s\n",
      "604:\tlearn: 0.4093936\ttotal: 33.7s\tremaining: 22s\n",
      "605:\tlearn: 0.4093472\ttotal: 33.7s\tremaining: 21.9s\n",
      "606:\tlearn: 0.4093239\ttotal: 33.8s\tremaining: 21.9s\n",
      "607:\tlearn: 0.4092926\ttotal: 33.9s\tremaining: 21.8s\n",
      "608:\tlearn: 0.4092541\ttotal: 33.9s\tremaining: 21.8s\n",
      "609:\tlearn: 0.4092018\ttotal: 34s\tremaining: 21.7s\n",
      "610:\tlearn: 0.4091585\ttotal: 34s\tremaining: 21.7s\n",
      "611:\tlearn: 0.4091247\ttotal: 34.1s\tremaining: 21.6s\n",
      "612:\tlearn: 0.4091041\ttotal: 34.2s\tremaining: 21.6s\n",
      "613:\tlearn: 0.4090752\ttotal: 34.2s\tremaining: 21.5s\n",
      "614:\tlearn: 0.4090458\ttotal: 34.3s\tremaining: 21.5s\n",
      "615:\tlearn: 0.4089946\ttotal: 34.3s\tremaining: 21.4s\n",
      "616:\tlearn: 0.4089600\ttotal: 34.4s\tremaining: 21.4s\n",
      "617:\tlearn: 0.4089114\ttotal: 34.5s\tremaining: 21.3s\n",
      "618:\tlearn: 0.4088912\ttotal: 34.5s\tremaining: 21.2s\n",
      "619:\tlearn: 0.4088690\ttotal: 34.6s\tremaining: 21.2s\n",
      "620:\tlearn: 0.4088079\ttotal: 34.6s\tremaining: 21.1s\n",
      "621:\tlearn: 0.4087688\ttotal: 34.7s\tremaining: 21.1s\n",
      "622:\tlearn: 0.4087357\ttotal: 34.8s\tremaining: 21s\n",
      "623:\tlearn: 0.4087188\ttotal: 34.8s\tremaining: 21s\n",
      "624:\tlearn: 0.4086726\ttotal: 34.9s\tremaining: 20.9s\n",
      "625:\tlearn: 0.4086241\ttotal: 35s\tremaining: 20.9s\n",
      "626:\tlearn: 0.4086031\ttotal: 35s\tremaining: 20.8s\n",
      "627:\tlearn: 0.4085712\ttotal: 35.1s\tremaining: 20.8s\n",
      "628:\tlearn: 0.4085291\ttotal: 35.1s\tremaining: 20.7s\n",
      "629:\tlearn: 0.4084970\ttotal: 35.2s\tremaining: 20.7s\n",
      "630:\tlearn: 0.4084582\ttotal: 35.2s\tremaining: 20.6s\n",
      "631:\tlearn: 0.4084360\ttotal: 35.3s\tremaining: 20.6s\n",
      "632:\tlearn: 0.4083872\ttotal: 35.4s\tremaining: 20.5s\n",
      "633:\tlearn: 0.4083639\ttotal: 35.4s\tremaining: 20.4s\n",
      "634:\tlearn: 0.4083365\ttotal: 35.5s\tremaining: 20.4s\n",
      "635:\tlearn: 0.4083162\ttotal: 35.5s\tremaining: 20.3s\n",
      "636:\tlearn: 0.4082590\ttotal: 35.6s\tremaining: 20.3s\n",
      "637:\tlearn: 0.4082173\ttotal: 35.7s\tremaining: 20.2s\n",
      "638:\tlearn: 0.4081961\ttotal: 35.7s\tremaining: 20.2s\n",
      "639:\tlearn: 0.4081421\ttotal: 35.8s\tremaining: 20.1s\n",
      "640:\tlearn: 0.4081218\ttotal: 35.8s\tremaining: 20.1s\n",
      "641:\tlearn: 0.4081053\ttotal: 35.9s\tremaining: 20s\n",
      "642:\tlearn: 0.4080616\ttotal: 35.9s\tremaining: 20s\n",
      "643:\tlearn: 0.4080353\ttotal: 36s\tremaining: 19.9s\n",
      "644:\tlearn: 0.4079838\ttotal: 36.1s\tremaining: 19.8s\n",
      "645:\tlearn: 0.4079578\ttotal: 36.1s\tremaining: 19.8s\n"
     ]
    },
    {
     "name": "stdout",
     "output_type": "stream",
     "text": [
      "646:\tlearn: 0.4079191\ttotal: 36.2s\tremaining: 19.7s\n",
      "647:\tlearn: 0.4078811\ttotal: 36.2s\tremaining: 19.7s\n",
      "648:\tlearn: 0.4078429\ttotal: 36.3s\tremaining: 19.6s\n",
      "649:\tlearn: 0.4078172\ttotal: 36.4s\tremaining: 19.6s\n",
      "650:\tlearn: 0.4077654\ttotal: 36.5s\tremaining: 19.5s\n",
      "651:\tlearn: 0.4077308\ttotal: 36.5s\tremaining: 19.5s\n",
      "652:\tlearn: 0.4077059\ttotal: 36.6s\tremaining: 19.4s\n",
      "653:\tlearn: 0.4076753\ttotal: 36.6s\tremaining: 19.4s\n",
      "654:\tlearn: 0.4076662\ttotal: 36.7s\tremaining: 19.3s\n",
      "655:\tlearn: 0.4076188\ttotal: 36.8s\tremaining: 19.3s\n",
      "656:\tlearn: 0.4075749\ttotal: 36.9s\tremaining: 19.2s\n",
      "657:\tlearn: 0.4075508\ttotal: 36.9s\tremaining: 19.2s\n",
      "658:\tlearn: 0.4075115\ttotal: 37s\tremaining: 19.1s\n",
      "659:\tlearn: 0.4074686\ttotal: 37s\tremaining: 19.1s\n",
      "660:\tlearn: 0.4074398\ttotal: 37.1s\tremaining: 19s\n",
      "661:\tlearn: 0.4074265\ttotal: 37.2s\tremaining: 19s\n",
      "662:\tlearn: 0.4073978\ttotal: 37.2s\tremaining: 18.9s\n",
      "663:\tlearn: 0.4073743\ttotal: 37.3s\tremaining: 18.9s\n",
      "664:\tlearn: 0.4073310\ttotal: 37.3s\tremaining: 18.8s\n",
      "665:\tlearn: 0.4072950\ttotal: 37.4s\tremaining: 18.8s\n",
      "666:\tlearn: 0.4072575\ttotal: 37.5s\tremaining: 18.7s\n",
      "667:\tlearn: 0.4072154\ttotal: 37.5s\tremaining: 18.6s\n",
      "668:\tlearn: 0.4071817\ttotal: 37.6s\tremaining: 18.6s\n",
      "669:\tlearn: 0.4071670\ttotal: 37.6s\tremaining: 18.5s\n",
      "670:\tlearn: 0.4071383\ttotal: 37.7s\tremaining: 18.5s\n",
      "671:\tlearn: 0.4071014\ttotal: 37.7s\tremaining: 18.4s\n",
      "672:\tlearn: 0.4070556\ttotal: 37.8s\tremaining: 18.4s\n",
      "673:\tlearn: 0.4070268\ttotal: 37.9s\tremaining: 18.3s\n",
      "674:\tlearn: 0.4069929\ttotal: 37.9s\tremaining: 18.3s\n",
      "675:\tlearn: 0.4069715\ttotal: 38s\tremaining: 18.2s\n",
      "676:\tlearn: 0.4069324\ttotal: 38s\tremaining: 18.1s\n",
      "677:\tlearn: 0.4068849\ttotal: 38.1s\tremaining: 18.1s\n",
      "678:\tlearn: 0.4068614\ttotal: 38.2s\tremaining: 18s\n",
      "679:\tlearn: 0.4068346\ttotal: 38.2s\tremaining: 18s\n",
      "680:\tlearn: 0.4068048\ttotal: 38.3s\tremaining: 17.9s\n",
      "681:\tlearn: 0.4067882\ttotal: 38.3s\tremaining: 17.9s\n",
      "682:\tlearn: 0.4067321\ttotal: 38.4s\tremaining: 17.8s\n",
      "683:\tlearn: 0.4066874\ttotal: 38.5s\tremaining: 17.8s\n",
      "684:\tlearn: 0.4066630\ttotal: 38.5s\tremaining: 17.7s\n",
      "685:\tlearn: 0.4066289\ttotal: 38.6s\tremaining: 17.7s\n",
      "686:\tlearn: 0.4065941\ttotal: 38.6s\tremaining: 17.6s\n",
      "687:\tlearn: 0.4065515\ttotal: 38.7s\tremaining: 17.5s\n",
      "688:\tlearn: 0.4065150\ttotal: 38.8s\tremaining: 17.5s\n",
      "689:\tlearn: 0.4064962\ttotal: 38.8s\tremaining: 17.4s\n",
      "690:\tlearn: 0.4064770\ttotal: 38.9s\tremaining: 17.4s\n",
      "691:\tlearn: 0.4064592\ttotal: 38.9s\tremaining: 17.3s\n",
      "692:\tlearn: 0.4064264\ttotal: 39s\tremaining: 17.3s\n",
      "693:\tlearn: 0.4063875\ttotal: 39s\tremaining: 17.2s\n",
      "694:\tlearn: 0.4063429\ttotal: 39.1s\tremaining: 17.1s\n",
      "695:\tlearn: 0.4063230\ttotal: 39.1s\tremaining: 17.1s\n",
      "696:\tlearn: 0.4062749\ttotal: 39.2s\tremaining: 17s\n",
      "697:\tlearn: 0.4062385\ttotal: 39.3s\tremaining: 17s\n",
      "698:\tlearn: 0.4062231\ttotal: 39.3s\tremaining: 16.9s\n",
      "699:\tlearn: 0.4061934\ttotal: 39.4s\tremaining: 16.9s\n",
      "700:\tlearn: 0.4061538\ttotal: 39.4s\tremaining: 16.8s\n",
      "701:\tlearn: 0.4061253\ttotal: 39.5s\tremaining: 16.8s\n",
      "702:\tlearn: 0.4060895\ttotal: 39.6s\tremaining: 16.7s\n",
      "703:\tlearn: 0.4060505\ttotal: 39.6s\tremaining: 16.7s\n",
      "704:\tlearn: 0.4060285\ttotal: 39.7s\tremaining: 16.6s\n",
      "705:\tlearn: 0.4059979\ttotal: 39.7s\tremaining: 16.5s\n",
      "706:\tlearn: 0.4059604\ttotal: 39.8s\tremaining: 16.5s\n",
      "707:\tlearn: 0.4059366\ttotal: 39.8s\tremaining: 16.4s\n",
      "708:\tlearn: 0.4059285\ttotal: 39.9s\tremaining: 16.4s\n",
      "709:\tlearn: 0.4058842\ttotal: 40s\tremaining: 16.3s\n",
      "710:\tlearn: 0.4058767\ttotal: 40s\tremaining: 16.3s\n",
      "711:\tlearn: 0.4058553\ttotal: 40.1s\tremaining: 16.2s\n",
      "712:\tlearn: 0.4058245\ttotal: 40.1s\tremaining: 16.2s\n",
      "713:\tlearn: 0.4057923\ttotal: 40.2s\tremaining: 16.1s\n",
      "714:\tlearn: 0.4057713\ttotal: 40.3s\tremaining: 16s\n",
      "715:\tlearn: 0.4057471\ttotal: 40.3s\tremaining: 16s\n",
      "716:\tlearn: 0.4057064\ttotal: 40.4s\tremaining: 15.9s\n",
      "717:\tlearn: 0.4056747\ttotal: 40.4s\tremaining: 15.9s\n",
      "718:\tlearn: 0.4056428\ttotal: 40.5s\tremaining: 15.8s\n",
      "719:\tlearn: 0.4056041\ttotal: 40.5s\tremaining: 15.8s\n",
      "720:\tlearn: 0.4055730\ttotal: 40.6s\tremaining: 15.7s\n",
      "721:\tlearn: 0.4055523\ttotal: 40.7s\tremaining: 15.7s\n",
      "722:\tlearn: 0.4055399\ttotal: 40.7s\tremaining: 15.6s\n",
      "723:\tlearn: 0.4055272\ttotal: 40.8s\tremaining: 15.5s\n",
      "724:\tlearn: 0.4054954\ttotal: 40.8s\tremaining: 15.5s\n",
      "725:\tlearn: 0.4054578\ttotal: 40.9s\tremaining: 15.4s\n",
      "726:\tlearn: 0.4054295\ttotal: 41s\tremaining: 15.4s\n",
      "727:\tlearn: 0.4053906\ttotal: 41s\tremaining: 15.3s\n",
      "728:\tlearn: 0.4053536\ttotal: 41.1s\tremaining: 15.3s\n",
      "729:\tlearn: 0.4053195\ttotal: 41.1s\tremaining: 15.2s\n",
      "730:\tlearn: 0.4052822\ttotal: 41.2s\tremaining: 15.2s\n",
      "731:\tlearn: 0.4052614\ttotal: 41.3s\tremaining: 15.1s\n",
      "732:\tlearn: 0.4052229\ttotal: 41.3s\tremaining: 15s\n",
      "733:\tlearn: 0.4051798\ttotal: 41.4s\tremaining: 15s\n",
      "734:\tlearn: 0.4051478\ttotal: 41.4s\tremaining: 14.9s\n",
      "735:\tlearn: 0.4051134\ttotal: 41.5s\tremaining: 14.9s\n",
      "736:\tlearn: 0.4050723\ttotal: 41.5s\tremaining: 14.8s\n",
      "737:\tlearn: 0.4050469\ttotal: 41.6s\tremaining: 14.8s\n",
      "738:\tlearn: 0.4050243\ttotal: 41.7s\tremaining: 14.7s\n",
      "739:\tlearn: 0.4049990\ttotal: 41.7s\tremaining: 14.7s\n",
      "740:\tlearn: 0.4049616\ttotal: 41.8s\tremaining: 14.6s\n",
      "741:\tlearn: 0.4049369\ttotal: 41.8s\tremaining: 14.6s\n",
      "742:\tlearn: 0.4049132\ttotal: 41.9s\tremaining: 14.5s\n",
      "743:\tlearn: 0.4048786\ttotal: 42s\tremaining: 14.4s\n",
      "744:\tlearn: 0.4048575\ttotal: 42s\tremaining: 14.4s\n",
      "745:\tlearn: 0.4048139\ttotal: 42.1s\tremaining: 14.3s\n",
      "746:\tlearn: 0.4047905\ttotal: 42.1s\tremaining: 14.3s\n",
      "747:\tlearn: 0.4047597\ttotal: 42.2s\tremaining: 14.2s\n",
      "748:\tlearn: 0.4047427\ttotal: 42.2s\tremaining: 14.2s\n",
      "749:\tlearn: 0.4047107\ttotal: 42.3s\tremaining: 14.1s\n",
      "750:\tlearn: 0.4046983\ttotal: 42.4s\tremaining: 14s\n",
      "751:\tlearn: 0.4046654\ttotal: 42.4s\tremaining: 14s\n",
      "752:\tlearn: 0.4046349\ttotal: 42.5s\tremaining: 13.9s\n",
      "753:\tlearn: 0.4045855\ttotal: 42.5s\tremaining: 13.9s\n",
      "754:\tlearn: 0.4045437\ttotal: 42.6s\tremaining: 13.8s\n",
      "755:\tlearn: 0.4045115\ttotal: 42.7s\tremaining: 13.8s\n",
      "756:\tlearn: 0.4044921\ttotal: 42.7s\tremaining: 13.7s\n",
      "757:\tlearn: 0.4044605\ttotal: 42.8s\tremaining: 13.7s\n",
      "758:\tlearn: 0.4044362\ttotal: 42.8s\tremaining: 13.6s\n",
      "759:\tlearn: 0.4044122\ttotal: 42.9s\tremaining: 13.5s\n",
      "760:\tlearn: 0.4043817\ttotal: 43s\tremaining: 13.5s\n",
      "761:\tlearn: 0.4043557\ttotal: 43s\tremaining: 13.4s\n",
      "762:\tlearn: 0.4043321\ttotal: 43.1s\tremaining: 13.4s\n",
      "763:\tlearn: 0.4043115\ttotal: 43.1s\tremaining: 13.3s\n",
      "764:\tlearn: 0.4042909\ttotal: 43.2s\tremaining: 13.3s\n",
      "765:\tlearn: 0.4042417\ttotal: 43.2s\tremaining: 13.2s\n",
      "766:\tlearn: 0.4042037\ttotal: 43.3s\tremaining: 13.2s\n",
      "767:\tlearn: 0.4041622\ttotal: 43.4s\tremaining: 13.1s\n",
      "768:\tlearn: 0.4041382\ttotal: 43.4s\tremaining: 13s\n",
      "769:\tlearn: 0.4041172\ttotal: 43.5s\tremaining: 13s\n",
      "770:\tlearn: 0.4040792\ttotal: 43.5s\tremaining: 12.9s\n",
      "771:\tlearn: 0.4040440\ttotal: 43.6s\tremaining: 12.9s\n",
      "772:\tlearn: 0.4040281\ttotal: 43.7s\tremaining: 12.8s\n",
      "773:\tlearn: 0.4039751\ttotal: 43.7s\tremaining: 12.8s\n",
      "774:\tlearn: 0.4039447\ttotal: 43.8s\tremaining: 12.7s\n",
      "775:\tlearn: 0.4039024\ttotal: 43.8s\tremaining: 12.7s\n",
      "776:\tlearn: 0.4038830\ttotal: 43.9s\tremaining: 12.6s\n",
      "777:\tlearn: 0.4038502\ttotal: 44s\tremaining: 12.5s\n",
      "778:\tlearn: 0.4038276\ttotal: 44s\tremaining: 12.5s\n",
      "779:\tlearn: 0.4038068\ttotal: 44.1s\tremaining: 12.4s\n",
      "780:\tlearn: 0.4037855\ttotal: 44.1s\tremaining: 12.4s\n",
      "781:\tlearn: 0.4037343\ttotal: 44.2s\tremaining: 12.3s\n",
      "782:\tlearn: 0.4037053\ttotal: 44.3s\tremaining: 12.3s\n",
      "783:\tlearn: 0.4036797\ttotal: 44.3s\tremaining: 12.2s\n",
      "784:\tlearn: 0.4036475\ttotal: 44.4s\tremaining: 12.2s\n",
      "785:\tlearn: 0.4036199\ttotal: 44.4s\tremaining: 12.1s\n",
      "786:\tlearn: 0.4035952\ttotal: 44.5s\tremaining: 12s\n",
      "787:\tlearn: 0.4035560\ttotal: 44.6s\tremaining: 12s\n",
      "788:\tlearn: 0.4035120\ttotal: 44.6s\tremaining: 11.9s\n",
      "789:\tlearn: 0.4034808\ttotal: 44.7s\tremaining: 11.9s\n",
      "790:\tlearn: 0.4034623\ttotal: 44.7s\tremaining: 11.8s\n",
      "791:\tlearn: 0.4034142\ttotal: 44.8s\tremaining: 11.8s\n",
      "792:\tlearn: 0.4033922\ttotal: 44.8s\tremaining: 11.7s\n",
      "793:\tlearn: 0.4033637\ttotal: 44.9s\tremaining: 11.7s\n",
      "794:\tlearn: 0.4033312\ttotal: 45s\tremaining: 11.6s\n",
      "795:\tlearn: 0.4032907\ttotal: 45s\tremaining: 11.5s\n",
      "796:\tlearn: 0.4032576\ttotal: 45.1s\tremaining: 11.5s\n",
      "797:\tlearn: 0.4032314\ttotal: 45.1s\tremaining: 11.4s\n",
      "798:\tlearn: 0.4032082\ttotal: 45.2s\tremaining: 11.4s\n",
      "799:\tlearn: 0.4031729\ttotal: 45.3s\tremaining: 11.3s\n",
      "800:\tlearn: 0.4031524\ttotal: 45.3s\tremaining: 11.3s\n",
      "801:\tlearn: 0.4031367\ttotal: 45.4s\tremaining: 11.2s\n",
      "802:\tlearn: 0.4030971\ttotal: 45.4s\tremaining: 11.1s\n",
      "803:\tlearn: 0.4030617\ttotal: 45.5s\tremaining: 11.1s\n",
      "804:\tlearn: 0.4030277\ttotal: 45.6s\tremaining: 11s\n"
     ]
    },
    {
     "name": "stdout",
     "output_type": "stream",
     "text": [
      "805:\tlearn: 0.4029999\ttotal: 45.6s\tremaining: 11s\n",
      "806:\tlearn: 0.4029673\ttotal: 45.7s\tremaining: 10.9s\n",
      "807:\tlearn: 0.4029225\ttotal: 45.7s\tremaining: 10.9s\n",
      "808:\tlearn: 0.4028967\ttotal: 45.8s\tremaining: 10.8s\n",
      "809:\tlearn: 0.4028676\ttotal: 45.8s\tremaining: 10.8s\n",
      "810:\tlearn: 0.4028162\ttotal: 45.9s\tremaining: 10.7s\n",
      "811:\tlearn: 0.4027915\ttotal: 46s\tremaining: 10.6s\n",
      "812:\tlearn: 0.4027407\ttotal: 46s\tremaining: 10.6s\n",
      "813:\tlearn: 0.4026935\ttotal: 46.1s\tremaining: 10.5s\n",
      "814:\tlearn: 0.4026569\ttotal: 46.1s\tremaining: 10.5s\n",
      "815:\tlearn: 0.4026162\ttotal: 46.2s\tremaining: 10.4s\n",
      "816:\tlearn: 0.4025823\ttotal: 46.3s\tremaining: 10.4s\n",
      "817:\tlearn: 0.4025417\ttotal: 46.3s\tremaining: 10.3s\n",
      "818:\tlearn: 0.4025164\ttotal: 46.4s\tremaining: 10.2s\n",
      "819:\tlearn: 0.4024886\ttotal: 46.4s\tremaining: 10.2s\n",
      "820:\tlearn: 0.4024487\ttotal: 46.5s\tremaining: 10.1s\n",
      "821:\tlearn: 0.4024074\ttotal: 46.5s\tremaining: 10.1s\n",
      "822:\tlearn: 0.4023676\ttotal: 46.6s\tremaining: 10s\n",
      "823:\tlearn: 0.4023475\ttotal: 46.7s\tremaining: 9.96s\n",
      "824:\tlearn: 0.4023127\ttotal: 46.7s\tremaining: 9.91s\n",
      "825:\tlearn: 0.4023016\ttotal: 46.8s\tremaining: 9.85s\n",
      "826:\tlearn: 0.4022830\ttotal: 46.8s\tremaining: 9.8s\n",
      "827:\tlearn: 0.4022626\ttotal: 46.9s\tremaining: 9.74s\n",
      "828:\tlearn: 0.4022173\ttotal: 46.9s\tremaining: 9.68s\n",
      "829:\tlearn: 0.4021730\ttotal: 47s\tremaining: 9.63s\n",
      "830:\tlearn: 0.4021513\ttotal: 47.1s\tremaining: 9.57s\n",
      "831:\tlearn: 0.4021200\ttotal: 47.1s\tremaining: 9.51s\n",
      "832:\tlearn: 0.4020955\ttotal: 47.2s\tremaining: 9.46s\n",
      "833:\tlearn: 0.4020753\ttotal: 47.2s\tremaining: 9.4s\n",
      "834:\tlearn: 0.4020505\ttotal: 47.3s\tremaining: 9.35s\n",
      "835:\tlearn: 0.4020129\ttotal: 47.4s\tremaining: 9.29s\n",
      "836:\tlearn: 0.4019988\ttotal: 47.4s\tremaining: 9.23s\n",
      "837:\tlearn: 0.4019714\ttotal: 47.5s\tremaining: 9.18s\n",
      "838:\tlearn: 0.4019571\ttotal: 47.5s\tremaining: 9.12s\n",
      "839:\tlearn: 0.4019324\ttotal: 47.6s\tremaining: 9.06s\n",
      "840:\tlearn: 0.4019039\ttotal: 47.7s\tremaining: 9.01s\n",
      "841:\tlearn: 0.4018803\ttotal: 47.7s\tremaining: 8.95s\n",
      "842:\tlearn: 0.4018555\ttotal: 47.8s\tremaining: 8.89s\n",
      "843:\tlearn: 0.4018239\ttotal: 47.8s\tremaining: 8.84s\n",
      "844:\tlearn: 0.4017804\ttotal: 47.9s\tremaining: 8.78s\n",
      "845:\tlearn: 0.4017512\ttotal: 47.9s\tremaining: 8.73s\n",
      "846:\tlearn: 0.4017201\ttotal: 48s\tremaining: 8.67s\n",
      "847:\tlearn: 0.4016856\ttotal: 48s\tremaining: 8.61s\n",
      "848:\tlearn: 0.4016493\ttotal: 48.1s\tremaining: 8.56s\n",
      "849:\tlearn: 0.4015923\ttotal: 48.2s\tremaining: 8.5s\n",
      "850:\tlearn: 0.4015762\ttotal: 48.2s\tremaining: 8.44s\n",
      "851:\tlearn: 0.4015612\ttotal: 48.3s\tremaining: 8.39s\n",
      "852:\tlearn: 0.4015206\ttotal: 48.4s\tremaining: 8.33s\n",
      "853:\tlearn: 0.4014921\ttotal: 48.4s\tremaining: 8.28s\n",
      "854:\tlearn: 0.4014662\ttotal: 48.5s\tremaining: 8.22s\n",
      "855:\tlearn: 0.4014276\ttotal: 48.5s\tremaining: 8.16s\n",
      "856:\tlearn: 0.4013994\ttotal: 48.6s\tremaining: 8.11s\n",
      "857:\tlearn: 0.4013595\ttotal: 48.6s\tremaining: 8.05s\n",
      "858:\tlearn: 0.4013393\ttotal: 48.7s\tremaining: 7.99s\n",
      "859:\tlearn: 0.4013188\ttotal: 48.8s\tremaining: 7.94s\n",
      "860:\tlearn: 0.4012822\ttotal: 48.8s\tremaining: 7.88s\n",
      "861:\tlearn: 0.4012567\ttotal: 48.9s\tremaining: 7.82s\n",
      "862:\tlearn: 0.4012250\ttotal: 48.9s\tremaining: 7.77s\n",
      "863:\tlearn: 0.4011924\ttotal: 49s\tremaining: 7.71s\n",
      "864:\tlearn: 0.4011540\ttotal: 49s\tremaining: 7.65s\n",
      "865:\tlearn: 0.4011018\ttotal: 49.1s\tremaining: 7.59s\n",
      "866:\tlearn: 0.4010652\ttotal: 49.1s\tremaining: 7.54s\n",
      "867:\tlearn: 0.4010400\ttotal: 49.2s\tremaining: 7.48s\n",
      "868:\tlearn: 0.4010110\ttotal: 49.3s\tremaining: 7.43s\n",
      "869:\tlearn: 0.4009848\ttotal: 49.3s\tremaining: 7.37s\n",
      "870:\tlearn: 0.4009786\ttotal: 49.4s\tremaining: 7.31s\n",
      "871:\tlearn: 0.4009550\ttotal: 49.4s\tremaining: 7.25s\n",
      "872:\tlearn: 0.4009112\ttotal: 49.5s\tremaining: 7.2s\n",
      "873:\tlearn: 0.4008888\ttotal: 49.5s\tremaining: 7.14s\n",
      "874:\tlearn: 0.4008582\ttotal: 49.6s\tremaining: 7.08s\n",
      "875:\tlearn: 0.4008233\ttotal: 49.7s\tremaining: 7.03s\n",
      "876:\tlearn: 0.4008064\ttotal: 49.7s\tremaining: 6.97s\n",
      "877:\tlearn: 0.4007795\ttotal: 49.8s\tremaining: 6.92s\n",
      "878:\tlearn: 0.4007376\ttotal: 49.8s\tremaining: 6.86s\n",
      "879:\tlearn: 0.4006942\ttotal: 49.9s\tremaining: 6.8s\n",
      "880:\tlearn: 0.4006580\ttotal: 49.9s\tremaining: 6.75s\n",
      "881:\tlearn: 0.4006465\ttotal: 50s\tremaining: 6.69s\n",
      "882:\tlearn: 0.4006225\ttotal: 50.1s\tremaining: 6.63s\n",
      "883:\tlearn: 0.4005880\ttotal: 50.1s\tremaining: 6.58s\n",
      "884:\tlearn: 0.4005459\ttotal: 50.2s\tremaining: 6.52s\n",
      "885:\tlearn: 0.4005299\ttotal: 50.2s\tremaining: 6.46s\n",
      "886:\tlearn: 0.4005156\ttotal: 50.3s\tremaining: 6.41s\n",
      "887:\tlearn: 0.4004926\ttotal: 50.4s\tremaining: 6.35s\n",
      "888:\tlearn: 0.4004876\ttotal: 50.4s\tremaining: 6.29s\n",
      "889:\tlearn: 0.4004562\ttotal: 50.5s\tremaining: 6.24s\n",
      "890:\tlearn: 0.4004339\ttotal: 50.5s\tremaining: 6.18s\n",
      "891:\tlearn: 0.4004116\ttotal: 50.6s\tremaining: 6.13s\n",
      "892:\tlearn: 0.4003774\ttotal: 50.7s\tremaining: 6.07s\n",
      "893:\tlearn: 0.4003396\ttotal: 50.7s\tremaining: 6.01s\n",
      "894:\tlearn: 0.4003067\ttotal: 50.8s\tremaining: 5.96s\n",
      "895:\tlearn: 0.4002856\ttotal: 50.8s\tremaining: 5.9s\n",
      "896:\tlearn: 0.4002454\ttotal: 50.9s\tremaining: 5.84s\n",
      "897:\tlearn: 0.4002082\ttotal: 50.9s\tremaining: 5.79s\n",
      "898:\tlearn: 0.4001806\ttotal: 51s\tremaining: 5.73s\n",
      "899:\tlearn: 0.4001492\ttotal: 51.1s\tremaining: 5.67s\n",
      "900:\tlearn: 0.4001149\ttotal: 51.1s\tremaining: 5.62s\n",
      "901:\tlearn: 0.4000844\ttotal: 51.2s\tremaining: 5.56s\n",
      "902:\tlearn: 0.4000416\ttotal: 51.2s\tremaining: 5.5s\n",
      "903:\tlearn: 0.4000083\ttotal: 51.3s\tremaining: 5.45s\n",
      "904:\tlearn: 0.3999880\ttotal: 51.3s\tremaining: 5.39s\n",
      "905:\tlearn: 0.3999600\ttotal: 51.4s\tremaining: 5.33s\n",
      "906:\tlearn: 0.3999378\ttotal: 51.5s\tremaining: 5.28s\n",
      "907:\tlearn: 0.3999020\ttotal: 51.5s\tremaining: 5.22s\n",
      "908:\tlearn: 0.3998707\ttotal: 51.6s\tremaining: 5.16s\n",
      "909:\tlearn: 0.3998370\ttotal: 51.6s\tremaining: 5.11s\n",
      "910:\tlearn: 0.3998049\ttotal: 51.7s\tremaining: 5.05s\n",
      "911:\tlearn: 0.3997774\ttotal: 51.7s\tremaining: 4.99s\n",
      "912:\tlearn: 0.3997622\ttotal: 51.8s\tremaining: 4.94s\n",
      "913:\tlearn: 0.3997345\ttotal: 51.9s\tremaining: 4.88s\n",
      "914:\tlearn: 0.3997126\ttotal: 51.9s\tremaining: 4.82s\n",
      "915:\tlearn: 0.3996755\ttotal: 52s\tremaining: 4.77s\n",
      "916:\tlearn: 0.3996258\ttotal: 52s\tremaining: 4.71s\n",
      "917:\tlearn: 0.3996073\ttotal: 52.1s\tremaining: 4.65s\n",
      "918:\tlearn: 0.3995631\ttotal: 52.1s\tremaining: 4.59s\n",
      "919:\tlearn: 0.3995330\ttotal: 52.2s\tremaining: 4.54s\n",
      "920:\tlearn: 0.3995166\ttotal: 52.3s\tremaining: 4.48s\n",
      "921:\tlearn: 0.3994941\ttotal: 52.3s\tremaining: 4.42s\n",
      "922:\tlearn: 0.3994617\ttotal: 52.4s\tremaining: 4.37s\n",
      "923:\tlearn: 0.3994392\ttotal: 52.4s\tremaining: 4.31s\n",
      "924:\tlearn: 0.3994177\ttotal: 52.5s\tremaining: 4.26s\n",
      "925:\tlearn: 0.3993923\ttotal: 52.6s\tremaining: 4.2s\n",
      "926:\tlearn: 0.3993708\ttotal: 52.6s\tremaining: 4.14s\n",
      "927:\tlearn: 0.3993428\ttotal: 52.7s\tremaining: 4.09s\n",
      "928:\tlearn: 0.3992984\ttotal: 52.7s\tremaining: 4.03s\n",
      "929:\tlearn: 0.3992743\ttotal: 52.8s\tremaining: 3.97s\n",
      "930:\tlearn: 0.3992288\ttotal: 52.8s\tremaining: 3.92s\n",
      "931:\tlearn: 0.3991916\ttotal: 52.9s\tremaining: 3.86s\n",
      "932:\tlearn: 0.3991715\ttotal: 53s\tremaining: 3.8s\n",
      "933:\tlearn: 0.3991375\ttotal: 53s\tremaining: 3.75s\n",
      "934:\tlearn: 0.3991068\ttotal: 53.1s\tremaining: 3.69s\n",
      "935:\tlearn: 0.3990754\ttotal: 53.1s\tremaining: 3.63s\n",
      "936:\tlearn: 0.3990367\ttotal: 53.2s\tremaining: 3.58s\n",
      "937:\tlearn: 0.3990067\ttotal: 53.3s\tremaining: 3.52s\n",
      "938:\tlearn: 0.3989724\ttotal: 53.3s\tremaining: 3.46s\n",
      "939:\tlearn: 0.3989424\ttotal: 53.4s\tremaining: 3.41s\n",
      "940:\tlearn: 0.3989249\ttotal: 53.4s\tremaining: 3.35s\n",
      "941:\tlearn: 0.3988915\ttotal: 53.5s\tremaining: 3.29s\n",
      "942:\tlearn: 0.3988758\ttotal: 53.5s\tremaining: 3.24s\n",
      "943:\tlearn: 0.3988566\ttotal: 53.6s\tremaining: 3.18s\n",
      "944:\tlearn: 0.3988110\ttotal: 53.7s\tremaining: 3.12s\n",
      "945:\tlearn: 0.3987774\ttotal: 53.7s\tremaining: 3.06s\n",
      "946:\tlearn: 0.3987415\ttotal: 53.8s\tremaining: 3.01s\n",
      "947:\tlearn: 0.3986842\ttotal: 53.8s\tremaining: 2.95s\n",
      "948:\tlearn: 0.3986553\ttotal: 53.9s\tremaining: 2.9s\n",
      "949:\tlearn: 0.3986313\ttotal: 53.9s\tremaining: 2.84s\n",
      "950:\tlearn: 0.3986095\ttotal: 54s\tremaining: 2.78s\n",
      "951:\tlearn: 0.3985830\ttotal: 54.1s\tremaining: 2.73s\n",
      "952:\tlearn: 0.3985642\ttotal: 54.1s\tremaining: 2.67s\n",
      "953:\tlearn: 0.3985122\ttotal: 54.2s\tremaining: 2.61s\n",
      "954:\tlearn: 0.3984937\ttotal: 54.2s\tremaining: 2.56s\n",
      "955:\tlearn: 0.3984539\ttotal: 54.3s\tremaining: 2.5s\n",
      "956:\tlearn: 0.3984255\ttotal: 54.4s\tremaining: 2.44s\n",
      "957:\tlearn: 0.3983786\ttotal: 54.4s\tremaining: 2.38s\n",
      "958:\tlearn: 0.3983413\ttotal: 54.5s\tremaining: 2.33s\n",
      "959:\tlearn: 0.3983091\ttotal: 54.5s\tremaining: 2.27s\n",
      "960:\tlearn: 0.3982937\ttotal: 54.6s\tremaining: 2.21s\n",
      "961:\tlearn: 0.3982634\ttotal: 54.7s\tremaining: 2.16s\n",
      "962:\tlearn: 0.3982265\ttotal: 54.7s\tremaining: 2.1s\n",
      "963:\tlearn: 0.3982086\ttotal: 54.8s\tremaining: 2.04s\n",
      "964:\tlearn: 0.3981843\ttotal: 54.8s\tremaining: 1.99s\n"
     ]
    },
    {
     "name": "stdout",
     "output_type": "stream",
     "text": [
      "965:\tlearn: 0.3981572\ttotal: 54.9s\tremaining: 1.93s\n",
      "966:\tlearn: 0.3981013\ttotal: 54.9s\tremaining: 1.87s\n",
      "967:\tlearn: 0.3980742\ttotal: 55s\tremaining: 1.82s\n",
      "968:\tlearn: 0.3980520\ttotal: 55s\tremaining: 1.76s\n",
      "969:\tlearn: 0.3980279\ttotal: 55.1s\tremaining: 1.7s\n",
      "970:\tlearn: 0.3979951\ttotal: 55.2s\tremaining: 1.65s\n",
      "971:\tlearn: 0.3979683\ttotal: 55.2s\tremaining: 1.59s\n",
      "972:\tlearn: 0.3979454\ttotal: 55.3s\tremaining: 1.53s\n",
      "973:\tlearn: 0.3979252\ttotal: 55.3s\tremaining: 1.48s\n",
      "974:\tlearn: 0.3979036\ttotal: 55.4s\tremaining: 1.42s\n",
      "975:\tlearn: 0.3978739\ttotal: 55.4s\tremaining: 1.36s\n",
      "976:\tlearn: 0.3978437\ttotal: 55.5s\tremaining: 1.31s\n",
      "977:\tlearn: 0.3978256\ttotal: 55.6s\tremaining: 1.25s\n",
      "978:\tlearn: 0.3977867\ttotal: 55.6s\tremaining: 1.19s\n",
      "979:\tlearn: 0.3977425\ttotal: 55.7s\tremaining: 1.14s\n",
      "980:\tlearn: 0.3977153\ttotal: 55.7s\tremaining: 1.08s\n",
      "981:\tlearn: 0.3976995\ttotal: 55.8s\tremaining: 1.02s\n",
      "982:\tlearn: 0.3976630\ttotal: 55.9s\tremaining: 966ms\n",
      "983:\tlearn: 0.3976458\ttotal: 55.9s\tremaining: 909ms\n",
      "984:\tlearn: 0.3976187\ttotal: 56s\tremaining: 853ms\n",
      "985:\tlearn: 0.3976018\ttotal: 56.1s\tremaining: 796ms\n",
      "986:\tlearn: 0.3975769\ttotal: 56.1s\tremaining: 739ms\n",
      "987:\tlearn: 0.3975580\ttotal: 56.2s\tremaining: 682ms\n",
      "988:\tlearn: 0.3975457\ttotal: 56.2s\tremaining: 625ms\n",
      "989:\tlearn: 0.3975161\ttotal: 56.3s\tremaining: 568ms\n",
      "990:\tlearn: 0.3974888\ttotal: 56.3s\tremaining: 512ms\n",
      "991:\tlearn: 0.3974692\ttotal: 56.4s\tremaining: 455ms\n",
      "992:\tlearn: 0.3974516\ttotal: 56.5s\tremaining: 398ms\n",
      "993:\tlearn: 0.3974267\ttotal: 56.5s\tremaining: 341ms\n",
      "994:\tlearn: 0.3973893\ttotal: 56.6s\tremaining: 284ms\n",
      "995:\tlearn: 0.3973260\ttotal: 56.7s\tremaining: 228ms\n",
      "996:\tlearn: 0.3972842\ttotal: 56.7s\tremaining: 171ms\n",
      "997:\tlearn: 0.3972618\ttotal: 56.8s\tremaining: 114ms\n",
      "998:\tlearn: 0.3972361\ttotal: 56.8s\tremaining: 56.9ms\n",
      "999:\tlearn: 0.3972001\ttotal: 56.9s\tremaining: 0us\n"
     ]
    },
    {
     "data": {
      "text/plain": [
       "<catboost.core.CatBoostClassifier at 0x1d37a8c0eb0>"
      ]
     },
     "execution_count": 48,
     "metadata": {},
     "output_type": "execute_result"
    }
   ],
   "source": [
    "cat.fit(X_train,y_train)"
   ]
  },
  {
   "cell_type": "code",
   "execution_count": 49,
   "metadata": {},
   "outputs": [],
   "source": [
    "cat_pred = cat.predict(X_test)"
   ]
  },
  {
   "cell_type": "code",
   "execution_count": 50,
   "metadata": {},
   "outputs": [
    {
     "name": "stdout",
     "output_type": "stream",
     "text": [
      "[[43834  2912]\n",
      " [10212  4474]]\n",
      "\n",
      "\n",
      "              precision    recall  f1-score   support\n",
      "\n",
      "           0       0.81      0.94      0.87     46746\n",
      "           1       0.61      0.30      0.41     14686\n",
      "\n",
      "    accuracy                           0.79     61432\n",
      "   macro avg       0.71      0.62      0.64     61432\n",
      "weighted avg       0.76      0.79      0.76     61432\n",
      "\n"
     ]
    }
   ],
   "source": [
    "print(confusion_matrix(y_test,cat_pred))\n",
    "print('\\n')\n",
    "print(classification_report(y_test,cat_pred))"
   ]
  },
  {
   "cell_type": "markdown",
   "metadata": {},
   "source": [
    "## Saving the Model"
   ]
  },
  {
   "cell_type": "code",
   "execution_count": 51,
   "metadata": {},
   "outputs": [],
   "source": [
    "#Save the model\n",
    "import pickle"
   ]
  },
  {
   "cell_type": "code",
   "execution_count": 52,
   "metadata": {},
   "outputs": [
    {
     "ename": "NameError",
     "evalue": "name 'model' is not defined",
     "output_type": "error",
     "traceback": [
      "\u001b[1;31m---------------------------------------------------------------------------\u001b[0m",
      "\u001b[1;31mNameError\u001b[0m                                 Traceback (most recent call last)",
      "\u001b[1;32m<ipython-input-52-bfd6fa8795bc>\u001b[0m in \u001b[0;36m<module>\u001b[1;34m\u001b[0m\n\u001b[0;32m      1\u001b[0m \u001b[1;31m#Random Forest Model\u001b[0m\u001b[1;33m\u001b[0m\u001b[1;33m\u001b[0m\u001b[1;33m\u001b[0m\u001b[0m\n\u001b[0;32m      2\u001b[0m \u001b[0mfile_name\u001b[0m \u001b[1;33m=\u001b[0m \u001b[1;34m'Credit Card Lead Prediction_RF.sav'\u001b[0m\u001b[1;33m\u001b[0m\u001b[1;33m\u001b[0m\u001b[0m\n\u001b[1;32m----> 3\u001b[1;33m \u001b[0mpickle\u001b[0m\u001b[1;33m.\u001b[0m\u001b[0mdump\u001b[0m\u001b[1;33m(\u001b[0m\u001b[0mmodel\u001b[0m\u001b[1;33m,\u001b[0m \u001b[0mopen\u001b[0m\u001b[1;33m(\u001b[0m\u001b[0mfile_name\u001b[0m\u001b[1;33m,\u001b[0m \u001b[1;34m'wb'\u001b[0m\u001b[1;33m)\u001b[0m\u001b[1;33m)\u001b[0m\u001b[1;33m\u001b[0m\u001b[1;33m\u001b[0m\u001b[0m\n\u001b[0m",
      "\u001b[1;31mNameError\u001b[0m: name 'model' is not defined"
     ]
    }
   ],
   "source": [
    "#Random Forest Model\n",
    "#file_name = 'Credit Card Lead Prediction_RF.sav'\n",
    "#pickle.dump(model, open(file_name, 'wb'))"
   ]
  },
  {
   "cell_type": "code",
   "execution_count": null,
   "metadata": {},
   "outputs": [],
   "source": [
    "#CatBoost Model\n",
    "#file_name = 'Credit Card Lead Prediction_CT.sav'\n",
    "#pickle.dump(cat, open(file_name, 'wb'))"
   ]
  },
  {
   "cell_type": "code",
   "execution_count": 53,
   "metadata": {},
   "outputs": [],
   "source": [
    "#XGB Model\n",
    "file_name = 'Credit Card Lead Prediction_xgb.sav'\n",
    "pickle.dump(xgb_model, open(file_name, 'wb'))"
   ]
  },
  {
   "cell_type": "code",
   "execution_count": null,
   "metadata": {},
   "outputs": [],
   "source": []
  }
 ],
 "metadata": {
  "kernelspec": {
   "display_name": "Python 3",
   "language": "python",
   "name": "python3"
  },
  "language_info": {
   "codemirror_mode": {
    "name": "ipython",
    "version": 3
   },
   "file_extension": ".py",
   "mimetype": "text/x-python",
   "name": "python",
   "nbconvert_exporter": "python",
   "pygments_lexer": "ipython3",
   "version": "3.8.6"
  }
 },
 "nbformat": 4,
 "nbformat_minor": 4
}
