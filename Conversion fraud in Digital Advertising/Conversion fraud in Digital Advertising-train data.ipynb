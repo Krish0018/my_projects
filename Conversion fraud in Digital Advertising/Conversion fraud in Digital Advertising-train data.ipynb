{
 "cells": [
  {
   "cell_type": "code",
   "execution_count": 1,
   "metadata": {},
   "outputs": [],
   "source": [
    "#importing libraries\n",
    "import pandas as pd\n",
    "import numpy as np\n",
    "import matplotlib.pyplot as plt"
   ]
  },
  {
   "cell_type": "code",
   "execution_count": 2,
   "metadata": {},
   "outputs": [],
   "source": [
    "#load the dataset\n",
    "df = pd.read_csv('Training Data.csv')"
   ]
  },
  {
   "cell_type": "code",
   "execution_count": 3,
   "metadata": {},
   "outputs": [
    {
     "data": {
      "text/html": [
       "<div>\n",
       "<style scoped>\n",
       "    .dataframe tbody tr th:only-of-type {\n",
       "        vertical-align: middle;\n",
       "    }\n",
       "\n",
       "    .dataframe tbody tr th {\n",
       "        vertical-align: top;\n",
       "    }\n",
       "\n",
       "    .dataframe thead th {\n",
       "        text-align: right;\n",
       "    }\n",
       "</style>\n",
       "<table border=\"1\" class=\"dataframe\">\n",
       "  <thead>\n",
       "    <tr style=\"text-align: right;\">\n",
       "      <th></th>\n",
       "      <th>clientid_cr</th>\n",
       "      <th>clmbuserid_cr</th>\n",
       "      <th>conversiontime_cr</th>\n",
       "      <th>imprid_cr</th>\n",
       "      <th>adslotdimid_cr</th>\n",
       "      <th>algo_cr</th>\n",
       "      <th>audiences_cr</th>\n",
       "      <th>clickbid_cr</th>\n",
       "      <th>geodimid_cr</th>\n",
       "      <th>ip_cr</th>\n",
       "      <th>...</th>\n",
       "      <th>cityGrpDimId_cr</th>\n",
       "      <th>siteClusterIds_cr</th>\n",
       "      <th>refClusterId_cr</th>\n",
       "      <th>paid_cr</th>\n",
       "      <th>spend_cr</th>\n",
       "      <th>attributionType_cr</th>\n",
       "      <th>conversionid_cr</th>\n",
       "      <th>optimize_on_cr</th>\n",
       "      <th>bundleId_cr</th>\n",
       "      <th>conversion_fraud</th>\n",
       "    </tr>\n",
       "  </thead>\n",
       "  <tbody>\n",
       "    <tr>\n",
       "      <th>0</th>\n",
       "      <td>75694</td>\n",
       "      <td>31629cd0-0b34-460f-aa61-80c3234e1225-1sjfw</td>\n",
       "      <td>1.620000e+12</td>\n",
       "      <td>01649076-c77f-4d70-afc8-213535427147-1sjd4</td>\n",
       "      <td>321300</td>\n",
       "      <td>38.0</td>\n",
       "      <td>8gw,o3b</td>\n",
       "      <td>2.869316</td>\n",
       "      <td>144</td>\n",
       "      <td>XXX.XXX.XXX.XXX</td>\n",
       "      <td>...</td>\n",
       "      <td>348007.0</td>\n",
       "      <td>NaN</td>\n",
       "      <td>NaN</td>\n",
       "      <td>NaN</td>\n",
       "      <td>NaN</td>\n",
       "      <td>NaN</td>\n",
       "      <td>NaN</td>\n",
       "      <td>NaN</td>\n",
       "      <td>NaN</td>\n",
       "      <td>True</td>\n",
       "    </tr>\n",
       "    <tr>\n",
       "      <th>1</th>\n",
       "      <td>75694</td>\n",
       "      <td>4c98f114-c34c-48f4-84d6-50fc8e9b6d65-10wgg</td>\n",
       "      <td>1.620000e+12</td>\n",
       "      <td>f84d83b9-b757-4f97-9813-34f8dcc57cc5-1sjfw</td>\n",
       "      <td>129239</td>\n",
       "      <td>38.0</td>\n",
       "      <td>8kv,2vk,8gw,2vl</td>\n",
       "      <td>2.790000</td>\n",
       "      <td>144</td>\n",
       "      <td>XXX.XXX.XXX.XXX</td>\n",
       "      <td>...</td>\n",
       "      <td>348010.0</td>\n",
       "      <td>NaN</td>\n",
       "      <td>NaN</td>\n",
       "      <td>NaN</td>\n",
       "      <td>NaN</td>\n",
       "      <td>NaN</td>\n",
       "      <td>NaN</td>\n",
       "      <td>NaN</td>\n",
       "      <td>NaN</td>\n",
       "      <td>True</td>\n",
       "    </tr>\n",
       "    <tr>\n",
       "      <th>2</th>\n",
       "      <td>75694</td>\n",
       "      <td>cd92087a-54b0-4911-bc3d-1144a3c2babd-1sjlg</td>\n",
       "      <td>1.620000e+12</td>\n",
       "      <td>061edef6-3d9d-408b-884a-ad840e6930ce-10o78</td>\n",
       "      <td>321554</td>\n",
       "      <td>21.0</td>\n",
       "      <td>8gw,o3b</td>\n",
       "      <td>2.790000</td>\n",
       "      <td>144</td>\n",
       "      <td>XXX.XXX.XXX.XXX</td>\n",
       "      <td>...</td>\n",
       "      <td>NaN</td>\n",
       "      <td>NaN</td>\n",
       "      <td>NaN</td>\n",
       "      <td>NaN</td>\n",
       "      <td>NaN</td>\n",
       "      <td>NaN</td>\n",
       "      <td>NaN</td>\n",
       "      <td>NaN</td>\n",
       "      <td>NaN</td>\n",
       "      <td>True</td>\n",
       "    </tr>\n",
       "    <tr>\n",
       "      <th>3</th>\n",
       "      <td>75694</td>\n",
       "      <td>f79f3de7-5edb-4319-9549-117f47996066-10wrk</td>\n",
       "      <td>1.620000e+12</td>\n",
       "      <td>0a937239-9091-4bb7-b26b-37d4bb29e50b-10oa0</td>\n",
       "      <td>321300</td>\n",
       "      <td>38.0</td>\n",
       "      <td>8gw,o3b</td>\n",
       "      <td>2.790000</td>\n",
       "      <td>144</td>\n",
       "      <td>XXX.XXX.XXX.XXX</td>\n",
       "      <td>...</td>\n",
       "      <td>348007.0</td>\n",
       "      <td>NaN</td>\n",
       "      <td>NaN</td>\n",
       "      <td>NaN</td>\n",
       "      <td>NaN</td>\n",
       "      <td>NaN</td>\n",
       "      <td>NaN</td>\n",
       "      <td>NaN</td>\n",
       "      <td>NaN</td>\n",
       "      <td>True</td>\n",
       "    </tr>\n",
       "    <tr>\n",
       "      <th>4</th>\n",
       "      <td>30431</td>\n",
       "      <td>01fd1a8a-c3f8-4b57-94ff-66318d0f63c7-1sjts</td>\n",
       "      <td>1.620000e+12</td>\n",
       "      <td>0d46d0d4-8fc6-4d95-aaa1-406354a8400c-1sjo8</td>\n",
       "      <td>355768</td>\n",
       "      <td>21.0</td>\n",
       "      <td>NaN</td>\n",
       "      <td>NaN</td>\n",
       "      <td>144</td>\n",
       "      <td>XXX.XXX.XXX.XXX</td>\n",
       "      <td>...</td>\n",
       "      <td>NaN</td>\n",
       "      <td>NaN</td>\n",
       "      <td>NaN</td>\n",
       "      <td>1.0</td>\n",
       "      <td>275.0</td>\n",
       "      <td>1.0</td>\n",
       "      <td>NaN</td>\n",
       "      <td>NaN</td>\n",
       "      <td>NaN</td>\n",
       "      <td>True</td>\n",
       "    </tr>\n",
       "  </tbody>\n",
       "</table>\n",
       "<p>5 rows × 56 columns</p>\n",
       "</div>"
      ],
      "text/plain": [
       "   clientid_cr                               clmbuserid_cr  conversiontime_cr  \\\n",
       "0        75694  31629cd0-0b34-460f-aa61-80c3234e1225-1sjfw       1.620000e+12   \n",
       "1        75694  4c98f114-c34c-48f4-84d6-50fc8e9b6d65-10wgg       1.620000e+12   \n",
       "2        75694  cd92087a-54b0-4911-bc3d-1144a3c2babd-1sjlg       1.620000e+12   \n",
       "3        75694  f79f3de7-5edb-4319-9549-117f47996066-10wrk       1.620000e+12   \n",
       "4        30431  01fd1a8a-c3f8-4b57-94ff-66318d0f63c7-1sjts       1.620000e+12   \n",
       "\n",
       "                                    imprid_cr  adslotdimid_cr  algo_cr  \\\n",
       "0  01649076-c77f-4d70-afc8-213535427147-1sjd4          321300     38.0   \n",
       "1  f84d83b9-b757-4f97-9813-34f8dcc57cc5-1sjfw          129239     38.0   \n",
       "2  061edef6-3d9d-408b-884a-ad840e6930ce-10o78          321554     21.0   \n",
       "3  0a937239-9091-4bb7-b26b-37d4bb29e50b-10oa0          321300     38.0   \n",
       "4  0d46d0d4-8fc6-4d95-aaa1-406354a8400c-1sjo8          355768     21.0   \n",
       "\n",
       "      audiences_cr  clickbid_cr  geodimid_cr            ip_cr  ...  \\\n",
       "0          8gw,o3b     2.869316          144  XXX.XXX.XXX.XXX  ...   \n",
       "1  8kv,2vk,8gw,2vl     2.790000          144  XXX.XXX.XXX.XXX  ...   \n",
       "2          8gw,o3b     2.790000          144  XXX.XXX.XXX.XXX  ...   \n",
       "3          8gw,o3b     2.790000          144  XXX.XXX.XXX.XXX  ...   \n",
       "4              NaN          NaN          144  XXX.XXX.XXX.XXX  ...   \n",
       "\n",
       "   cityGrpDimId_cr  siteClusterIds_cr  refClusterId_cr  paid_cr spend_cr  \\\n",
       "0         348007.0                NaN              NaN      NaN      NaN   \n",
       "1         348010.0                NaN              NaN      NaN      NaN   \n",
       "2              NaN                NaN              NaN      NaN      NaN   \n",
       "3         348007.0                NaN              NaN      NaN      NaN   \n",
       "4              NaN                NaN              NaN      1.0    275.0   \n",
       "\n",
       "   attributionType_cr  conversionid_cr  optimize_on_cr  bundleId_cr  \\\n",
       "0                 NaN              NaN             NaN          NaN   \n",
       "1                 NaN              NaN             NaN          NaN   \n",
       "2                 NaN              NaN             NaN          NaN   \n",
       "3                 NaN              NaN             NaN          NaN   \n",
       "4                 1.0              NaN             NaN          NaN   \n",
       "\n",
       "   conversion_fraud  \n",
       "0              True  \n",
       "1              True  \n",
       "2              True  \n",
       "3              True  \n",
       "4              True  \n",
       "\n",
       "[5 rows x 56 columns]"
      ]
     },
     "execution_count": 3,
     "metadata": {},
     "output_type": "execute_result"
    }
   ],
   "source": [
    "df.head()"
   ]
  },
  {
   "cell_type": "code",
   "execution_count": 4,
   "metadata": {},
   "outputs": [
    {
     "name": "stdout",
     "output_type": "stream",
     "text": [
      "<class 'pandas.core.frame.DataFrame'>\n",
      "RangeIndex: 965 entries, 0 to 964\n",
      "Data columns (total 56 columns):\n",
      " #   Column                         Non-Null Count  Dtype  \n",
      "---  ------                         --------------  -----  \n",
      " 0   clientid_cr                    965 non-null    int64  \n",
      " 1   clmbuserid_cr                  965 non-null    object \n",
      " 2   conversiontime_cr              965 non-null    float64\n",
      " 3   imprid_cr                      965 non-null    object \n",
      " 4   adslotdimid_cr                 965 non-null    int64  \n",
      " 5   algo_cr                        945 non-null    float64\n",
      " 6   audiences_cr                   766 non-null    object \n",
      " 7   clickbid_cr                    669 non-null    float64\n",
      " 8   geodimid_cr                    965 non-null    int64  \n",
      " 9   ip_cr                          945 non-null    object \n",
      " 10  itemcolumbiaid_cr              965 non-null    int64  \n",
      " 11  itemid_cr                      965 non-null    int64  \n",
      " 12  position_cr                    945 non-null    float64\n",
      " 13  pubclientid_cr                 965 non-null    int64  \n",
      " 14  refurl_cr                      840 non-null    object \n",
      " 15  siteId_cr                      965 non-null    int64  \n",
      " 16  templateid_cr                  858 non-null    float64\n",
      " 17  goalid_cr                      965 non-null    int64  \n",
      " 18  time_cr                        965 non-null    float64\n",
      " 19  adLogType_cr                   965 non-null    int64  \n",
      " 20  v_cr                           964 non-null    float64\n",
      " 21  allAudiences_cr                918 non-null    object \n",
      " 22  pricingtype_cr                 965 non-null    int64  \n",
      " 23  osId_cr                        944 non-null    float64\n",
      " 24  browserId_cr                   944 non-null    float64\n",
      " 25  cityId_cr                      945 non-null    float64\n",
      " 26  stateId_cr                     945 non-null    float64\n",
      " 27  modelDimId_cr                  944 non-null    float64\n",
      " 28  lookUpFrom_cr                  965 non-null    int64  \n",
      " 29  connTypeDimId_cr               945 non-null    object \n",
      " 30  ispDimId_cr                    945 non-null    float64\n",
      " 31  countryDimId_cr                945 non-null    float64\n",
      " 32  goalTypeId_cr                  965 non-null    int64  \n",
      " 33  conversionDurationInMillis_cr  945 non-null    float64\n",
      " 34  impressionTimeInMillis_cr      945 non-null    float64\n",
      " 35  clickTimeInMillis_cr           833 non-null    float64\n",
      " 36  osVerDimId_cr                  944 non-null    float64\n",
      " 37  uuidSource_cr                  945 non-null    float64\n",
      " 38  geoGrpDimId_cr                 945 non-null    float64\n",
      " 39  stateGrpDimId_cr               860 non-null    float64\n",
      " 40  deviceId_cr                    111 non-null    float64\n",
      " 41  uvh_cr                         0 non-null      float64\n",
      " 42  uv_cr                          29 non-null     float64\n",
      " 43  platformId_cr                  112 non-null    float64\n",
      " 44  sdkVersion_cr                  7 non-null      object \n",
      " 45  usrClusterId_cr                354 non-null    object \n",
      " 46  cityGrpDimId_cr                621 non-null    float64\n",
      " 47  siteClusterIds_cr              412 non-null    object \n",
      " 48  refClusterId_cr                66 non-null     float64\n",
      " 49  paid_cr                        194 non-null    float64\n",
      " 50  spend_cr                       194 non-null    float64\n",
      " 51  attributionType_cr             194 non-null    float64\n",
      " 52  conversionid_cr                24 non-null     object \n",
      " 53  optimize_on_cr                 40 non-null     object \n",
      " 54  bundleId_cr                    5 non-null      float64\n",
      " 55  conversion_fraud               965 non-null    bool   \n",
      "dtypes: bool(1), float64(31), int64(12), object(12)\n",
      "memory usage: 415.7+ KB\n"
     ]
    }
   ],
   "source": [
    "#Let's check the info of all the columns\n",
    "df.info()"
   ]
  },
  {
   "cell_type": "code",
   "execution_count": 5,
   "metadata": {},
   "outputs": [],
   "source": [
    "#droping the columns with less numbers of features\n",
    "df = df.drop(['deviceId_cr','uvh_cr','platformId_cr','sdkVersion_cr',\n",
    "              'usrClusterId_cr','cityGrpDimId_cr','paid_cr','spend_cr',\n",
    "              'attributionType_cr','conversionid_cr','optimize_on_cr','bundleId_cr','stateGrpDimId_cr','ip_cr'], axis=1)"
   ]
  },
  {
   "cell_type": "code",
   "execution_count": 6,
   "metadata": {},
   "outputs": [
    {
     "data": {
      "text/plain": [
       "(965, 42)"
      ]
     },
     "execution_count": 6,
     "metadata": {},
     "output_type": "execute_result"
    }
   ],
   "source": [
    "df.shape"
   ]
  },
  {
   "cell_type": "code",
   "execution_count": 7,
   "metadata": {},
   "outputs": [
    {
     "data": {
      "text/plain": [
       "clientid_cr                        0\n",
       "clmbuserid_cr                      0\n",
       "conversiontime_cr                  0\n",
       "imprid_cr                          0\n",
       "adslotdimid_cr                     0\n",
       "algo_cr                           20\n",
       "audiences_cr                     199\n",
       "clickbid_cr                      296\n",
       "geodimid_cr                        0\n",
       "itemcolumbiaid_cr                  0\n",
       "itemid_cr                          0\n",
       "position_cr                       20\n",
       "pubclientid_cr                     0\n",
       "refurl_cr                        125\n",
       "siteId_cr                          0\n",
       "templateid_cr                    107\n",
       "goalid_cr                          0\n",
       "time_cr                            0\n",
       "adLogType_cr                       0\n",
       "v_cr                               1\n",
       "allAudiences_cr                   47\n",
       "pricingtype_cr                     0\n",
       "osId_cr                           21\n",
       "browserId_cr                      21\n",
       "cityId_cr                         20\n",
       "stateId_cr                        20\n",
       "modelDimId_cr                     21\n",
       "lookUpFrom_cr                      0\n",
       "connTypeDimId_cr                  20\n",
       "ispDimId_cr                       20\n",
       "countryDimId_cr                   20\n",
       "goalTypeId_cr                      0\n",
       "conversionDurationInMillis_cr     20\n",
       "impressionTimeInMillis_cr         20\n",
       "clickTimeInMillis_cr             132\n",
       "osVerDimId_cr                     21\n",
       "uuidSource_cr                     20\n",
       "geoGrpDimId_cr                    20\n",
       "uv_cr                            936\n",
       "siteClusterIds_cr                553\n",
       "refClusterId_cr                  899\n",
       "conversion_fraud                   0\n",
       "dtype: int64"
      ]
     },
     "execution_count": 7,
     "metadata": {},
     "output_type": "execute_result"
    }
   ],
   "source": [
    "#let's find out null values\n",
    "df.isna().sum()"
   ]
  },
  {
   "cell_type": "code",
   "execution_count": 8,
   "metadata": {},
   "outputs": [],
   "source": [
    "#droping the columns with higher null values\n",
    "df = df.drop(['uv_cr','siteClusterIds_cr','refClusterId_cr','clickbid_cr'], axis=1)"
   ]
  },
  {
   "cell_type": "code",
   "execution_count": 9,
   "metadata": {},
   "outputs": [],
   "source": [
    "#we can drop the null values but I chose to fill with median and storing it in new dataframe\n",
    "df_new = df.fillna(df.median())"
   ]
  },
  {
   "cell_type": "code",
   "execution_count": 10,
   "metadata": {},
   "outputs": [
    {
     "data": {
      "text/html": [
       "<div>\n",
       "<style scoped>\n",
       "    .dataframe tbody tr th:only-of-type {\n",
       "        vertical-align: middle;\n",
       "    }\n",
       "\n",
       "    .dataframe tbody tr th {\n",
       "        vertical-align: top;\n",
       "    }\n",
       "\n",
       "    .dataframe thead th {\n",
       "        text-align: right;\n",
       "    }\n",
       "</style>\n",
       "<table border=\"1\" class=\"dataframe\">\n",
       "  <thead>\n",
       "    <tr style=\"text-align: right;\">\n",
       "      <th></th>\n",
       "      <th>clientid_cr</th>\n",
       "      <th>clmbuserid_cr</th>\n",
       "      <th>conversiontime_cr</th>\n",
       "      <th>imprid_cr</th>\n",
       "      <th>adslotdimid_cr</th>\n",
       "      <th>algo_cr</th>\n",
       "      <th>audiences_cr</th>\n",
       "      <th>geodimid_cr</th>\n",
       "      <th>itemcolumbiaid_cr</th>\n",
       "      <th>itemid_cr</th>\n",
       "      <th>...</th>\n",
       "      <th>ispDimId_cr</th>\n",
       "      <th>countryDimId_cr</th>\n",
       "      <th>goalTypeId_cr</th>\n",
       "      <th>conversionDurationInMillis_cr</th>\n",
       "      <th>impressionTimeInMillis_cr</th>\n",
       "      <th>clickTimeInMillis_cr</th>\n",
       "      <th>osVerDimId_cr</th>\n",
       "      <th>uuidSource_cr</th>\n",
       "      <th>geoGrpDimId_cr</th>\n",
       "      <th>conversion_fraud</th>\n",
       "    </tr>\n",
       "  </thead>\n",
       "  <tbody>\n",
       "    <tr>\n",
       "      <th>0</th>\n",
       "      <td>75694</td>\n",
       "      <td>31629cd0-0b34-460f-aa61-80c3234e1225-1sjfw</td>\n",
       "      <td>1.620000e+12</td>\n",
       "      <td>01649076-c77f-4d70-afc8-213535427147-1sjd4</td>\n",
       "      <td>321300</td>\n",
       "      <td>38.0</td>\n",
       "      <td>8gw,o3b</td>\n",
       "      <td>144</td>\n",
       "      <td>5488088</td>\n",
       "      <td>49504155</td>\n",
       "      <td>...</td>\n",
       "      <td>280429.0</td>\n",
       "      <td>144.0</td>\n",
       "      <td>10</td>\n",
       "      <td>2332.0</td>\n",
       "      <td>1.620000e+12</td>\n",
       "      <td>1.620000e+12</td>\n",
       "      <td>199452.0</td>\n",
       "      <td>1.0</td>\n",
       "      <td>348011.0</td>\n",
       "      <td>True</td>\n",
       "    </tr>\n",
       "    <tr>\n",
       "      <th>1</th>\n",
       "      <td>75694</td>\n",
       "      <td>4c98f114-c34c-48f4-84d6-50fc8e9b6d65-10wgg</td>\n",
       "      <td>1.620000e+12</td>\n",
       "      <td>f84d83b9-b757-4f97-9813-34f8dcc57cc5-1sjfw</td>\n",
       "      <td>129239</td>\n",
       "      <td>38.0</td>\n",
       "      <td>8kv,2vk,8gw,2vl</td>\n",
       "      <td>144</td>\n",
       "      <td>5488773</td>\n",
       "      <td>49504157</td>\n",
       "      <td>...</td>\n",
       "      <td>136127.0</td>\n",
       "      <td>144.0</td>\n",
       "      <td>10</td>\n",
       "      <td>3201.0</td>\n",
       "      <td>1.620000e+12</td>\n",
       "      <td>1.620000e+12</td>\n",
       "      <td>199452.0</td>\n",
       "      <td>1.0</td>\n",
       "      <td>348011.0</td>\n",
       "      <td>True</td>\n",
       "    </tr>\n",
       "    <tr>\n",
       "      <th>2</th>\n",
       "      <td>75694</td>\n",
       "      <td>cd92087a-54b0-4911-bc3d-1144a3c2babd-1sjlg</td>\n",
       "      <td>1.620000e+12</td>\n",
       "      <td>061edef6-3d9d-408b-884a-ad840e6930ce-10o78</td>\n",
       "      <td>321554</td>\n",
       "      <td>21.0</td>\n",
       "      <td>8gw,o3b</td>\n",
       "      <td>144</td>\n",
       "      <td>5488088</td>\n",
       "      <td>49504160</td>\n",
       "      <td>...</td>\n",
       "      <td>172725.0</td>\n",
       "      <td>144.0</td>\n",
       "      <td>10</td>\n",
       "      <td>2821.0</td>\n",
       "      <td>1.620000e+12</td>\n",
       "      <td>1.620000e+12</td>\n",
       "      <td>199452.0</td>\n",
       "      <td>1.0</td>\n",
       "      <td>348011.0</td>\n",
       "      <td>True</td>\n",
       "    </tr>\n",
       "    <tr>\n",
       "      <th>3</th>\n",
       "      <td>75694</td>\n",
       "      <td>f79f3de7-5edb-4319-9549-117f47996066-10wrk</td>\n",
       "      <td>1.620000e+12</td>\n",
       "      <td>0a937239-9091-4bb7-b26b-37d4bb29e50b-10oa0</td>\n",
       "      <td>321300</td>\n",
       "      <td>38.0</td>\n",
       "      <td>8gw,o3b</td>\n",
       "      <td>144</td>\n",
       "      <td>5488088</td>\n",
       "      <td>49504155</td>\n",
       "      <td>...</td>\n",
       "      <td>136127.0</td>\n",
       "      <td>144.0</td>\n",
       "      <td>10</td>\n",
       "      <td>3144.0</td>\n",
       "      <td>1.620000e+12</td>\n",
       "      <td>1.620000e+12</td>\n",
       "      <td>199452.0</td>\n",
       "      <td>1.0</td>\n",
       "      <td>348011.0</td>\n",
       "      <td>True</td>\n",
       "    </tr>\n",
       "    <tr>\n",
       "      <th>4</th>\n",
       "      <td>30431</td>\n",
       "      <td>01fd1a8a-c3f8-4b57-94ff-66318d0f63c7-1sjts</td>\n",
       "      <td>1.620000e+12</td>\n",
       "      <td>0d46d0d4-8fc6-4d95-aaa1-406354a8400c-1sjo8</td>\n",
       "      <td>355768</td>\n",
       "      <td>21.0</td>\n",
       "      <td>NaN</td>\n",
       "      <td>144</td>\n",
       "      <td>5614054</td>\n",
       "      <td>53607445</td>\n",
       "      <td>...</td>\n",
       "      <td>136127.0</td>\n",
       "      <td>144.0</td>\n",
       "      <td>10</td>\n",
       "      <td>42597.0</td>\n",
       "      <td>1.620000e+12</td>\n",
       "      <td>1.620000e+12</td>\n",
       "      <td>360833.0</td>\n",
       "      <td>1.0</td>\n",
       "      <td>348011.0</td>\n",
       "      <td>True</td>\n",
       "    </tr>\n",
       "  </tbody>\n",
       "</table>\n",
       "<p>5 rows × 38 columns</p>\n",
       "</div>"
      ],
      "text/plain": [
       "   clientid_cr                               clmbuserid_cr  conversiontime_cr  \\\n",
       "0        75694  31629cd0-0b34-460f-aa61-80c3234e1225-1sjfw       1.620000e+12   \n",
       "1        75694  4c98f114-c34c-48f4-84d6-50fc8e9b6d65-10wgg       1.620000e+12   \n",
       "2        75694  cd92087a-54b0-4911-bc3d-1144a3c2babd-1sjlg       1.620000e+12   \n",
       "3        75694  f79f3de7-5edb-4319-9549-117f47996066-10wrk       1.620000e+12   \n",
       "4        30431  01fd1a8a-c3f8-4b57-94ff-66318d0f63c7-1sjts       1.620000e+12   \n",
       "\n",
       "                                    imprid_cr  adslotdimid_cr  algo_cr  \\\n",
       "0  01649076-c77f-4d70-afc8-213535427147-1sjd4          321300     38.0   \n",
       "1  f84d83b9-b757-4f97-9813-34f8dcc57cc5-1sjfw          129239     38.0   \n",
       "2  061edef6-3d9d-408b-884a-ad840e6930ce-10o78          321554     21.0   \n",
       "3  0a937239-9091-4bb7-b26b-37d4bb29e50b-10oa0          321300     38.0   \n",
       "4  0d46d0d4-8fc6-4d95-aaa1-406354a8400c-1sjo8          355768     21.0   \n",
       "\n",
       "      audiences_cr  geodimid_cr  itemcolumbiaid_cr  itemid_cr  ...  \\\n",
       "0          8gw,o3b          144            5488088   49504155  ...   \n",
       "1  8kv,2vk,8gw,2vl          144            5488773   49504157  ...   \n",
       "2          8gw,o3b          144            5488088   49504160  ...   \n",
       "3          8gw,o3b          144            5488088   49504155  ...   \n",
       "4              NaN          144            5614054   53607445  ...   \n",
       "\n",
       "   ispDimId_cr  countryDimId_cr goalTypeId_cr  conversionDurationInMillis_cr  \\\n",
       "0     280429.0            144.0            10                         2332.0   \n",
       "1     136127.0            144.0            10                         3201.0   \n",
       "2     172725.0            144.0            10                         2821.0   \n",
       "3     136127.0            144.0            10                         3144.0   \n",
       "4     136127.0            144.0            10                        42597.0   \n",
       "\n",
       "   impressionTimeInMillis_cr  clickTimeInMillis_cr  osVerDimId_cr  \\\n",
       "0               1.620000e+12          1.620000e+12       199452.0   \n",
       "1               1.620000e+12          1.620000e+12       199452.0   \n",
       "2               1.620000e+12          1.620000e+12       199452.0   \n",
       "3               1.620000e+12          1.620000e+12       199452.0   \n",
       "4               1.620000e+12          1.620000e+12       360833.0   \n",
       "\n",
       "   uuidSource_cr  geoGrpDimId_cr conversion_fraud  \n",
       "0            1.0        348011.0             True  \n",
       "1            1.0        348011.0             True  \n",
       "2            1.0        348011.0             True  \n",
       "3            1.0        348011.0             True  \n",
       "4            1.0        348011.0             True  \n",
       "\n",
       "[5 rows x 38 columns]"
      ]
     },
     "execution_count": 10,
     "metadata": {},
     "output_type": "execute_result"
    }
   ],
   "source": [
    "df_new.head()"
   ]
  },
  {
   "cell_type": "code",
   "execution_count": 11,
   "metadata": {},
   "outputs": [
    {
     "data": {
      "text/plain": [
       "clientid_cr                        0\n",
       "clmbuserid_cr                      0\n",
       "conversiontime_cr                  0\n",
       "imprid_cr                          0\n",
       "adslotdimid_cr                     0\n",
       "algo_cr                            0\n",
       "audiences_cr                     199\n",
       "geodimid_cr                        0\n",
       "itemcolumbiaid_cr                  0\n",
       "itemid_cr                          0\n",
       "position_cr                        0\n",
       "pubclientid_cr                     0\n",
       "refurl_cr                        125\n",
       "siteId_cr                          0\n",
       "templateid_cr                      0\n",
       "goalid_cr                          0\n",
       "time_cr                            0\n",
       "adLogType_cr                       0\n",
       "v_cr                               0\n",
       "allAudiences_cr                   47\n",
       "pricingtype_cr                     0\n",
       "osId_cr                            0\n",
       "browserId_cr                       0\n",
       "cityId_cr                          0\n",
       "stateId_cr                         0\n",
       "modelDimId_cr                      0\n",
       "lookUpFrom_cr                      0\n",
       "connTypeDimId_cr                  20\n",
       "ispDimId_cr                        0\n",
       "countryDimId_cr                    0\n",
       "goalTypeId_cr                      0\n",
       "conversionDurationInMillis_cr      0\n",
       "impressionTimeInMillis_cr          0\n",
       "clickTimeInMillis_cr               0\n",
       "osVerDimId_cr                      0\n",
       "uuidSource_cr                      0\n",
       "geoGrpDimId_cr                     0\n",
       "conversion_fraud                   0\n",
       "dtype: int64"
      ]
     },
     "execution_count": 11,
     "metadata": {},
     "output_type": "execute_result"
    }
   ],
   "source": [
    "#checking if there any other null values left\n",
    "df_new.isna().sum()"
   ]
  },
  {
   "cell_type": "code",
   "execution_count": 12,
   "metadata": {},
   "outputs": [],
   "source": [
    "# def converter(resul):\n",
    "#     if resul == True:\n",
    "#         return 1\n",
    "#     else:\n",
    "#         return 0"
   ]
  },
  {
   "cell_type": "code",
   "execution_count": 13,
   "metadata": {},
   "outputs": [],
   "source": [
    "#df_new['conversion_fraud'] = df_new['conversion_fraud'].apply(converter)"
   ]
  },
  {
   "cell_type": "code",
   "execution_count": 14,
   "metadata": {},
   "outputs": [
    {
     "data": {
      "text/html": [
       "<div>\n",
       "<style scoped>\n",
       "    .dataframe tbody tr th:only-of-type {\n",
       "        vertical-align: middle;\n",
       "    }\n",
       "\n",
       "    .dataframe tbody tr th {\n",
       "        vertical-align: top;\n",
       "    }\n",
       "\n",
       "    .dataframe thead th {\n",
       "        text-align: right;\n",
       "    }\n",
       "</style>\n",
       "<table border=\"1\" class=\"dataframe\">\n",
       "  <thead>\n",
       "    <tr style=\"text-align: right;\">\n",
       "      <th></th>\n",
       "      <th>clientid_cr</th>\n",
       "      <th>clmbuserid_cr</th>\n",
       "      <th>conversiontime_cr</th>\n",
       "      <th>imprid_cr</th>\n",
       "      <th>adslotdimid_cr</th>\n",
       "      <th>algo_cr</th>\n",
       "      <th>audiences_cr</th>\n",
       "      <th>geodimid_cr</th>\n",
       "      <th>itemcolumbiaid_cr</th>\n",
       "      <th>itemid_cr</th>\n",
       "      <th>...</th>\n",
       "      <th>ispDimId_cr</th>\n",
       "      <th>countryDimId_cr</th>\n",
       "      <th>goalTypeId_cr</th>\n",
       "      <th>conversionDurationInMillis_cr</th>\n",
       "      <th>impressionTimeInMillis_cr</th>\n",
       "      <th>clickTimeInMillis_cr</th>\n",
       "      <th>osVerDimId_cr</th>\n",
       "      <th>uuidSource_cr</th>\n",
       "      <th>geoGrpDimId_cr</th>\n",
       "      <th>conversion_fraud</th>\n",
       "    </tr>\n",
       "  </thead>\n",
       "  <tbody>\n",
       "    <tr>\n",
       "      <th>0</th>\n",
       "      <td>75694</td>\n",
       "      <td>31629cd0-0b34-460f-aa61-80c3234e1225-1sjfw</td>\n",
       "      <td>1.620000e+12</td>\n",
       "      <td>01649076-c77f-4d70-afc8-213535427147-1sjd4</td>\n",
       "      <td>321300</td>\n",
       "      <td>38.0</td>\n",
       "      <td>8gw,o3b</td>\n",
       "      <td>144</td>\n",
       "      <td>5488088</td>\n",
       "      <td>49504155</td>\n",
       "      <td>...</td>\n",
       "      <td>280429.0</td>\n",
       "      <td>144.0</td>\n",
       "      <td>10</td>\n",
       "      <td>2332.0</td>\n",
       "      <td>1.620000e+12</td>\n",
       "      <td>1.620000e+12</td>\n",
       "      <td>199452.0</td>\n",
       "      <td>1.0</td>\n",
       "      <td>348011.0</td>\n",
       "      <td>True</td>\n",
       "    </tr>\n",
       "    <tr>\n",
       "      <th>1</th>\n",
       "      <td>75694</td>\n",
       "      <td>4c98f114-c34c-48f4-84d6-50fc8e9b6d65-10wgg</td>\n",
       "      <td>1.620000e+12</td>\n",
       "      <td>f84d83b9-b757-4f97-9813-34f8dcc57cc5-1sjfw</td>\n",
       "      <td>129239</td>\n",
       "      <td>38.0</td>\n",
       "      <td>8kv,2vk,8gw,2vl</td>\n",
       "      <td>144</td>\n",
       "      <td>5488773</td>\n",
       "      <td>49504157</td>\n",
       "      <td>...</td>\n",
       "      <td>136127.0</td>\n",
       "      <td>144.0</td>\n",
       "      <td>10</td>\n",
       "      <td>3201.0</td>\n",
       "      <td>1.620000e+12</td>\n",
       "      <td>1.620000e+12</td>\n",
       "      <td>199452.0</td>\n",
       "      <td>1.0</td>\n",
       "      <td>348011.0</td>\n",
       "      <td>True</td>\n",
       "    </tr>\n",
       "    <tr>\n",
       "      <th>2</th>\n",
       "      <td>75694</td>\n",
       "      <td>cd92087a-54b0-4911-bc3d-1144a3c2babd-1sjlg</td>\n",
       "      <td>1.620000e+12</td>\n",
       "      <td>061edef6-3d9d-408b-884a-ad840e6930ce-10o78</td>\n",
       "      <td>321554</td>\n",
       "      <td>21.0</td>\n",
       "      <td>8gw,o3b</td>\n",
       "      <td>144</td>\n",
       "      <td>5488088</td>\n",
       "      <td>49504160</td>\n",
       "      <td>...</td>\n",
       "      <td>172725.0</td>\n",
       "      <td>144.0</td>\n",
       "      <td>10</td>\n",
       "      <td>2821.0</td>\n",
       "      <td>1.620000e+12</td>\n",
       "      <td>1.620000e+12</td>\n",
       "      <td>199452.0</td>\n",
       "      <td>1.0</td>\n",
       "      <td>348011.0</td>\n",
       "      <td>True</td>\n",
       "    </tr>\n",
       "    <tr>\n",
       "      <th>3</th>\n",
       "      <td>75694</td>\n",
       "      <td>f79f3de7-5edb-4319-9549-117f47996066-10wrk</td>\n",
       "      <td>1.620000e+12</td>\n",
       "      <td>0a937239-9091-4bb7-b26b-37d4bb29e50b-10oa0</td>\n",
       "      <td>321300</td>\n",
       "      <td>38.0</td>\n",
       "      <td>8gw,o3b</td>\n",
       "      <td>144</td>\n",
       "      <td>5488088</td>\n",
       "      <td>49504155</td>\n",
       "      <td>...</td>\n",
       "      <td>136127.0</td>\n",
       "      <td>144.0</td>\n",
       "      <td>10</td>\n",
       "      <td>3144.0</td>\n",
       "      <td>1.620000e+12</td>\n",
       "      <td>1.620000e+12</td>\n",
       "      <td>199452.0</td>\n",
       "      <td>1.0</td>\n",
       "      <td>348011.0</td>\n",
       "      <td>True</td>\n",
       "    </tr>\n",
       "    <tr>\n",
       "      <th>4</th>\n",
       "      <td>30431</td>\n",
       "      <td>01fd1a8a-c3f8-4b57-94ff-66318d0f63c7-1sjts</td>\n",
       "      <td>1.620000e+12</td>\n",
       "      <td>0d46d0d4-8fc6-4d95-aaa1-406354a8400c-1sjo8</td>\n",
       "      <td>355768</td>\n",
       "      <td>21.0</td>\n",
       "      <td>NaN</td>\n",
       "      <td>144</td>\n",
       "      <td>5614054</td>\n",
       "      <td>53607445</td>\n",
       "      <td>...</td>\n",
       "      <td>136127.0</td>\n",
       "      <td>144.0</td>\n",
       "      <td>10</td>\n",
       "      <td>42597.0</td>\n",
       "      <td>1.620000e+12</td>\n",
       "      <td>1.620000e+12</td>\n",
       "      <td>360833.0</td>\n",
       "      <td>1.0</td>\n",
       "      <td>348011.0</td>\n",
       "      <td>True</td>\n",
       "    </tr>\n",
       "  </tbody>\n",
       "</table>\n",
       "<p>5 rows × 38 columns</p>\n",
       "</div>"
      ],
      "text/plain": [
       "   clientid_cr                               clmbuserid_cr  conversiontime_cr  \\\n",
       "0        75694  31629cd0-0b34-460f-aa61-80c3234e1225-1sjfw       1.620000e+12   \n",
       "1        75694  4c98f114-c34c-48f4-84d6-50fc8e9b6d65-10wgg       1.620000e+12   \n",
       "2        75694  cd92087a-54b0-4911-bc3d-1144a3c2babd-1sjlg       1.620000e+12   \n",
       "3        75694  f79f3de7-5edb-4319-9549-117f47996066-10wrk       1.620000e+12   \n",
       "4        30431  01fd1a8a-c3f8-4b57-94ff-66318d0f63c7-1sjts       1.620000e+12   \n",
       "\n",
       "                                    imprid_cr  adslotdimid_cr  algo_cr  \\\n",
       "0  01649076-c77f-4d70-afc8-213535427147-1sjd4          321300     38.0   \n",
       "1  f84d83b9-b757-4f97-9813-34f8dcc57cc5-1sjfw          129239     38.0   \n",
       "2  061edef6-3d9d-408b-884a-ad840e6930ce-10o78          321554     21.0   \n",
       "3  0a937239-9091-4bb7-b26b-37d4bb29e50b-10oa0          321300     38.0   \n",
       "4  0d46d0d4-8fc6-4d95-aaa1-406354a8400c-1sjo8          355768     21.0   \n",
       "\n",
       "      audiences_cr  geodimid_cr  itemcolumbiaid_cr  itemid_cr  ...  \\\n",
       "0          8gw,o3b          144            5488088   49504155  ...   \n",
       "1  8kv,2vk,8gw,2vl          144            5488773   49504157  ...   \n",
       "2          8gw,o3b          144            5488088   49504160  ...   \n",
       "3          8gw,o3b          144            5488088   49504155  ...   \n",
       "4              NaN          144            5614054   53607445  ...   \n",
       "\n",
       "   ispDimId_cr  countryDimId_cr goalTypeId_cr  conversionDurationInMillis_cr  \\\n",
       "0     280429.0            144.0            10                         2332.0   \n",
       "1     136127.0            144.0            10                         3201.0   \n",
       "2     172725.0            144.0            10                         2821.0   \n",
       "3     136127.0            144.0            10                         3144.0   \n",
       "4     136127.0            144.0            10                        42597.0   \n",
       "\n",
       "   impressionTimeInMillis_cr  clickTimeInMillis_cr  osVerDimId_cr  \\\n",
       "0               1.620000e+12          1.620000e+12       199452.0   \n",
       "1               1.620000e+12          1.620000e+12       199452.0   \n",
       "2               1.620000e+12          1.620000e+12       199452.0   \n",
       "3               1.620000e+12          1.620000e+12       199452.0   \n",
       "4               1.620000e+12          1.620000e+12       360833.0   \n",
       "\n",
       "   uuidSource_cr  geoGrpDimId_cr conversion_fraud  \n",
       "0            1.0        348011.0             True  \n",
       "1            1.0        348011.0             True  \n",
       "2            1.0        348011.0             True  \n",
       "3            1.0        348011.0             True  \n",
       "4            1.0        348011.0             True  \n",
       "\n",
       "[5 rows x 38 columns]"
      ]
     },
     "execution_count": 14,
     "metadata": {},
     "output_type": "execute_result"
    }
   ],
   "source": [
    "df_new.head()"
   ]
  },
  {
   "cell_type": "code",
   "execution_count": 15,
   "metadata": {},
   "outputs": [
    {
     "data": {
      "text/plain": [
       "False    834\n",
       "True     131\n",
       "Name: conversion_fraud, dtype: int64"
      ]
     },
     "execution_count": 15,
     "metadata": {},
     "output_type": "execute_result"
    }
   ],
   "source": [
    "df_new['conversion_fraud'].value_counts()"
   ]
  },
  {
   "cell_type": "code",
   "execution_count": 16,
   "metadata": {},
   "outputs": [],
   "source": [
    "#droping the feature of object type and also null values\n",
    "df_new = df_new.drop(['clmbuserid_cr','imprid_cr','audiences_cr','refurl_cr','allAudiences_cr','connTypeDimId_cr'], axis=1)"
   ]
  },
  {
   "cell_type": "markdown",
   "metadata": {},
   "source": [
    "## Train Test Split"
   ]
  },
  {
   "cell_type": "code",
   "execution_count": 17,
   "metadata": {},
   "outputs": [],
   "source": [
    "from sklearn.model_selection import train_test_split"
   ]
  },
  {
   "cell_type": "code",
   "execution_count": 18,
   "metadata": {},
   "outputs": [],
   "source": [
    "#Seperating lable and features\n",
    "X = df_new.drop('conversion_fraud', axis=1)\n",
    "y = df_new['conversion_fraud']"
   ]
  },
  {
   "cell_type": "code",
   "execution_count": 19,
   "metadata": {},
   "outputs": [],
   "source": [
    "X_train, X_test, y_train, y_test = train_test_split(X, y, test_size=0.20, random_state=42)"
   ]
  },
  {
   "cell_type": "markdown",
   "metadata": {},
   "source": [
    "## Models and predictions"
   ]
  },
  {
   "cell_type": "code",
   "execution_count": 20,
   "metadata": {},
   "outputs": [],
   "source": [
    "from sklearn.linear_model import LogisticRegression"
   ]
  },
  {
   "cell_type": "code",
   "execution_count": 21,
   "metadata": {},
   "outputs": [],
   "source": [
    "model = LogisticRegression()"
   ]
  },
  {
   "cell_type": "code",
   "execution_count": 22,
   "metadata": {},
   "outputs": [
    {
     "data": {
      "text/plain": [
       "LogisticRegression()"
      ]
     },
     "execution_count": 22,
     "metadata": {},
     "output_type": "execute_result"
    }
   ],
   "source": [
    "model.fit(X_train,y_train)"
   ]
  },
  {
   "cell_type": "code",
   "execution_count": 23,
   "metadata": {},
   "outputs": [],
   "source": [
    "prediction = model.predict(X_test)"
   ]
  },
  {
   "cell_type": "code",
   "execution_count": 24,
   "metadata": {},
   "outputs": [],
   "source": [
    "from sklearn.metrics import confusion_matrix, classification_report"
   ]
  },
  {
   "cell_type": "code",
   "execution_count": 25,
   "metadata": {},
   "outputs": [
    {
     "name": "stdout",
     "output_type": "stream",
     "text": [
      "[[170   0]\n",
      " [ 23   0]]\n",
      "\n",
      "\n",
      "              precision    recall  f1-score   support\n",
      "\n",
      "       False       0.88      1.00      0.94       170\n",
      "        True       0.00      0.00      0.00        23\n",
      "\n",
      "    accuracy                           0.88       193\n",
      "   macro avg       0.44      0.50      0.47       193\n",
      "weighted avg       0.78      0.88      0.83       193\n",
      "\n"
     ]
    },
    {
     "name": "stderr",
     "output_type": "stream",
     "text": [
      "c:\\python38\\lib\\site-packages\\sklearn\\metrics\\_classification.py:1221: UndefinedMetricWarning: Precision and F-score are ill-defined and being set to 0.0 in labels with no predicted samples. Use `zero_division` parameter to control this behavior.\n",
      "  _warn_prf(average, modifier, msg_start, len(result))\n"
     ]
    }
   ],
   "source": [
    "print(confusion_matrix(y_test,prediction))\n",
    "print('\\n')\n",
    "print(classification_report(y_test,prediction))"
   ]
  },
  {
   "cell_type": "markdown",
   "metadata": {},
   "source": [
    "As Logistic Regression is not performing well here, So we will try with Random Forest and KNN"
   ]
  },
  {
   "cell_type": "code",
   "execution_count": 26,
   "metadata": {},
   "outputs": [],
   "source": [
    "from sklearn.ensemble import RandomForestClassifier"
   ]
  },
  {
   "cell_type": "code",
   "execution_count": 27,
   "metadata": {},
   "outputs": [],
   "source": [
    "rf = RandomForestClassifier()"
   ]
  },
  {
   "cell_type": "code",
   "execution_count": 28,
   "metadata": {},
   "outputs": [
    {
     "data": {
      "text/plain": [
       "RandomForestClassifier()"
      ]
     },
     "execution_count": 28,
     "metadata": {},
     "output_type": "execute_result"
    }
   ],
   "source": [
    "rf.fit(X_train,y_train)"
   ]
  },
  {
   "cell_type": "code",
   "execution_count": 29,
   "metadata": {},
   "outputs": [],
   "source": [
    "pred = rf.predict(X_test)"
   ]
  },
  {
   "cell_type": "code",
   "execution_count": 30,
   "metadata": {},
   "outputs": [
    {
     "name": "stdout",
     "output_type": "stream",
     "text": [
      "[[168   2]\n",
      " [ 12  11]]\n",
      "\n",
      "\n",
      "              precision    recall  f1-score   support\n",
      "\n",
      "       False       0.93      0.99      0.96       170\n",
      "        True       0.85      0.48      0.61        23\n",
      "\n",
      "    accuracy                           0.93       193\n",
      "   macro avg       0.89      0.73      0.79       193\n",
      "weighted avg       0.92      0.93      0.92       193\n",
      "\n"
     ]
    }
   ],
   "source": [
    "print(confusion_matrix(y_test,pred))\n",
    "print('\\n')\n",
    "print(classification_report(y_test,pred))"
   ]
  },
  {
   "cell_type": "code",
   "execution_count": 31,
   "metadata": {},
   "outputs": [],
   "source": [
    "from sklearn.neighbors import KNeighborsClassifier"
   ]
  },
  {
   "cell_type": "code",
   "execution_count": 32,
   "metadata": {},
   "outputs": [],
   "source": [
    "# As we are uncertain about number of neighbors so will use it with as list and compare the errors\n",
    "error_rate = []\n",
    "for i in range(1,15):\n",
    "    knn = KNeighborsClassifier(n_neighbors=i)\n",
    "    knn.fit(X_train, y_train)\n",
    "    pred_i = knn.predict(X_test)\n",
    "    error_rate.append(np.mean(pred_i != y_test))"
   ]
  },
  {
   "cell_type": "code",
   "execution_count": 33,
   "metadata": {},
   "outputs": [
    {
     "data": {
      "text/plain": [
       "Text(0, 0.5, 'Error Rate')"
      ]
     },
     "execution_count": 33,
     "metadata": {},
     "output_type": "execute_result"
    },
    {
     "data": {
      "image/png": "[encoded data removed]",
      "text/plain": [
       "<Figure size 432x288 with 1 Axes>"
      ]
     },
     "metadata": {
      "needs_background": "light"
     },
     "output_type": "display_data"
    }
   ],
   "source": [
    "#Plotting the errors\n",
    "plt.plot(range(1,15),error_rate,color='blue', linestyle='dashed', marker='o',\n",
    "         markerfacecolor='red', markersize=10)\n",
    "plt.title('Error Rate vs. K Value')\n",
    "plt.xlabel('K')\n",
    "plt.ylabel('Error Rate')"
   ]
  },
  {
   "cell_type": "code",
   "execution_count": 40,
   "metadata": {},
   "outputs": [],
   "source": [
    "# As from plot, at 4 the error was minimum so we will choose n_neighbors=4\n",
    "knn = KNeighborsClassifier(n_neighbors=4)"
   ]
  },
  {
   "cell_type": "code",
   "execution_count": 41,
   "metadata": {},
   "outputs": [
    {
     "data": {
      "text/plain": [
       "KNeighborsClassifier(n_neighbors=4)"
      ]
     },
     "execution_count": 41,
     "metadata": {},
     "output_type": "execute_result"
    }
   ],
   "source": [
    "knn.fit(X_train,y_train)"
   ]
  },
  {
   "cell_type": "code",
   "execution_count": 42,
   "metadata": {},
   "outputs": [],
   "source": [
    "predi = knn.predict(X_test)"
   ]
  },
  {
   "cell_type": "code",
   "execution_count": 43,
   "metadata": {},
   "outputs": [
    {
     "name": "stdout",
     "output_type": "stream",
     "text": [
      "[[168   2]\n",
      " [ 14   9]]\n",
      "\n",
      "\n",
      "              precision    recall  f1-score   support\n",
      "\n",
      "       False       0.92      0.99      0.95       170\n",
      "        True       0.82      0.39      0.53        23\n",
      "\n",
      "    accuracy                           0.92       193\n",
      "   macro avg       0.87      0.69      0.74       193\n",
      "weighted avg       0.91      0.92      0.90       193\n",
      "\n"
     ]
    }
   ],
   "source": [
    "print(confusion_matrix(y_test,predi))\n",
    "print('\\n')\n",
    "print(classification_report(y_test,predi))"
   ]
  },
  {
   "cell_type": "markdown",
   "metadata": {},
   "source": [
    "As the Random Forest Clssifier performed well for both values, So we will use it as final model"
   ]
  },
  {
   "cell_type": "markdown",
   "metadata": {},
   "source": [
    "## dump the model for further use"
   ]
  },
  {
   "cell_type": "code",
   "execution_count": 38,
   "metadata": {},
   "outputs": [],
   "source": [
    "import pickle"
   ]
  },
  {
   "cell_type": "code",
   "execution_count": 39,
   "metadata": {},
   "outputs": [],
   "source": [
    "file_name = 'Conversion fraud in Digital Advertising.sav'\n",
    "pickle.dump(rf, open(file_name, 'wb'))"
   ]
  },
  {
   "cell_type": "code",
   "execution_count": null,
   "metadata": {},
   "outputs": [],
   "source": []
  }
 ],
 "metadata": {
  "kernelspec": {
   "display_name": "Python 3",
   "language": "python",
   "name": "python3"
  },
  "language_info": {
   "codemirror_mode": {
    "name": "ipython",
    "version": 3
   },
   "file_extension": ".py",
   "mimetype": "text/x-python",
   "name": "python",
   "nbconvert_exporter": "python",
   "pygments_lexer": "ipython3",
   "version": "3.8.6"
  }
 },
 "nbformat": 4,
 "nbformat_minor": 4
}
