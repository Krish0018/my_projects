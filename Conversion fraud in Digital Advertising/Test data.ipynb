{
 "cells": [
  {
   "cell_type": "code",
   "execution_count": 1,
   "metadata": {},
   "outputs": [],
   "source": [
    "#importing the libraries\n",
    "import pandas as pd\n",
    "import numpy as np"
   ]
  },
  {
   "cell_type": "code",
   "execution_count": 2,
   "metadata": {},
   "outputs": [],
   "source": [
    "#loading the test data\n",
    "df_test = pd.read_csv('Test Data.csv')"
   ]
  },
  {
   "cell_type": "code",
   "execution_count": 3,
   "metadata": {},
   "outputs": [
    {
     "data": {
      "text/html": [
       "<div>\n",
       "<style scoped>\n",
       "    .dataframe tbody tr th:only-of-type {\n",
       "        vertical-align: middle;\n",
       "    }\n",
       "\n",
       "    .dataframe tbody tr th {\n",
       "        vertical-align: top;\n",
       "    }\n",
       "\n",
       "    .dataframe thead th {\n",
       "        text-align: right;\n",
       "    }\n",
       "</style>\n",
       "<table border=\"1\" class=\"dataframe\">\n",
       "  <thead>\n",
       "    <tr style=\"text-align: right;\">\n",
       "      <th></th>\n",
       "      <th>record_id</th>\n",
       "      <th>clientid_cr</th>\n",
       "      <th>clmbuserid_cr</th>\n",
       "      <th>conversiontime_cr</th>\n",
       "      <th>imprid_cr</th>\n",
       "      <th>adslotdimid_cr</th>\n",
       "      <th>algo_cr</th>\n",
       "      <th>audiences_cr</th>\n",
       "      <th>clickbid_cr</th>\n",
       "      <th>geodimid_cr</th>\n",
       "      <th>...</th>\n",
       "      <th>usrClusterId_cr</th>\n",
       "      <th>cityGrpDimId_cr</th>\n",
       "      <th>siteClusterIds_cr</th>\n",
       "      <th>refClusterId_cr</th>\n",
       "      <th>paid_cr</th>\n",
       "      <th>spend_cr</th>\n",
       "      <th>attributionType_cr</th>\n",
       "      <th>conversionid_cr</th>\n",
       "      <th>optimize_on_cr</th>\n",
       "      <th>bundleId_cr</th>\n",
       "    </tr>\n",
       "  </thead>\n",
       "  <tbody>\n",
       "    <tr>\n",
       "      <th>0</th>\n",
       "      <td>1000</td>\n",
       "      <td>82122</td>\n",
       "      <td>1045e8b8-662e-49b3-bc4a-4af5326c8236-62kw</td>\n",
       "      <td>1620000000000</td>\n",
       "      <td>864cdaf0-cca7-4bcc-b210-a33858cf8755-1siz8</td>\n",
       "      <td>233531</td>\n",
       "      <td>38</td>\n",
       "      <td>NaN</td>\n",
       "      <td>NaN</td>\n",
       "      <td>145</td>\n",
       "      <td>...</td>\n",
       "      <td>NaN</td>\n",
       "      <td>NaN</td>\n",
       "      <td>3.337341e+17</td>\n",
       "      <td>NaN</td>\n",
       "      <td>NaN</td>\n",
       "      <td>NaN</td>\n",
       "      <td>NaN</td>\n",
       "      <td>NaN</td>\n",
       "      <td>NaN</td>\n",
       "      <td>NaN</td>\n",
       "    </tr>\n",
       "    <tr>\n",
       "      <th>1</th>\n",
       "      <td>1001</td>\n",
       "      <td>75694</td>\n",
       "      <td>53a9a707-967d-4a67-8e9f-e3dd55b464e8-10wm0</td>\n",
       "      <td>1620000000000</td>\n",
       "      <td>6c44c171-9445-4e6b-856e-89bfcd0be22c-1sito</td>\n",
       "      <td>356952</td>\n",
       "      <td>20</td>\n",
       "      <td>NaN</td>\n",
       "      <td>3.1</td>\n",
       "      <td>144</td>\n",
       "      <td>...</td>\n",
       "      <td>NaN</td>\n",
       "      <td>348006.0</td>\n",
       "      <td>NaN</td>\n",
       "      <td>NaN</td>\n",
       "      <td>NaN</td>\n",
       "      <td>NaN</td>\n",
       "      <td>NaN</td>\n",
       "      <td>NaN</td>\n",
       "      <td>NaN</td>\n",
       "      <td>NaN</td>\n",
       "    </tr>\n",
       "    <tr>\n",
       "      <th>2</th>\n",
       "      <td>1002</td>\n",
       "      <td>75694</td>\n",
       "      <td>53a9a707-967d-4a67-8e9f-e3dd55b464e8-10wm0</td>\n",
       "      <td>1620000000000</td>\n",
       "      <td>c00eae97-46c5-48b8-89bf-9d45628b9de3-1siz8</td>\n",
       "      <td>356952</td>\n",
       "      <td>18</td>\n",
       "      <td>NaN</td>\n",
       "      <td>3.1</td>\n",
       "      <td>144</td>\n",
       "      <td>...</td>\n",
       "      <td>NaN</td>\n",
       "      <td>348006.0</td>\n",
       "      <td>NaN</td>\n",
       "      <td>NaN</td>\n",
       "      <td>NaN</td>\n",
       "      <td>NaN</td>\n",
       "      <td>NaN</td>\n",
       "      <td>NaN</td>\n",
       "      <td>NaN</td>\n",
       "      <td>NaN</td>\n",
       "    </tr>\n",
       "    <tr>\n",
       "      <th>3</th>\n",
       "      <td>1003</td>\n",
       "      <td>30431</td>\n",
       "      <td>5febd7e2-b66a-4af0-91ec-117557684188-10wrk</td>\n",
       "      <td>1620000000000</td>\n",
       "      <td>40aad66c-d2da-4635-8b5e-46aca58d2dc6-10o78</td>\n",
       "      <td>355768</td>\n",
       "      <td>21</td>\n",
       "      <td>NaN</td>\n",
       "      <td>NaN</td>\n",
       "      <td>144</td>\n",
       "      <td>...</td>\n",
       "      <td>NaN</td>\n",
       "      <td>348010.0</td>\n",
       "      <td>NaN</td>\n",
       "      <td>NaN</td>\n",
       "      <td>1.0</td>\n",
       "      <td>275.0</td>\n",
       "      <td>1.0</td>\n",
       "      <td>NaN</td>\n",
       "      <td>NaN</td>\n",
       "      <td>NaN</td>\n",
       "    </tr>\n",
       "    <tr>\n",
       "      <th>4</th>\n",
       "      <td>1004</td>\n",
       "      <td>30431</td>\n",
       "      <td>5febd7e2-b66a-4af0-91ec-117557684188-10wrk</td>\n",
       "      <td>1620000000000</td>\n",
       "      <td>4742d072-32ed-45bc-9ca9-5dca4a69f5b1-10onw</td>\n",
       "      <td>355768</td>\n",
       "      <td>21</td>\n",
       "      <td>NaN</td>\n",
       "      <td>NaN</td>\n",
       "      <td>144</td>\n",
       "      <td>...</td>\n",
       "      <td>NaN</td>\n",
       "      <td>348010.0</td>\n",
       "      <td>NaN</td>\n",
       "      <td>NaN</td>\n",
       "      <td>1.0</td>\n",
       "      <td>275.0</td>\n",
       "      <td>1.0</td>\n",
       "      <td>NaN</td>\n",
       "      <td>NaN</td>\n",
       "      <td>NaN</td>\n",
       "    </tr>\n",
       "  </tbody>\n",
       "</table>\n",
       "<p>5 rows × 56 columns</p>\n",
       "</div>"
      ],
      "text/plain": [
       "   record_id  clientid_cr                               clmbuserid_cr  \\\n",
       "0       1000        82122   1045e8b8-662e-49b3-bc4a-4af5326c8236-62kw   \n",
       "1       1001        75694  53a9a707-967d-4a67-8e9f-e3dd55b464e8-10wm0   \n",
       "2       1002        75694  53a9a707-967d-4a67-8e9f-e3dd55b464e8-10wm0   \n",
       "3       1003        30431  5febd7e2-b66a-4af0-91ec-117557684188-10wrk   \n",
       "4       1004        30431  5febd7e2-b66a-4af0-91ec-117557684188-10wrk   \n",
       "\n",
       "   conversiontime_cr                                   imprid_cr  \\\n",
       "0      1620000000000  864cdaf0-cca7-4bcc-b210-a33858cf8755-1siz8   \n",
       "1      1620000000000  6c44c171-9445-4e6b-856e-89bfcd0be22c-1sito   \n",
       "2      1620000000000  c00eae97-46c5-48b8-89bf-9d45628b9de3-1siz8   \n",
       "3      1620000000000  40aad66c-d2da-4635-8b5e-46aca58d2dc6-10o78   \n",
       "4      1620000000000  4742d072-32ed-45bc-9ca9-5dca4a69f5b1-10onw   \n",
       "\n",
       "   adslotdimid_cr  algo_cr audiences_cr  clickbid_cr  geodimid_cr  ...  \\\n",
       "0          233531       38          NaN          NaN          145  ...   \n",
       "1          356952       20          NaN          3.1          144  ...   \n",
       "2          356952       18          NaN          3.1          144  ...   \n",
       "3          355768       21          NaN          NaN          144  ...   \n",
       "4          355768       21          NaN          NaN          144  ...   \n",
       "\n",
       "  usrClusterId_cr  cityGrpDimId_cr  siteClusterIds_cr  refClusterId_cr  \\\n",
       "0             NaN              NaN       3.337341e+17              NaN   \n",
       "1             NaN         348006.0                NaN              NaN   \n",
       "2             NaN         348006.0                NaN              NaN   \n",
       "3             NaN         348010.0                NaN              NaN   \n",
       "4             NaN         348010.0                NaN              NaN   \n",
       "\n",
       "   paid_cr spend_cr  attributionType_cr  conversionid_cr  optimize_on_cr  \\\n",
       "0      NaN      NaN                 NaN              NaN             NaN   \n",
       "1      NaN      NaN                 NaN              NaN             NaN   \n",
       "2      NaN      NaN                 NaN              NaN             NaN   \n",
       "3      1.0    275.0                 1.0              NaN             NaN   \n",
       "4      1.0    275.0                 1.0              NaN             NaN   \n",
       "\n",
       "   bundleId_cr  \n",
       "0          NaN  \n",
       "1          NaN  \n",
       "2          NaN  \n",
       "3          NaN  \n",
       "4          NaN  \n",
       "\n",
       "[5 rows x 56 columns]"
      ]
     },
     "execution_count": 3,
     "metadata": {},
     "output_type": "execute_result"
    }
   ],
   "source": [
    "df_test.head()"
   ]
  },
  {
   "cell_type": "code",
   "execution_count": 4,
   "metadata": {},
   "outputs": [
    {
     "name": "stdout",
     "output_type": "stream",
     "text": [
      "<class 'pandas.core.frame.DataFrame'>\n",
      "RangeIndex: 455 entries, 0 to 454\n",
      "Data columns (total 56 columns):\n",
      " #   Column                         Non-Null Count  Dtype  \n",
      "---  ------                         --------------  -----  \n",
      " 0   record_id                      455 non-null    int64  \n",
      " 1   clientid_cr                    455 non-null    int64  \n",
      " 2   clmbuserid_cr                  455 non-null    object \n",
      " 3   conversiontime_cr              455 non-null    int64  \n",
      " 4   imprid_cr                      455 non-null    object \n",
      " 5   adslotdimid_cr                 455 non-null    int64  \n",
      " 6   algo_cr                        455 non-null    int64  \n",
      " 7   audiences_cr                   369 non-null    object \n",
      " 8   clickbid_cr                    305 non-null    float64\n",
      " 9   geodimid_cr                    455 non-null    int64  \n",
      " 10  ip_cr                          455 non-null    object \n",
      " 11  itemcolumbiaid_cr              455 non-null    int64  \n",
      " 12  itemid_cr                      455 non-null    int64  \n",
      " 13  position_cr                    455 non-null    int64  \n",
      " 14  pubclientid_cr                 455 non-null    int64  \n",
      " 15  refurl_cr                      408 non-null    object \n",
      " 16  siteId_cr                      455 non-null    int64  \n",
      " 17  templateid_cr                  414 non-null    float64\n",
      " 18  goalid_cr                      455 non-null    int64  \n",
      " 19  time_cr                        455 non-null    int64  \n",
      " 20  adLogType_cr                   455 non-null    int64  \n",
      " 21  v_cr                           455 non-null    int64  \n",
      " 22  allAudiences_cr                432 non-null    object \n",
      " 23  pricingtype_cr                 455 non-null    int64  \n",
      " 24  osId_cr                        455 non-null    int64  \n",
      " 25  browserId_cr                   455 non-null    int64  \n",
      " 26  cityId_cr                      455 non-null    int64  \n",
      " 27  stateId_cr                     455 non-null    int64  \n",
      " 28  modelDimId_cr                  455 non-null    int64  \n",
      " 29  lookUpFrom_cr                  455 non-null    int64  \n",
      " 30  connTypeDimId_cr               455 non-null    int64  \n",
      " 31  ispDimId_cr                    455 non-null    int64  \n",
      " 32  countryDimId_cr                455 non-null    int64  \n",
      " 33  goalTypeId_cr                  455 non-null    int64  \n",
      " 34  conversionDurationInMillis_cr  455 non-null    int64  \n",
      " 35  impressionTimeInMillis_cr      455 non-null    int64  \n",
      " 36  clickTimeInMillis_cr           379 non-null    float64\n",
      " 37  osVerDimId_cr                  455 non-null    int64  \n",
      " 38  uuidSource_cr                  455 non-null    int64  \n",
      " 39  geoGrpDimId_cr                 455 non-null    int64  \n",
      " 40  stateGrpDimId_cr               413 non-null    float64\n",
      " 41  deviceId_cr                    76 non-null     float64\n",
      " 42  uvh_cr                         0 non-null      float64\n",
      " 43  uv_cr                          18 non-null     float64\n",
      " 44  platformId_cr                  76 non-null     float64\n",
      " 45  sdkVersion_cr                  5 non-null      object \n",
      " 46  usrClusterId_cr                163 non-null    float64\n",
      " 47  cityGrpDimId_cr                302 non-null    float64\n",
      " 48  siteClusterIds_cr              205 non-null    float64\n",
      " 49  refClusterId_cr                35 non-null     float64\n",
      " 50  paid_cr                        77 non-null     float64\n",
      " 51  spend_cr                       77 non-null     float64\n",
      " 52  attributionType_cr             77 non-null     float64\n",
      " 53  conversionid_cr                1 non-null      object \n",
      " 54  optimize_on_cr                 18 non-null     object \n",
      " 55  bundleId_cr                    2 non-null      float64\n",
      "dtypes: float64(16), int64(31), object(9)\n",
      "memory usage: 199.2+ KB\n"
     ]
    }
   ],
   "source": [
    "df_test.info()"
   ]
  },
  {
   "cell_type": "code",
   "execution_count": 5,
   "metadata": {},
   "outputs": [],
   "source": [
    "#Dropping all the columns which we have not used in train dataset\n",
    "df_test = df_test.drop(['record_id','deviceId_cr','uvh_cr','platformId_cr','sdkVersion_cr','usrClusterId_cr','cityGrpDimId_cr',\n",
    "           'paid_cr','spend_cr','attributionType_cr','conversionid_cr','optimize_on_cr','bundleId_cr',\n",
    "           'stateGrpDimId_cr','ip_cr','uv_cr','siteClusterIds_cr','refClusterId_cr','clmbuserid_cr',\n",
    "           'imprid_cr','audiences_cr','refurl_cr','allAudiences_cr','connTypeDimId_cr','clickbid_cr'], axis=1)"
   ]
  },
  {
   "cell_type": "code",
   "execution_count": 6,
   "metadata": {},
   "outputs": [
    {
     "data": {
      "text/plain": [
       "(455, 31)"
      ]
     },
     "execution_count": 6,
     "metadata": {},
     "output_type": "execute_result"
    }
   ],
   "source": [
    "df_test.shape"
   ]
  },
  {
   "cell_type": "code",
   "execution_count": 7,
   "metadata": {},
   "outputs": [
    {
     "data": {
      "text/plain": [
       "clientid_cr                       0\n",
       "conversiontime_cr                 0\n",
       "adslotdimid_cr                    0\n",
       "algo_cr                           0\n",
       "geodimid_cr                       0\n",
       "itemcolumbiaid_cr                 0\n",
       "itemid_cr                         0\n",
       "position_cr                       0\n",
       "pubclientid_cr                    0\n",
       "siteId_cr                         0\n",
       "templateid_cr                    41\n",
       "goalid_cr                         0\n",
       "time_cr                           0\n",
       "adLogType_cr                      0\n",
       "v_cr                              0\n",
       "pricingtype_cr                    0\n",
       "osId_cr                           0\n",
       "browserId_cr                      0\n",
       "cityId_cr                         0\n",
       "stateId_cr                        0\n",
       "modelDimId_cr                     0\n",
       "lookUpFrom_cr                     0\n",
       "ispDimId_cr                       0\n",
       "countryDimId_cr                   0\n",
       "goalTypeId_cr                     0\n",
       "conversionDurationInMillis_cr     0\n",
       "impressionTimeInMillis_cr         0\n",
       "clickTimeInMillis_cr             76\n",
       "osVerDimId_cr                     0\n",
       "uuidSource_cr                     0\n",
       "geoGrpDimId_cr                    0\n",
       "dtype: int64"
      ]
     },
     "execution_count": 7,
     "metadata": {},
     "output_type": "execute_result"
    }
   ],
   "source": [
    "#checking for null values\n",
    "df_test.isna().sum()"
   ]
  },
  {
   "cell_type": "code",
   "execution_count": 8,
   "metadata": {},
   "outputs": [],
   "source": [
    "#filling the null values with median\n",
    "df_test = df_test.fillna(df_test.median())"
   ]
  },
  {
   "cell_type": "code",
   "execution_count": 9,
   "metadata": {},
   "outputs": [
    {
     "data": {
      "text/plain": [
       "clientid_cr                      0\n",
       "conversiontime_cr                0\n",
       "adslotdimid_cr                   0\n",
       "algo_cr                          0\n",
       "geodimid_cr                      0\n",
       "itemcolumbiaid_cr                0\n",
       "itemid_cr                        0\n",
       "position_cr                      0\n",
       "pubclientid_cr                   0\n",
       "siteId_cr                        0\n",
       "templateid_cr                    0\n",
       "goalid_cr                        0\n",
       "time_cr                          0\n",
       "adLogType_cr                     0\n",
       "v_cr                             0\n",
       "pricingtype_cr                   0\n",
       "osId_cr                          0\n",
       "browserId_cr                     0\n",
       "cityId_cr                        0\n",
       "stateId_cr                       0\n",
       "modelDimId_cr                    0\n",
       "lookUpFrom_cr                    0\n",
       "ispDimId_cr                      0\n",
       "countryDimId_cr                  0\n",
       "goalTypeId_cr                    0\n",
       "conversionDurationInMillis_cr    0\n",
       "impressionTimeInMillis_cr        0\n",
       "clickTimeInMillis_cr             0\n",
       "osVerDimId_cr                    0\n",
       "uuidSource_cr                    0\n",
       "geoGrpDimId_cr                   0\n",
       "dtype: int64"
      ]
     },
     "execution_count": 9,
     "metadata": {},
     "output_type": "execute_result"
    }
   ],
   "source": [
    "df_test.isna().sum()"
   ]
  },
  {
   "cell_type": "markdown",
   "metadata": {},
   "source": [
    "## Load the trained model"
   ]
  },
  {
   "cell_type": "code",
   "execution_count": 10,
   "metadata": {},
   "outputs": [],
   "source": [
    "import pickle"
   ]
  },
  {
   "cell_type": "code",
   "execution_count": 11,
   "metadata": {},
   "outputs": [],
   "source": [
    "model = pickle.load(open('Conversion fraud in Digital Advertising.sav','rb'))"
   ]
  },
  {
   "cell_type": "markdown",
   "metadata": {},
   "source": [
    "## Prediction and creating the file as mentioned in instructions"
   ]
  },
  {
   "cell_type": "code",
   "execution_count": 12,
   "metadata": {},
   "outputs": [],
   "source": [
    "prediction = model.predict(df_test)"
   ]
  },
  {
   "cell_type": "code",
   "execution_count": 13,
   "metadata": {},
   "outputs": [],
   "source": [
    "result = pd.DataFrame(prediction,columns=['conversion_fraud'])"
   ]
  },
  {
   "cell_type": "code",
   "execution_count": 14,
   "metadata": {},
   "outputs": [],
   "source": [
    "df1 = pd.read_csv('Test Data.csv')"
   ]
  },
  {
   "cell_type": "code",
   "execution_count": 15,
   "metadata": {},
   "outputs": [],
   "source": [
    "df_subm = pd.concat([df1['record_id'],result], axis=1) # creating new dataframe using ID and prediction as required"
   ]
  },
  {
   "cell_type": "code",
   "execution_count": 16,
   "metadata": {},
   "outputs": [
    {
     "data": {
      "text/html": [
       "<div>\n",
       "<style scoped>\n",
       "    .dataframe tbody tr th:only-of-type {\n",
       "        vertical-align: middle;\n",
       "    }\n",
       "\n",
       "    .dataframe tbody tr th {\n",
       "        vertical-align: top;\n",
       "    }\n",
       "\n",
       "    .dataframe thead th {\n",
       "        text-align: right;\n",
       "    }\n",
       "</style>\n",
       "<table border=\"1\" class=\"dataframe\">\n",
       "  <thead>\n",
       "    <tr style=\"text-align: right;\">\n",
       "      <th></th>\n",
       "      <th>record_id</th>\n",
       "      <th>conversion_fraud</th>\n",
       "    </tr>\n",
       "  </thead>\n",
       "  <tbody>\n",
       "    <tr>\n",
       "      <th>0</th>\n",
       "      <td>1000</td>\n",
       "      <td>False</td>\n",
       "    </tr>\n",
       "    <tr>\n",
       "      <th>1</th>\n",
       "      <td>1001</td>\n",
       "      <td>False</td>\n",
       "    </tr>\n",
       "    <tr>\n",
       "      <th>2</th>\n",
       "      <td>1002</td>\n",
       "      <td>False</td>\n",
       "    </tr>\n",
       "    <tr>\n",
       "      <th>3</th>\n",
       "      <td>1003</td>\n",
       "      <td>False</td>\n",
       "    </tr>\n",
       "    <tr>\n",
       "      <th>4</th>\n",
       "      <td>1004</td>\n",
       "      <td>False</td>\n",
       "    </tr>\n",
       "    <tr>\n",
       "      <th>...</th>\n",
       "      <td>...</td>\n",
       "      <td>...</td>\n",
       "    </tr>\n",
       "    <tr>\n",
       "      <th>450</th>\n",
       "      <td>1450</td>\n",
       "      <td>False</td>\n",
       "    </tr>\n",
       "    <tr>\n",
       "      <th>451</th>\n",
       "      <td>1451</td>\n",
       "      <td>False</td>\n",
       "    </tr>\n",
       "    <tr>\n",
       "      <th>452</th>\n",
       "      <td>1452</td>\n",
       "      <td>False</td>\n",
       "    </tr>\n",
       "    <tr>\n",
       "      <th>453</th>\n",
       "      <td>1453</td>\n",
       "      <td>False</td>\n",
       "    </tr>\n",
       "    <tr>\n",
       "      <th>454</th>\n",
       "      <td>1454</td>\n",
       "      <td>False</td>\n",
       "    </tr>\n",
       "  </tbody>\n",
       "</table>\n",
       "<p>455 rows × 2 columns</p>\n",
       "</div>"
      ],
      "text/plain": [
       "     record_id  conversion_fraud\n",
       "0         1000             False\n",
       "1         1001             False\n",
       "2         1002             False\n",
       "3         1003             False\n",
       "4         1004             False\n",
       "..         ...               ...\n",
       "450       1450             False\n",
       "451       1451             False\n",
       "452       1452             False\n",
       "453       1453             False\n",
       "454       1454             False\n",
       "\n",
       "[455 rows x 2 columns]"
      ]
     },
     "execution_count": 16,
     "metadata": {},
     "output_type": "execute_result"
    }
   ],
   "source": [
    "df_subm"
   ]
  },
  {
   "cell_type": "code",
   "execution_count": 17,
   "metadata": {},
   "outputs": [
    {
     "data": {
      "text/plain": [
       "False    445\n",
       "True      10\n",
       "Name: conversion_fraud, dtype: int64"
      ]
     },
     "execution_count": 17,
     "metadata": {},
     "output_type": "execute_result"
    }
   ],
   "source": [
    "df_subm['conversion_fraud'].value_counts()"
   ]
  },
  {
   "cell_type": "code",
   "execution_count": 18,
   "metadata": {},
   "outputs": [],
   "source": [
    "#creating csv file\n",
    "df_subm.to_csv('Conversion fraud in Digital Advertising_final_submission.csv', index=False)"
   ]
  },
  {
   "cell_type": "code",
   "execution_count": null,
   "metadata": {},
   "outputs": [],
   "source": []
  }
 ],
 "metadata": {
  "kernelspec": {
   "display_name": "Python 3",
   "language": "python",
   "name": "python3"
  },
  "language_info": {
   "codemirror_mode": {
    "name": "ipython",
    "version": 3
   },
   "file_extension": ".py",
   "mimetype": "text/x-python",
   "name": "python",
   "nbconvert_exporter": "python",
   "pygments_lexer": "ipython3",
   "version": "3.8.6"
  }
 },
 "nbformat": 4,
 "nbformat_minor": 4
}
