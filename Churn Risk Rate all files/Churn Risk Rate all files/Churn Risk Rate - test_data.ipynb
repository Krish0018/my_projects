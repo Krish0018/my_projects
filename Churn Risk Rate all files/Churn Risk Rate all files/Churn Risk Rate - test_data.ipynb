{
 "cells": [
  {
   "cell_type": "code",
   "execution_count": 1,
   "metadata": {},
   "outputs": [],
   "source": [
    "#importing important libraries\n",
    "import pandas as pd\n",
    "import numpy as np\n",
    "import matplotlib.pyplot as plt\n",
    "import seaborn as sns\n",
    "sns.set()"
   ]
  },
  {
   "cell_type": "code",
   "execution_count": 2,
   "metadata": {},
   "outputs": [],
   "source": [
    "#loading the file as per instructions\n",
    "df = pd.read_csv('test.csv')"
   ]
  },
  {
   "cell_type": "code",
   "execution_count": 3,
   "metadata": {},
   "outputs": [
    {
     "data": {
      "text/html": [
       "<div>\n",
       "<style scoped>\n",
       "    .dataframe tbody tr th:only-of-type {\n",
       "        vertical-align: middle;\n",
       "    }\n",
       "\n",
       "    .dataframe tbody tr th {\n",
       "        vertical-align: top;\n",
       "    }\n",
       "\n",
       "    .dataframe thead th {\n",
       "        text-align: right;\n",
       "    }\n",
       "</style>\n",
       "<table border=\"1\" class=\"dataframe\">\n",
       "  <thead>\n",
       "    <tr style=\"text-align: right;\">\n",
       "      <th></th>\n",
       "      <th>customer_id</th>\n",
       "      <th>Name</th>\n",
       "      <th>age</th>\n",
       "      <th>gender</th>\n",
       "      <th>security_no</th>\n",
       "      <th>region_category</th>\n",
       "      <th>membership_category</th>\n",
       "      <th>joining_date</th>\n",
       "      <th>joined_through_referral</th>\n",
       "      <th>referral_id</th>\n",
       "      <th>...</th>\n",
       "      <th>days_since_last_login</th>\n",
       "      <th>avg_time_spent</th>\n",
       "      <th>avg_transaction_value</th>\n",
       "      <th>avg_frequency_login_days</th>\n",
       "      <th>points_in_wallet</th>\n",
       "      <th>used_special_discount</th>\n",
       "      <th>offer_application_preference</th>\n",
       "      <th>past_complaint</th>\n",
       "      <th>complaint_status</th>\n",
       "      <th>feedback</th>\n",
       "    </tr>\n",
       "  </thead>\n",
       "  <tbody>\n",
       "    <tr>\n",
       "      <th>0</th>\n",
       "      <td>fffe43004900440031003700300030003400</td>\n",
       "      <td>Alethia Meints</td>\n",
       "      <td>50</td>\n",
       "      <td>F</td>\n",
       "      <td>OQJ1XAY</td>\n",
       "      <td>Village</td>\n",
       "      <td>Premium Membership</td>\n",
       "      <td>2015-11-02</td>\n",
       "      <td>No</td>\n",
       "      <td>xxxxxxxx</td>\n",
       "      <td>...</td>\n",
       "      <td>12</td>\n",
       "      <td>386.26</td>\n",
       "      <td>40721.44</td>\n",
       "      <td>7.0</td>\n",
       "      <td>733.830000</td>\n",
       "      <td>Yes</td>\n",
       "      <td>No</td>\n",
       "      <td>No</td>\n",
       "      <td>Not Applicable</td>\n",
       "      <td>Poor Product Quality</td>\n",
       "    </tr>\n",
       "    <tr>\n",
       "      <th>1</th>\n",
       "      <td>fffe43004900440031003900370037003300</td>\n",
       "      <td>Ming Lopez</td>\n",
       "      <td>41</td>\n",
       "      <td>M</td>\n",
       "      <td>OUQRPKO</td>\n",
       "      <td>Village</td>\n",
       "      <td>Gold Membership</td>\n",
       "      <td>2016-03-01</td>\n",
       "      <td>No</td>\n",
       "      <td>xxxxxxxx</td>\n",
       "      <td>...</td>\n",
       "      <td>11</td>\n",
       "      <td>37.80</td>\n",
       "      <td>9644.40</td>\n",
       "      <td>9.0</td>\n",
       "      <td>726.000000</td>\n",
       "      <td>Yes</td>\n",
       "      <td>No</td>\n",
       "      <td>No</td>\n",
       "      <td>Not Applicable</td>\n",
       "      <td>Poor Website</td>\n",
       "    </tr>\n",
       "    <tr>\n",
       "      <th>2</th>\n",
       "      <td>fffe43004900440034003800360037003000</td>\n",
       "      <td>Carina Flannigan</td>\n",
       "      <td>31</td>\n",
       "      <td>F</td>\n",
       "      <td>02J2RE7</td>\n",
       "      <td>Town</td>\n",
       "      <td>Silver Membership</td>\n",
       "      <td>2017-03-03</td>\n",
       "      <td>No</td>\n",
       "      <td>xxxxxxxx</td>\n",
       "      <td>...</td>\n",
       "      <td>18</td>\n",
       "      <td>215.36</td>\n",
       "      <td>3693.25</td>\n",
       "      <td>21.0</td>\n",
       "      <td>713.780000</td>\n",
       "      <td>Yes</td>\n",
       "      <td>No</td>\n",
       "      <td>Yes</td>\n",
       "      <td>Solved in Follow-up</td>\n",
       "      <td>No reason specified</td>\n",
       "    </tr>\n",
       "    <tr>\n",
       "      <th>3</th>\n",
       "      <td>fffe43004900440036003200370033003400</td>\n",
       "      <td>Kyung Wanner</td>\n",
       "      <td>64</td>\n",
       "      <td>M</td>\n",
       "      <td>5YEQIF1</td>\n",
       "      <td>Town</td>\n",
       "      <td>Silver Membership</td>\n",
       "      <td>2017-08-18</td>\n",
       "      <td>Yes</td>\n",
       "      <td>CID8941</td>\n",
       "      <td>...</td>\n",
       "      <td>-999</td>\n",
       "      <td>44.57</td>\n",
       "      <td>36809.56</td>\n",
       "      <td>11.0</td>\n",
       "      <td>744.970000</td>\n",
       "      <td>Yes</td>\n",
       "      <td>No</td>\n",
       "      <td>Yes</td>\n",
       "      <td>No Information Available</td>\n",
       "      <td>Too many ads</td>\n",
       "    </tr>\n",
       "    <tr>\n",
       "      <th>4</th>\n",
       "      <td>fffe43004900440035003000370031003900</td>\n",
       "      <td>Enola Gatto</td>\n",
       "      <td>16</td>\n",
       "      <td>F</td>\n",
       "      <td>100RYB5</td>\n",
       "      <td>Town</td>\n",
       "      <td>No Membership</td>\n",
       "      <td>2015-05-05</td>\n",
       "      <td>Yes</td>\n",
       "      <td>CID5690</td>\n",
       "      <td>...</td>\n",
       "      <td>6</td>\n",
       "      <td>349.88</td>\n",
       "      <td>40675.86</td>\n",
       "      <td>8.0</td>\n",
       "      <td>299.048351</td>\n",
       "      <td>No</td>\n",
       "      <td>Yes</td>\n",
       "      <td>Yes</td>\n",
       "      <td>Solved in Follow-up</td>\n",
       "      <td>Poor Website</td>\n",
       "    </tr>\n",
       "  </tbody>\n",
       "</table>\n",
       "<p>5 rows × 24 columns</p>\n",
       "</div>"
      ],
      "text/plain": [
       "                            customer_id              Name  age gender  \\\n",
       "0  fffe43004900440031003700300030003400    Alethia Meints   50      F   \n",
       "1  fffe43004900440031003900370037003300        Ming Lopez   41      M   \n",
       "2  fffe43004900440034003800360037003000  Carina Flannigan   31      F   \n",
       "3  fffe43004900440036003200370033003400      Kyung Wanner   64      M   \n",
       "4  fffe43004900440035003000370031003900       Enola Gatto   16      F   \n",
       "\n",
       "  security_no region_category membership_category joining_date  \\\n",
       "0     OQJ1XAY         Village  Premium Membership   2015-11-02   \n",
       "1     OUQRPKO         Village     Gold Membership   2016-03-01   \n",
       "2     02J2RE7            Town   Silver Membership   2017-03-03   \n",
       "3     5YEQIF1            Town   Silver Membership   2017-08-18   \n",
       "4     100RYB5            Town       No Membership   2015-05-05   \n",
       "\n",
       "  joined_through_referral referral_id  ... days_since_last_login  \\\n",
       "0                      No    xxxxxxxx  ...                    12   \n",
       "1                      No    xxxxxxxx  ...                    11   \n",
       "2                      No    xxxxxxxx  ...                    18   \n",
       "3                     Yes     CID8941  ...                  -999   \n",
       "4                     Yes     CID5690  ...                     6   \n",
       "\n",
       "  avg_time_spent avg_transaction_value avg_frequency_login_days  \\\n",
       "0         386.26              40721.44                      7.0   \n",
       "1          37.80               9644.40                      9.0   \n",
       "2         215.36               3693.25                     21.0   \n",
       "3          44.57              36809.56                     11.0   \n",
       "4         349.88              40675.86                      8.0   \n",
       "\n",
       "   points_in_wallet  used_special_discount  offer_application_preference  \\\n",
       "0        733.830000                    Yes                            No   \n",
       "1        726.000000                    Yes                            No   \n",
       "2        713.780000                    Yes                            No   \n",
       "3        744.970000                    Yes                            No   \n",
       "4        299.048351                     No                           Yes   \n",
       "\n",
       "  past_complaint          complaint_status              feedback  \n",
       "0             No            Not Applicable  Poor Product Quality  \n",
       "1             No            Not Applicable          Poor Website  \n",
       "2            Yes       Solved in Follow-up   No reason specified  \n",
       "3            Yes  No Information Available          Too many ads  \n",
       "4            Yes       Solved in Follow-up          Poor Website  \n",
       "\n",
       "[5 rows x 24 columns]"
      ]
     },
     "execution_count": 3,
     "metadata": {},
     "output_type": "execute_result"
    }
   ],
   "source": [
    "df.head()"
   ]
  },
  {
   "cell_type": "code",
   "execution_count": 4,
   "metadata": {},
   "outputs": [
    {
     "name": "stdout",
     "output_type": "stream",
     "text": [
      "<class 'pandas.core.frame.DataFrame'>\n",
      "RangeIndex: 19919 entries, 0 to 19918\n",
      "Data columns (total 24 columns):\n",
      " #   Column                        Non-Null Count  Dtype  \n",
      "---  ------                        --------------  -----  \n",
      " 0   customer_id                   19919 non-null  object \n",
      " 1   Name                          19919 non-null  object \n",
      " 2   age                           19919 non-null  int64  \n",
      " 3   gender                        19919 non-null  object \n",
      " 4   security_no                   19919 non-null  object \n",
      " 5   region_category               16971 non-null  object \n",
      " 6   membership_category           19919 non-null  object \n",
      " 7   joining_date                  19919 non-null  object \n",
      " 8   joined_through_referral       19919 non-null  object \n",
      " 9   referral_id                   19919 non-null  object \n",
      " 10  preferred_offer_types         19760 non-null  object \n",
      " 11  medium_of_operation           19919 non-null  object \n",
      " 12  internet_option               19919 non-null  object \n",
      " 13  last_visit_time               19919 non-null  object \n",
      " 14  days_since_last_login         19919 non-null  int64  \n",
      " 15  avg_time_spent                19919 non-null  float64\n",
      " 16  avg_transaction_value         19919 non-null  float64\n",
      " 17  avg_frequency_login_days      19919 non-null  object \n",
      " 18  points_in_wallet              17956 non-null  float64\n",
      " 19  used_special_discount         19919 non-null  object \n",
      " 20  offer_application_preference  19919 non-null  object \n",
      " 21  past_complaint                19919 non-null  object \n",
      " 22  complaint_status              19919 non-null  object \n",
      " 23  feedback                      19919 non-null  object \n",
      "dtypes: float64(3), int64(2), object(19)\n",
      "memory usage: 3.6+ MB\n"
     ]
    }
   ],
   "source": [
    "df.info()"
   ]
  },
  {
   "cell_type": "code",
   "execution_count": 5,
   "metadata": {},
   "outputs": [
    {
     "data": {
      "text/plain": [
       "customer_id                     0.000000\n",
       "Name                            0.000000\n",
       "age                             0.000000\n",
       "gender                          0.000000\n",
       "security_no                     0.000000\n",
       "region_category                 0.147999\n",
       "membership_category             0.000000\n",
       "joining_date                    0.000000\n",
       "joined_through_referral         0.000000\n",
       "referral_id                     0.000000\n",
       "preferred_offer_types           0.007982\n",
       "medium_of_operation             0.000000\n",
       "internet_option                 0.000000\n",
       "last_visit_time                 0.000000\n",
       "days_since_last_login           0.000000\n",
       "avg_time_spent                  0.000000\n",
       "avg_transaction_value           0.000000\n",
       "avg_frequency_login_days        0.000000\n",
       "points_in_wallet                0.098549\n",
       "used_special_discount           0.000000\n",
       "offer_application_preference    0.000000\n",
       "past_complaint                  0.000000\n",
       "complaint_status                0.000000\n",
       "feedback                        0.000000\n",
       "dtype: float64"
      ]
     },
     "execution_count": 5,
     "metadata": {},
     "output_type": "execute_result"
    }
   ],
   "source": [
    "#Let's check the null value in terms of percentage\n",
    "df.isna().sum()/len(df)"
   ]
  },
  {
   "cell_type": "code",
   "execution_count": 6,
   "metadata": {},
   "outputs": [],
   "source": [
    "df = df.fillna(df.mean())"
   ]
  },
  {
   "cell_type": "code",
   "execution_count": 7,
   "metadata": {},
   "outputs": [
    {
     "data": {
      "text/plain": [
       "customer_id                     0.000000\n",
       "Name                            0.000000\n",
       "age                             0.000000\n",
       "gender                          0.000000\n",
       "security_no                     0.000000\n",
       "region_category                 0.147999\n",
       "membership_category             0.000000\n",
       "joining_date                    0.000000\n",
       "joined_through_referral         0.000000\n",
       "referral_id                     0.000000\n",
       "preferred_offer_types           0.007982\n",
       "medium_of_operation             0.000000\n",
       "internet_option                 0.000000\n",
       "last_visit_time                 0.000000\n",
       "days_since_last_login           0.000000\n",
       "avg_time_spent                  0.000000\n",
       "avg_transaction_value           0.000000\n",
       "avg_frequency_login_days        0.000000\n",
       "points_in_wallet                0.000000\n",
       "used_special_discount           0.000000\n",
       "offer_application_preference    0.000000\n",
       "past_complaint                  0.000000\n",
       "complaint_status                0.000000\n",
       "feedback                        0.000000\n",
       "dtype: float64"
      ]
     },
     "execution_count": 7,
     "metadata": {},
     "output_type": "execute_result"
    }
   ],
   "source": [
    "df.isna().sum()/len(df)"
   ]
  },
  {
   "cell_type": "code",
   "execution_count": 8,
   "metadata": {},
   "outputs": [],
   "source": [
    "df['region_category'].fillna(df['region_category'].mode()[0], inplace=True)\n",
    "df['preferred_offer_types'].fillna(df['preferred_offer_types'].mode()[0], inplace=True)"
   ]
  },
  {
   "cell_type": "code",
   "execution_count": 9,
   "metadata": {},
   "outputs": [
    {
     "data": {
      "text/plain": [
       "customer_id                     0.0\n",
       "Name                            0.0\n",
       "age                             0.0\n",
       "gender                          0.0\n",
       "security_no                     0.0\n",
       "region_category                 0.0\n",
       "membership_category             0.0\n",
       "joining_date                    0.0\n",
       "joined_through_referral         0.0\n",
       "referral_id                     0.0\n",
       "preferred_offer_types           0.0\n",
       "medium_of_operation             0.0\n",
       "internet_option                 0.0\n",
       "last_visit_time                 0.0\n",
       "days_since_last_login           0.0\n",
       "avg_time_spent                  0.0\n",
       "avg_transaction_value           0.0\n",
       "avg_frequency_login_days        0.0\n",
       "points_in_wallet                0.0\n",
       "used_special_discount           0.0\n",
       "offer_application_preference    0.0\n",
       "past_complaint                  0.0\n",
       "complaint_status                0.0\n",
       "feedback                        0.0\n",
       "dtype: float64"
      ]
     },
     "execution_count": 9,
     "metadata": {},
     "output_type": "execute_result"
    }
   ],
   "source": [
    "df.isna().sum()/len(df)"
   ]
  },
  {
   "cell_type": "code",
   "execution_count": 10,
   "metadata": {},
   "outputs": [],
   "source": [
    "df['joined_through_referral'] = df['joined_through_referral'].apply(lambda x:'No' if x == '?' else x)"
   ]
  },
  {
   "cell_type": "code",
   "execution_count": 11,
   "metadata": {},
   "outputs": [
    {
     "name": "stderr",
     "output_type": "stream",
     "text": [
      "c:\\python38\\lib\\site-packages\\seaborn\\_decorators.py:36: FutureWarning: Pass the following variable as a keyword arg: x. From version 0.12, the only valid positional argument will be `data`, and passing other arguments without an explicit keyword will result in an error or misinterpretation.\n",
      "  warnings.warn(\n"
     ]
    },
    {
     "data": {
      "text/plain": [
       "<AxesSubplot:xlabel='medium_of_operation', ylabel='count'>"
      ]
     },
     "execution_count": 11,
     "metadata": {},
     "output_type": "execute_result"
    },
    {
     "data": {
      "image/png": "[encoded data removed]",
      "text/plain": [
       "<Figure size 432x288 with 1 Axes>"
      ]
     },
     "metadata": {},
     "output_type": "display_data"
    }
   ],
   "source": [
    "sns.countplot(df['medium_of_operation'])"
   ]
  },
  {
   "cell_type": "code",
   "execution_count": 12,
   "metadata": {},
   "outputs": [],
   "source": [
    "df['medium_of_operation'] = df['medium_of_operation'].apply(lambda x:'Desktop' if x == '?' else x)"
   ]
  },
  {
   "cell_type": "code",
   "execution_count": 13,
   "metadata": {},
   "outputs": [
    {
     "data": {
      "text/plain": [
       "array(['Smartphone', 'Desktop', 'Both'], dtype=object)"
      ]
     },
     "execution_count": 13,
     "metadata": {},
     "output_type": "execute_result"
    }
   ],
   "source": [
    "df['medium_of_operation'].unique()"
   ]
  },
  {
   "cell_type": "code",
   "execution_count": 14,
   "metadata": {},
   "outputs": [
    {
     "data": {
      "text/html": [
       "<div>\n",
       "<style scoped>\n",
       "    .dataframe tbody tr th:only-of-type {\n",
       "        vertical-align: middle;\n",
       "    }\n",
       "\n",
       "    .dataframe tbody tr th {\n",
       "        vertical-align: top;\n",
       "    }\n",
       "\n",
       "    .dataframe thead th {\n",
       "        text-align: right;\n",
       "    }\n",
       "</style>\n",
       "<table border=\"1\" class=\"dataframe\">\n",
       "  <thead>\n",
       "    <tr style=\"text-align: right;\">\n",
       "      <th></th>\n",
       "      <th>age</th>\n",
       "      <th>days_since_last_login</th>\n",
       "      <th>avg_time_spent</th>\n",
       "      <th>avg_transaction_value</th>\n",
       "      <th>points_in_wallet</th>\n",
       "    </tr>\n",
       "  </thead>\n",
       "  <tbody>\n",
       "    <tr>\n",
       "      <th>count</th>\n",
       "      <td>19919.000000</td>\n",
       "      <td>19919.000000</td>\n",
       "      <td>19919.000000</td>\n",
       "      <td>19919.000000</td>\n",
       "      <td>19919.000000</td>\n",
       "    </tr>\n",
       "    <tr>\n",
       "      <th>mean</th>\n",
       "      <td>36.884432</td>\n",
       "      <td>-39.216527</td>\n",
       "      <td>244.134926</td>\n",
       "      <td>29318.122196</td>\n",
       "      <td>685.968794</td>\n",
       "    </tr>\n",
       "    <tr>\n",
       "      <th>std</th>\n",
       "      <td>15.917311</td>\n",
       "      <td>223.274420</td>\n",
       "      <td>403.910806</td>\n",
       "      <td>19507.775429</td>\n",
       "      <td>182.438697</td>\n",
       "    </tr>\n",
       "    <tr>\n",
       "      <th>min</th>\n",
       "      <td>10.000000</td>\n",
       "      <td>-999.000000</td>\n",
       "      <td>-2180.780796</td>\n",
       "      <td>803.710000</td>\n",
       "      <td>-465.289977</td>\n",
       "    </tr>\n",
       "    <tr>\n",
       "      <th>25%</th>\n",
       "      <td>23.000000</td>\n",
       "      <td>8.000000</td>\n",
       "      <td>59.360000</td>\n",
       "      <td>14236.200000</td>\n",
       "      <td>624.480000</td>\n",
       "    </tr>\n",
       "    <tr>\n",
       "      <th>50%</th>\n",
       "      <td>37.000000</td>\n",
       "      <td>12.000000</td>\n",
       "      <td>161.240000</td>\n",
       "      <td>27564.050000</td>\n",
       "      <td>685.968794</td>\n",
       "    </tr>\n",
       "    <tr>\n",
       "      <th>75%</th>\n",
       "      <td>51.000000</td>\n",
       "      <td>16.000000</td>\n",
       "      <td>354.195000</td>\n",
       "      <td>40969.400000</td>\n",
       "      <td>757.855000</td>\n",
       "    </tr>\n",
       "    <tr>\n",
       "      <th>max</th>\n",
       "      <td>64.000000</td>\n",
       "      <td>26.000000</td>\n",
       "      <td>3350.060000</td>\n",
       "      <td>99995.030000</td>\n",
       "      <td>2019.671602</td>\n",
       "    </tr>\n",
       "  </tbody>\n",
       "</table>\n",
       "</div>"
      ],
      "text/plain": [
       "                age  days_since_last_login  avg_time_spent  \\\n",
       "count  19919.000000           19919.000000    19919.000000   \n",
       "mean      36.884432             -39.216527      244.134926   \n",
       "std       15.917311             223.274420      403.910806   \n",
       "min       10.000000            -999.000000    -2180.780796   \n",
       "25%       23.000000               8.000000       59.360000   \n",
       "50%       37.000000              12.000000      161.240000   \n",
       "75%       51.000000              16.000000      354.195000   \n",
       "max       64.000000              26.000000     3350.060000   \n",
       "\n",
       "       avg_transaction_value  points_in_wallet  \n",
       "count           19919.000000      19919.000000  \n",
       "mean            29318.122196        685.968794  \n",
       "std             19507.775429        182.438697  \n",
       "min               803.710000       -465.289977  \n",
       "25%             14236.200000        624.480000  \n",
       "50%             27564.050000        685.968794  \n",
       "75%             40969.400000        757.855000  \n",
       "max             99995.030000       2019.671602  "
      ]
     },
     "execution_count": 14,
     "metadata": {},
     "output_type": "execute_result"
    }
   ],
   "source": [
    "df.describe()"
   ]
  },
  {
   "cell_type": "code",
   "execution_count": 15,
   "metadata": {},
   "outputs": [],
   "source": [
    "df['points_in_wallet'] = df['points_in_wallet'].apply(lambda x:0 if x <=0 else x)"
   ]
  },
  {
   "cell_type": "code",
   "execution_count": 16,
   "metadata": {},
   "outputs": [],
   "source": [
    "df['days_since_last_login'] = df['days_since_last_login'].apply(lambda x:0 if x <=0 else x)"
   ]
  },
  {
   "cell_type": "code",
   "execution_count": 17,
   "metadata": {},
   "outputs": [],
   "source": [
    "df['avg_time_spent'] = df['avg_time_spent'].apply(lambda x:0 if x <=0 else x)"
   ]
  },
  {
   "cell_type": "code",
   "execution_count": 18,
   "metadata": {},
   "outputs": [
    {
     "data": {
      "text/plain": [
       "<AxesSubplot:>"
      ]
     },
     "execution_count": 18,
     "metadata": {},
     "output_type": "execute_result"
    },
    {
     "data": {
      "image/png": "[encoded data removed]",
      "text/plain": [
       "<Figure size 432x288 with 2 Axes>"
      ]
     },
     "metadata": {},
     "output_type": "display_data"
    }
   ],
   "source": [
    "sns.heatmap(df.corr(), annot=True)"
   ]
  },
  {
   "cell_type": "code",
   "execution_count": 19,
   "metadata": {},
   "outputs": [
    {
     "data": {
      "text/html": [
       "<div>\n",
       "<style scoped>\n",
       "    .dataframe tbody tr th:only-of-type {\n",
       "        vertical-align: middle;\n",
       "    }\n",
       "\n",
       "    .dataframe tbody tr th {\n",
       "        vertical-align: top;\n",
       "    }\n",
       "\n",
       "    .dataframe thead th {\n",
       "        text-align: right;\n",
       "    }\n",
       "</style>\n",
       "<table border=\"1\" class=\"dataframe\">\n",
       "  <thead>\n",
       "    <tr style=\"text-align: right;\">\n",
       "      <th></th>\n",
       "      <th>age</th>\n",
       "      <th>days_since_last_login</th>\n",
       "      <th>avg_time_spent</th>\n",
       "      <th>avg_transaction_value</th>\n",
       "      <th>points_in_wallet</th>\n",
       "    </tr>\n",
       "  </thead>\n",
       "  <tbody>\n",
       "    <tr>\n",
       "      <th>count</th>\n",
       "      <td>19919.000000</td>\n",
       "      <td>19919.000000</td>\n",
       "      <td>19919.000000</td>\n",
       "      <td>19919.000000</td>\n",
       "      <td>19919.000000</td>\n",
       "    </tr>\n",
       "    <tr>\n",
       "      <th>mean</th>\n",
       "      <td>36.884432</td>\n",
       "      <td>12.039962</td>\n",
       "      <td>279.739197</td>\n",
       "      <td>29318.122196</td>\n",
       "      <td>686.395313</td>\n",
       "    </tr>\n",
       "    <tr>\n",
       "      <th>std</th>\n",
       "      <td>15.917311</td>\n",
       "      <td>6.058780</td>\n",
       "      <td>336.878461</td>\n",
       "      <td>19507.775429</td>\n",
       "      <td>180.522932</td>\n",
       "    </tr>\n",
       "    <tr>\n",
       "      <th>min</th>\n",
       "      <td>10.000000</td>\n",
       "      <td>0.000000</td>\n",
       "      <td>0.000000</td>\n",
       "      <td>803.710000</td>\n",
       "      <td>0.000000</td>\n",
       "    </tr>\n",
       "    <tr>\n",
       "      <th>25%</th>\n",
       "      <td>23.000000</td>\n",
       "      <td>8.000000</td>\n",
       "      <td>59.360000</td>\n",
       "      <td>14236.200000</td>\n",
       "      <td>624.480000</td>\n",
       "    </tr>\n",
       "    <tr>\n",
       "      <th>50%</th>\n",
       "      <td>37.000000</td>\n",
       "      <td>12.000000</td>\n",
       "      <td>161.240000</td>\n",
       "      <td>27564.050000</td>\n",
       "      <td>685.968794</td>\n",
       "    </tr>\n",
       "    <tr>\n",
       "      <th>75%</th>\n",
       "      <td>51.000000</td>\n",
       "      <td>16.000000</td>\n",
       "      <td>354.195000</td>\n",
       "      <td>40969.400000</td>\n",
       "      <td>757.855000</td>\n",
       "    </tr>\n",
       "    <tr>\n",
       "      <th>max</th>\n",
       "      <td>64.000000</td>\n",
       "      <td>26.000000</td>\n",
       "      <td>3350.060000</td>\n",
       "      <td>99995.030000</td>\n",
       "      <td>2019.671602</td>\n",
       "    </tr>\n",
       "  </tbody>\n",
       "</table>\n",
       "</div>"
      ],
      "text/plain": [
       "                age  days_since_last_login  avg_time_spent  \\\n",
       "count  19919.000000           19919.000000    19919.000000   \n",
       "mean      36.884432              12.039962      279.739197   \n",
       "std       15.917311               6.058780      336.878461   \n",
       "min       10.000000               0.000000        0.000000   \n",
       "25%       23.000000               8.000000       59.360000   \n",
       "50%       37.000000              12.000000      161.240000   \n",
       "75%       51.000000              16.000000      354.195000   \n",
       "max       64.000000              26.000000     3350.060000   \n",
       "\n",
       "       avg_transaction_value  points_in_wallet  \n",
       "count           19919.000000      19919.000000  \n",
       "mean            29318.122196        686.395313  \n",
       "std             19507.775429        180.522932  \n",
       "min               803.710000          0.000000  \n",
       "25%             14236.200000        624.480000  \n",
       "50%             27564.050000        685.968794  \n",
       "75%             40969.400000        757.855000  \n",
       "max             99995.030000       2019.671602  "
      ]
     },
     "execution_count": 19,
     "metadata": {},
     "output_type": "execute_result"
    }
   ],
   "source": [
    "df.describe()"
   ]
  },
  {
   "cell_type": "code",
   "execution_count": 20,
   "metadata": {},
   "outputs": [
    {
     "data": {
      "text/plain": [
       "<AxesSubplot:xlabel='gender', ylabel='count'>"
      ]
     },
     "execution_count": 20,
     "metadata": {},
     "output_type": "execute_result"
    },
    {
     "data": {
      "image/png": "[encoded data removed]",
      "text/plain": [
       "<Figure size 432x288 with 1 Axes>"
      ]
     },
     "metadata": {},
     "output_type": "display_data"
    }
   ],
   "source": [
    "sns.countplot(x='gender', data=df)"
   ]
  },
  {
   "cell_type": "code",
   "execution_count": 21,
   "metadata": {},
   "outputs": [],
   "source": [
    "dummy1 = pd.get_dummies(df['gender'], drop_first=True)"
   ]
  },
  {
   "cell_type": "code",
   "execution_count": 22,
   "metadata": {},
   "outputs": [],
   "source": [
    "dummy2 = pd.get_dummies(df['region_category'], drop_first=True)\n",
    "dummy3 = pd.get_dummies(df['membership_category'], drop_first=True)\n",
    "dummy4 = pd.get_dummies(df['joined_through_referral'], drop_first=True)\n",
    "dummy5 = pd.get_dummies(df['preferred_offer_types'], drop_first=True)\n",
    "dummy6 = pd.get_dummies(df['used_special_discount'], drop_first=True)\n",
    "dummy7 = pd.get_dummies(df['offer_application_preference'], drop_first=True)\n",
    "dummy8 = pd.get_dummies(df['past_complaint'], drop_first=True)\n",
    "dummy9 = pd.get_dummies(df['complaint_status'], drop_first=True)\n",
    "dummy10 = pd.get_dummies(df['feedback'], drop_first=True)"
   ]
  },
  {
   "cell_type": "code",
   "execution_count": 23,
   "metadata": {},
   "outputs": [],
   "source": [
    "df = df.drop(['customer_id','gender','region_category','membership_category','joined_through_referral',\n",
    "               'preferred_offer_types','used_special_discount','offer_application_preference',\n",
    "              'past_complaint','complaint_status','feedback','avg_frequency_login_days',\n",
    "              'last_visit_time','internet_option','medium_of_operation','referral_id',\n",
    "              'security_no','Name'], axis=1)"
   ]
  },
  {
   "cell_type": "code",
   "execution_count": 24,
   "metadata": {},
   "outputs": [],
   "source": [
    "df_new = pd.concat([df,dummy1,dummy2,dummy3,dummy4,dummy5,dummy6,dummy7,dummy8,dummy9,dummy10],axis=1)"
   ]
  },
  {
   "cell_type": "code",
   "execution_count": 25,
   "metadata": {},
   "outputs": [],
   "source": [
    "import datetime as dt\n",
    "df_new['Date'] = pd.to_datetime(df_new['joining_date'])\n",
    "df_new['Year'] = df_new['Date'].dt.year\n",
    "df_new['Month'] = df_new['Date'].dt.month\n",
    "df_new['Day'] = df_new['Date'].dt.day"
   ]
  },
  {
   "cell_type": "code",
   "execution_count": 26,
   "metadata": {},
   "outputs": [],
   "source": [
    "df_new = df_new.drop(['joining_date', 'Date'], axis=1)"
   ]
  },
  {
   "cell_type": "code",
   "execution_count": 27,
   "metadata": {},
   "outputs": [
    {
     "data": {
      "text/plain": [
       "Index(['age', 'days_since_last_login', 'avg_time_spent',\n",
       "       'avg_transaction_value', 'points_in_wallet', 'M', 'Unknown', 'Town',\n",
       "       'Village', 'Gold Membership', 'No Membership', 'Platinum Membership',\n",
       "       'Premium Membership', 'Silver Membership', 'Yes',\n",
       "       'Gift Vouchers/Coupons', 'Without Offers', 'Yes', 'Yes', 'Yes',\n",
       "       'Not Applicable', 'Solved', 'Solved in Follow-up', 'Unsolved',\n",
       "       'Poor Customer Service', 'Poor Product Quality', 'Poor Website',\n",
       "       'Products always in Stock', 'Quality Customer Care', 'Reasonable Price',\n",
       "       'Too many ads', 'User Friendly Website', 'Year', 'Month', 'Day'],\n",
       "      dtype='object')"
      ]
     },
     "execution_count": 27,
     "metadata": {},
     "output_type": "execute_result"
    }
   ],
   "source": [
    "df_new.columns"
   ]
  },
  {
   "cell_type": "code",
   "execution_count": 28,
   "metadata": {},
   "outputs": [],
   "source": [
    "df_new = df_new[['age', 'Year', 'Month', 'Day', 'days_since_last_login', 'avg_time_spent', 'avg_transaction_value', 'points_in_wallet',\n",
    "       'Year', 'Month', 'Day', 'M', 'Unknown', 'Town', 'Village',\n",
    "       'Gold Membership', 'No Membership', 'Platinum Membership',\n",
    "       'Premium Membership', 'Silver Membership', 'Yes',\n",
    "       'Gift Vouchers/Coupons', 'Without Offers', 'Yes', 'Yes', 'Yes',\n",
    "       'Not Applicable', 'Solved', 'Solved in Follow-up', 'Unsolved',\n",
    "       'Poor Customer Service', 'Poor Product Quality', 'Poor Website',\n",
    "       'Products always in Stock', 'Quality Customer Care', 'Reasonable Price',\n",
    "       'Too many ads', 'User Friendly Website']]"
   ]
  },
  {
   "cell_type": "code",
   "execution_count": 29,
   "metadata": {
    "scrolled": true
   },
   "outputs": [
    {
     "data": {
      "text/html": [
       "<div>\n",
       "<style scoped>\n",
       "    .dataframe tbody tr th:only-of-type {\n",
       "        vertical-align: middle;\n",
       "    }\n",
       "\n",
       "    .dataframe tbody tr th {\n",
       "        vertical-align: top;\n",
       "    }\n",
       "\n",
       "    .dataframe thead th {\n",
       "        text-align: right;\n",
       "    }\n",
       "</style>\n",
       "<table border=\"1\" class=\"dataframe\">\n",
       "  <thead>\n",
       "    <tr style=\"text-align: right;\">\n",
       "      <th></th>\n",
       "      <th>age</th>\n",
       "      <th>Year</th>\n",
       "      <th>Month</th>\n",
       "      <th>Day</th>\n",
       "      <th>days_since_last_login</th>\n",
       "      <th>avg_time_spent</th>\n",
       "      <th>avg_transaction_value</th>\n",
       "      <th>points_in_wallet</th>\n",
       "      <th>Year</th>\n",
       "      <th>Month</th>\n",
       "      <th>...</th>\n",
       "      <th>Solved in Follow-up</th>\n",
       "      <th>Unsolved</th>\n",
       "      <th>Poor Customer Service</th>\n",
       "      <th>Poor Product Quality</th>\n",
       "      <th>Poor Website</th>\n",
       "      <th>Products always in Stock</th>\n",
       "      <th>Quality Customer Care</th>\n",
       "      <th>Reasonable Price</th>\n",
       "      <th>Too many ads</th>\n",
       "      <th>User Friendly Website</th>\n",
       "    </tr>\n",
       "  </thead>\n",
       "  <tbody>\n",
       "    <tr>\n",
       "      <th>0</th>\n",
       "      <td>50</td>\n",
       "      <td>2015</td>\n",
       "      <td>11</td>\n",
       "      <td>2</td>\n",
       "      <td>12</td>\n",
       "      <td>386.26</td>\n",
       "      <td>40721.44</td>\n",
       "      <td>733.830000</td>\n",
       "      <td>2015</td>\n",
       "      <td>11</td>\n",
       "      <td>...</td>\n",
       "      <td>0</td>\n",
       "      <td>0</td>\n",
       "      <td>0</td>\n",
       "      <td>1</td>\n",
       "      <td>0</td>\n",
       "      <td>0</td>\n",
       "      <td>0</td>\n",
       "      <td>0</td>\n",
       "      <td>0</td>\n",
       "      <td>0</td>\n",
       "    </tr>\n",
       "    <tr>\n",
       "      <th>1</th>\n",
       "      <td>41</td>\n",
       "      <td>2016</td>\n",
       "      <td>3</td>\n",
       "      <td>1</td>\n",
       "      <td>11</td>\n",
       "      <td>37.80</td>\n",
       "      <td>9644.40</td>\n",
       "      <td>726.000000</td>\n",
       "      <td>2016</td>\n",
       "      <td>3</td>\n",
       "      <td>...</td>\n",
       "      <td>0</td>\n",
       "      <td>0</td>\n",
       "      <td>0</td>\n",
       "      <td>0</td>\n",
       "      <td>1</td>\n",
       "      <td>0</td>\n",
       "      <td>0</td>\n",
       "      <td>0</td>\n",
       "      <td>0</td>\n",
       "      <td>0</td>\n",
       "    </tr>\n",
       "    <tr>\n",
       "      <th>2</th>\n",
       "      <td>31</td>\n",
       "      <td>2017</td>\n",
       "      <td>3</td>\n",
       "      <td>3</td>\n",
       "      <td>18</td>\n",
       "      <td>215.36</td>\n",
       "      <td>3693.25</td>\n",
       "      <td>713.780000</td>\n",
       "      <td>2017</td>\n",
       "      <td>3</td>\n",
       "      <td>...</td>\n",
       "      <td>1</td>\n",
       "      <td>0</td>\n",
       "      <td>0</td>\n",
       "      <td>0</td>\n",
       "      <td>0</td>\n",
       "      <td>0</td>\n",
       "      <td>0</td>\n",
       "      <td>0</td>\n",
       "      <td>0</td>\n",
       "      <td>0</td>\n",
       "    </tr>\n",
       "    <tr>\n",
       "      <th>3</th>\n",
       "      <td>64</td>\n",
       "      <td>2017</td>\n",
       "      <td>8</td>\n",
       "      <td>18</td>\n",
       "      <td>0</td>\n",
       "      <td>44.57</td>\n",
       "      <td>36809.56</td>\n",
       "      <td>744.970000</td>\n",
       "      <td>2017</td>\n",
       "      <td>8</td>\n",
       "      <td>...</td>\n",
       "      <td>0</td>\n",
       "      <td>0</td>\n",
       "      <td>0</td>\n",
       "      <td>0</td>\n",
       "      <td>0</td>\n",
       "      <td>0</td>\n",
       "      <td>0</td>\n",
       "      <td>0</td>\n",
       "      <td>1</td>\n",
       "      <td>0</td>\n",
       "    </tr>\n",
       "    <tr>\n",
       "      <th>4</th>\n",
       "      <td>16</td>\n",
       "      <td>2015</td>\n",
       "      <td>5</td>\n",
       "      <td>5</td>\n",
       "      <td>6</td>\n",
       "      <td>349.88</td>\n",
       "      <td>40675.86</td>\n",
       "      <td>299.048351</td>\n",
       "      <td>2015</td>\n",
       "      <td>5</td>\n",
       "      <td>...</td>\n",
       "      <td>1</td>\n",
       "      <td>0</td>\n",
       "      <td>0</td>\n",
       "      <td>0</td>\n",
       "      <td>1</td>\n",
       "      <td>0</td>\n",
       "      <td>0</td>\n",
       "      <td>0</td>\n",
       "      <td>0</td>\n",
       "      <td>0</td>\n",
       "    </tr>\n",
       "  </tbody>\n",
       "</table>\n",
       "<p>5 rows × 50 columns</p>\n",
       "</div>"
      ],
      "text/plain": [
       "   age  Year  Month  Day  days_since_last_login  avg_time_spent  \\\n",
       "0   50  2015     11    2                     12          386.26   \n",
       "1   41  2016      3    1                     11           37.80   \n",
       "2   31  2017      3    3                     18          215.36   \n",
       "3   64  2017      8   18                      0           44.57   \n",
       "4   16  2015      5    5                      6          349.88   \n",
       "\n",
       "   avg_transaction_value  points_in_wallet  Year  Month  ...  \\\n",
       "0               40721.44        733.830000  2015     11  ...   \n",
       "1                9644.40        726.000000  2016      3  ...   \n",
       "2                3693.25        713.780000  2017      3  ...   \n",
       "3               36809.56        744.970000  2017      8  ...   \n",
       "4               40675.86        299.048351  2015      5  ...   \n",
       "\n",
       "   Solved in Follow-up  Unsolved  Poor Customer Service  Poor Product Quality  \\\n",
       "0                    0         0                      0                     1   \n",
       "1                    0         0                      0                     0   \n",
       "2                    1         0                      0                     0   \n",
       "3                    0         0                      0                     0   \n",
       "4                    1         0                      0                     0   \n",
       "\n",
       "   Poor Website  Products always in Stock  Quality Customer Care  \\\n",
       "0             0                         0                      0   \n",
       "1             1                         0                      0   \n",
       "2             0                         0                      0   \n",
       "3             0                         0                      0   \n",
       "4             1                         0                      0   \n",
       "\n",
       "   Reasonable Price  Too many ads  User Friendly Website  \n",
       "0                 0             0                      0  \n",
       "1                 0             0                      0  \n",
       "2                 0             0                      0  \n",
       "3                 0             1                      0  \n",
       "4                 0             0                      0  \n",
       "\n",
       "[5 rows x 50 columns]"
      ]
     },
     "execution_count": 29,
     "metadata": {},
     "output_type": "execute_result"
    }
   ],
   "source": [
    "df_new.head()"
   ]
  },
  {
   "cell_type": "markdown",
   "metadata": {},
   "source": [
    "## Standardising the test data"
   ]
  },
  {
   "cell_type": "code",
   "execution_count": 30,
   "metadata": {},
   "outputs": [],
   "source": [
    "from sklearn.preprocessing import MinMaxScaler"
   ]
  },
  {
   "cell_type": "code",
   "execution_count": 31,
   "metadata": {},
   "outputs": [],
   "source": [
    "norm = MinMaxScaler().fit(df_new)\n",
    "df_new_trans = norm.transform(df_new)"
   ]
  },
  {
   "cell_type": "markdown",
   "metadata": {},
   "source": [
    "### Loading the model and prediction"
   ]
  },
  {
   "cell_type": "code",
   "execution_count": 32,
   "metadata": {},
   "outputs": [],
   "source": [
    "import pickle\n",
    "model = pickle.load(open('Churn_risk_rate.sav', 'rb'))"
   ]
  },
  {
   "cell_type": "code",
   "execution_count": 33,
   "metadata": {},
   "outputs": [],
   "source": [
    "prediction = model.predict(df_new_trans)"
   ]
  },
  {
   "cell_type": "code",
   "execution_count": 35,
   "metadata": {},
   "outputs": [],
   "source": [
    "result = pd.DataFrame(prediction,columns=['churn_risk_score'])"
   ]
  },
  {
   "cell_type": "code",
   "execution_count": 36,
   "metadata": {},
   "outputs": [],
   "source": [
    "df1 = pd.read_csv('test.csv')"
   ]
  },
  {
   "cell_type": "code",
   "execution_count": 37,
   "metadata": {},
   "outputs": [],
   "source": [
    "df_subm = pd.concat([df1['customer_id'],result], axis=1) # creating new dataframe using customer id and prediction as required"
   ]
  },
  {
   "cell_type": "code",
   "execution_count": 38,
   "metadata": {},
   "outputs": [
    {
     "data": {
      "text/html": [
       "<div>\n",
       "<style scoped>\n",
       "    .dataframe tbody tr th:only-of-type {\n",
       "        vertical-align: middle;\n",
       "    }\n",
       "\n",
       "    .dataframe tbody tr th {\n",
       "        vertical-align: top;\n",
       "    }\n",
       "\n",
       "    .dataframe thead th {\n",
       "        text-align: right;\n",
       "    }\n",
       "</style>\n",
       "<table border=\"1\" class=\"dataframe\">\n",
       "  <thead>\n",
       "    <tr style=\"text-align: right;\">\n",
       "      <th></th>\n",
       "      <th>customer_id</th>\n",
       "      <th>churn_risk_score</th>\n",
       "    </tr>\n",
       "  </thead>\n",
       "  <tbody>\n",
       "    <tr>\n",
       "      <th>0</th>\n",
       "      <td>fffe43004900440031003700300030003400</td>\n",
       "      <td>3</td>\n",
       "    </tr>\n",
       "    <tr>\n",
       "      <th>1</th>\n",
       "      <td>fffe43004900440031003900370037003300</td>\n",
       "      <td>3</td>\n",
       "    </tr>\n",
       "    <tr>\n",
       "      <th>2</th>\n",
       "      <td>fffe43004900440034003800360037003000</td>\n",
       "      <td>3</td>\n",
       "    </tr>\n",
       "    <tr>\n",
       "      <th>3</th>\n",
       "      <td>fffe43004900440036003200370033003400</td>\n",
       "      <td>3</td>\n",
       "    </tr>\n",
       "    <tr>\n",
       "      <th>4</th>\n",
       "      <td>fffe43004900440035003000370031003900</td>\n",
       "      <td>5</td>\n",
       "    </tr>\n",
       "    <tr>\n",
       "      <th>...</th>\n",
       "      <td>...</td>\n",
       "      <td>...</td>\n",
       "    </tr>\n",
       "    <tr>\n",
       "      <th>19914</th>\n",
       "      <td>fffe43004900440035003600330037003800</td>\n",
       "      <td>3</td>\n",
       "    </tr>\n",
       "    <tr>\n",
       "      <th>19915</th>\n",
       "      <td>fffe43004900440032003900370037003100</td>\n",
       "      <td>5</td>\n",
       "    </tr>\n",
       "    <tr>\n",
       "      <th>19916</th>\n",
       "      <td>fffe43004900440036003100310036003700</td>\n",
       "      <td>5</td>\n",
       "    </tr>\n",
       "    <tr>\n",
       "      <th>19917</th>\n",
       "      <td>fffe43004900440034003200330033003600</td>\n",
       "      <td>4</td>\n",
       "    </tr>\n",
       "    <tr>\n",
       "      <th>19918</th>\n",
       "      <td>fffe43004900440036003200340030003100</td>\n",
       "      <td>3</td>\n",
       "    </tr>\n",
       "  </tbody>\n",
       "</table>\n",
       "<p>19919 rows × 2 columns</p>\n",
       "</div>"
      ],
      "text/plain": [
       "                                customer_id  churn_risk_score\n",
       "0      fffe43004900440031003700300030003400                 3\n",
       "1      fffe43004900440031003900370037003300                 3\n",
       "2      fffe43004900440034003800360037003000                 3\n",
       "3      fffe43004900440036003200370033003400                 3\n",
       "4      fffe43004900440035003000370031003900                 5\n",
       "...                                     ...               ...\n",
       "19914  fffe43004900440035003600330037003800                 3\n",
       "19915  fffe43004900440032003900370037003100                 5\n",
       "19916  fffe43004900440036003100310036003700                 5\n",
       "19917  fffe43004900440034003200330033003600                 4\n",
       "19918  fffe43004900440036003200340030003100                 3\n",
       "\n",
       "[19919 rows x 2 columns]"
      ]
     },
     "execution_count": 38,
     "metadata": {},
     "output_type": "execute_result"
    }
   ],
   "source": [
    "df_subm"
   ]
  },
  {
   "cell_type": "code",
   "execution_count": 39,
   "metadata": {},
   "outputs": [],
   "source": [
    "df_subm.to_csv('Churn_risk_final_submission.csv') #storing in a csv file"
   ]
  },
  {
   "cell_type": "code",
   "execution_count": null,
   "metadata": {},
   "outputs": [],
   "source": []
  }
 ],
 "metadata": {
  "kernelspec": {
   "display_name": "Python 3",
   "language": "python",
   "name": "python3"
  },
  "language_info": {
   "codemirror_mode": {
    "name": "ipython",
    "version": 3
   },
   "file_extension": ".py",
   "mimetype": "text/x-python",
   "name": "python",
   "nbconvert_exporter": "python",
   "pygments_lexer": "ipython3",
   "version": "3.8.6"
  }
 },
 "nbformat": 4,
 "nbformat_minor": 4
}
